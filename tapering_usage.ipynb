{
 "cells": [
  {
   "cell_type": "markdown",
   "id": "a501c614",
   "metadata": {},
   "source": [
    "# Qubit Tapering \n",
    "### in the Stabilizer Subspace Projection formalism\n",
    "Here, we take a look at the qubit reduction technique of [tapering](https://arxiv.org/abs/1701.08213) and an implementation based on the core `S3_projection` class. Unlike [Contextual-Subspace VQE](https://doi.org/10.22331/q-2021-05-14-456), this technique is *exact*, in the sense that it perfectly preserves the energy spectrum of the input operator.\n",
    "\n",
    "At the core of qubit tapering is a symmetry of the Hamiltonian, which in this case means a set of universally commuting operators. The idea is that these operators must be simultaneously measureable and so can be treated independently of the remaining Hamiltonian terms. The method works by finding an independent generating set for the symmetry and seeks to find the 'correct' assignment of eigenvalues (called a *sector*), which completely determines the measurement outcome of the symmetry operators. Once this is obtained, the theory of stabilizers allows us to rotate the symmetry generators onto single Pauli $X$ operators, and since they must commute universally every operator of the rotated Hamiltonian will consist of an identity or Pauli $X$ in the corresponding qubit position. This means we can drop the qubit from the Hamiltonian, leaving in its place the eigenvalue determined by the chosen sector."
   ]
  },
  {
   "cell_type": "code",
   "execution_count": 1,
   "id": "686e5fd7",
   "metadata": {},
   "outputs": [],
   "source": [
    "import numpy as np\n",
    "import openfermion as of\n",
    "import openfermionpyscf as ofpyscf\n",
    "import qondense.utils.qonversion_tools as qonvert\n",
    "from qondense.tapering import tapering\n",
    "from qondense.utils.operator_toolkit import exact_gs_energy, plot_ground_state_amplitudes"
   ]
  },
  {
   "cell_type": "markdown",
   "id": "0a3e3b13",
   "metadata": {},
   "source": [
    "First, we shall construct a molecule using OpenFermion with PySCF the underlying quantum chemistry package. The resulting fermionic operator will be mapped onto qubits via the Jordan-Wigner transformation."
   ]
  },
  {
   "cell_type": "code",
   "execution_count": 2,
   "id": "6911bce8",
   "metadata": {},
   "outputs": [
    {
     "name": "stdout",
     "output_type": "stream",
     "text": [
      "Jordan-Wigner Hamiltonian:\n",
      "\n",
      " {'IIIIIIII': (-1.0811274948287173+0j), 'ZIIIIIII': (0.06459637602166574+0j), 'YZZZZZYI': (-0.014314043573277138+0j), 'XZZZZZXI': (-0.014314043573277138+0j), 'IZIIIIII': (0.06459637602166574+0j), 'IYZZZZZY': (-0.014314043573277133+0j), 'IXZZZZZX': (-0.014314043573277133+0j), 'IIZIIIII': (0.03757987407097262+0j), 'IIIZIIII': (0.03757987407097263+0j), 'IIIIZIII': (0.037579874070972644+0j), 'IIIIIZII': (0.0375798740709727+0j), 'IIIIIIZI': (0.013794448896003772+0j), 'IIIIIIIZ': (0.013794448896003779+0j), 'ZZIIIIII': (0.09088527438140584+0j), 'YIZZZZYI': (0.01366455328420774+0j), 'XIZZZZXI': (0.01366455328420774+0j), 'YXXYIIII': (0.01894231869971837+0j), 'YYXXIIII': (-0.01894231869971837+0j), 'XXYYIIII': (-0.01894231869971837+0j), 'XYYXIIII': (0.01894231869971837+0j), 'YXIIXYII': (0.05724315606459453+0j), 'YYIIXXII': (-0.05724315606459453+0j), 'XXIIYYII': (-0.05724315606459453+0j), 'XYIIYXII': (0.05724315606459453+0j), 'ZYZZZZZY': (0.01366455328420774+0j), 'ZXZZZZZX': (0.01366455328420774+0j), 'YXIIIIXY': (0.02356531427456288+0j), 'YYIIIIXX': (-0.02356531427456288+0j), 'XXIIIIYY': (-0.02356531427456288+0j), 'XYIIIIYX': (0.02356531427456288+0j), 'ZIZIIIII': (0.04988872339990407+0j), 'YZIZZZYI': (0.006724401693978346+0j), 'XZIZZZXI': (0.006724401693978346+0j), 'ZIIZIIII': (0.06883104209962243+0j), 'YZZIZZYI': (-0.026686233009990998+0j), 'XZZIZZXI': (-0.026686233009990998+0j), 'YZYYZZZY': (0.03341063470396935+0j), 'YZYXZZZX': (0.03341063470396935+0j), 'XZXYZZZY': (0.03341063470396935+0j), 'XZXXZZZX': (0.03341063470396935+0j), 'ZIIIZIII': (0.042205098158696955+0j), 'YZZZIZYI': (-0.006910563421449661+0j), 'XZZZIZXI': (-0.006910563421449661+0j), 'ZIIIIZII': (0.09944825422329151+0j), 'YZZZZIYI': (0.02764549272267929+0j), 'XZZZZIXI': (0.02764549272267929+0j), 'YZZZYYZY': (-0.03455605614412895+0j), 'YZZZYXZX': (-0.03455605614412895+0j), 'XZZZXYZY': (-0.03455605614412895+0j), 'XZZZXXZX': (-0.03455605614412895+0j), 'ZIIIIIZI': (0.053818870005657646+0j), 'ZIIIIIIZ': (0.07738418428022054+0j), 'YZZZZZYZ': (-0.012718163506993266+0j), 'XZZZZZXZ': (-0.012718163506993266+0j), 'IZZIIIII': (0.06883104209962243+0j), 'IYIZZZZY': (-0.026686233009990998+0j), 'IXIZZZZX': (-0.026686233009990998+0j), 'IYXXZZYI': (0.03341063470396935+0j), 'IYYXZZXI': (-0.03341063470396935+0j), 'IXXYZZYI': (-0.03341063470396935+0j), 'IXYYZZXI': (0.03341063470396935+0j), 'IZIZIIII': (0.04988872339990407+0j), 'IYZIZZZY': (0.006724401693978346+0j), 'IXZIZZZX': (0.006724401693978346+0j), 'IZIIZIII': (0.09944825422329151+0j), 'IYZZIZZY': (0.02764549272267929+0j), 'IXZZIZZX': (0.02764549272267929+0j), 'IYZZXXYI': (-0.03455605614412895+0j), 'IYZZYXXI': (0.03455605614412895+0j), 'IXZZXYYI': (0.03455605614412895+0j), 'IXZZYYXI': (-0.03455605614412895+0j), 'IZIIIZII': (0.042205098158696955+0j), 'IYZZZIZY': (-0.006910563421449661+0j), 'IXZZZIZX': (-0.006910563421449661+0j), 'IZIIIIZI': (0.07738418428022054+0j), 'IYZZZZIY': (-0.012718163506993268+0j), 'IXZZZZIX': (-0.012718163506993268+0j), 'IZIIIIIZ': (0.053818870005657646+0j), 'IIZZIIII': (0.11637703124315693+0j), 'IIYXXYII': (7.081367879457587e-05+0j), 'IIYYXXII': (-7.081367879457587e-05+0j), 'IIXXYYII': (-7.081367879457587e-05+0j), 'IIXYYXII': (7.081367879457587e-05+0j), 'IIYXIIXY': (0.05927576188395211+0j), 'IIYYIIXX': (-0.05927576188395211+0j), 'IIXXIIYY': (-0.05927576188395211+0j), 'IIXYIIYX': (0.05927576188395211+0j), 'IIZIZIII': (0.05357256334585816+0j), 'IIZIIZII': (0.05364337702465274+0j), 'IIZIIIZI': (0.04187474515731869+0j), 'IIZIIIIZ': (0.10115050704127079+0j), 'IIIZZIII': (0.05364337702465274+0j), 'IIIZIZII': (0.05357256334585816+0j), 'IIIZIIZI': (0.10115050704127079+0j), 'IIIZIIIZ': (0.04187474515731869+0j), 'IIIIZZII': (0.11637703124315694+0j), 'IIIIYXXY': (0.02097492451907587+0j), 'IIIIYYXX': (-0.02097492451907587+0j), 'IIIIXXYY': (-0.02097492451907587+0j), 'IIIIXYYX': (0.02097492451907587+0j), 'IIIIZIZI': (0.049558370398525814+0j), 'IIIIZIIZ': (0.07053329491760169+0j), 'IIIIIZZI': (0.07053329491760169+0j), 'IIIIIZIZ': (0.049558370398525814+0j), 'IIIIIIZZ': (0.09424410336976273+0j)}\n"
     ]
    }
   ],
   "source": [
    "# Two examples are provided -- comment out as necessary\n",
    "\n",
    "# One for which Hartree-Fock identifies the correct symmetry sector...\n",
    "#geometry=[\n",
    "#    (\"O\",(0,0,0)),\n",
    "#    (\"H\",(0.952519,0,0)),\n",
    "#    (\"H\",(-0.246530058,0.9200627021,0))\n",
    "#]\n",
    "\n",
    "# ...and one for which it does not.\n",
    "geometry=[\n",
    "    ('H', (0.0,0.0,0.0)),\n",
    "    ('H', (2.45366053071732,0.0,0.0)),\n",
    "    ('H', (2.45366053071732,2.45366053071732,0.0)),\n",
    "    ('H', (0.0,2.45366053071732,0.0))\n",
    "     ]    \n",
    "    \n",
    "basis = 'sto-3g'\n",
    "multiplicity = 1\n",
    "charge = 0\n",
    "\n",
    "molecule_data = of.MolecularData(geometry, basis, multiplicity, charge)\n",
    "#molecule.load()\n",
    "\n",
    "# Run pyscf.\n",
    "molecule = ofpyscf.run_pyscf(molecule_data,\n",
    "                     run_scf=1,run_mp2=1,run_cisd=1,run_ccsd=1,run_fci=1)\n",
    "\n",
    "n_qubits    = 2*molecule.n_orbitals\n",
    "n_electrons = molecule.n_electrons\n",
    "\n",
    "ham_fermionic = of.get_fermion_operator(molecule.get_molecular_hamiltonian())\n",
    "ham_jw = of.jordan_wigner(ham_fermionic)\n",
    "\n",
    "ham_dict = qonvert.QubitOperator_to_dict(ham_jw, n_qubits)\n",
    "\n",
    "print('Jordan-Wigner Hamiltonian:\\n\\n', ham_dict)"
   ]
  },
  {
   "cell_type": "markdown",
   "id": "e489c7df",
   "metadata": {},
   "source": [
    "In order to initialise our `tapering` class, we also need to supply a reference state, along with the molecular Hamiltonian. Under the Jordan-Wigner transformation, the Hartree-Fock state for our $M$-electron, $N$-orbital molecular system with charge=0 and multiplicity=1 will be \n",
    "\n",
    "$$|\\mathrm{HF}\\rangle = |\\underbrace{1 \\dots 1}_{M \\,\\text{times}}\\; \\underbrace{0 \\dots 0}_{N-M \\,\\text{times}} \\rangle.$$\n",
    "\n",
    "Note that OpenFermion fills orbital occupations from the left... this will not always be the case! For example, if using Qiskit or some other quantum computing package the Hartree-Fock state will not look the same."
   ]
  },
  {
   "cell_type": "code",
   "execution_count": 3,
   "id": "bc6cedc3",
   "metadata": {},
   "outputs": [
    {
     "name": "stdout",
     "output_type": "stream",
     "text": [
      "The Hartree-Fock state is |11110000>\n"
     ]
    }
   ],
   "source": [
    "hf_state = [1 for i in range(n_electrons)]+[0 for i in range(n_qubits-n_electrons)]\n",
    "hf_string = ''.join([str(i) for i in hf_state])\n",
    "print(f'The Hartree-Fock state is |{hf_string}>')"
   ]
  },
  {
   "cell_type": "markdown",
   "id": "5fdc55eb",
   "metadata": {},
   "source": [
    "We are now in a position to initialize our `tapering` class, which will identify a set of independent operators that generate the Hamiltonian symmetry and the symmetry sector corresponding with the reference state (in this case Hartree-Fock). The sector is obtained by measuring each symmetry generator with respect to the reference state, yielding a $\\pm1$ eigenvalue."
   ]
  },
  {
   "cell_type": "code",
   "execution_count": 4,
   "id": "5963fccb",
   "metadata": {},
   "outputs": [
    {
     "name": "stdout",
     "output_type": "stream",
     "text": [
      "We are able to taper 4 qubits from the Hamiltonian.\n",
      "The symmetry generators are ['ZIIZIZZI', 'IZIZIZIZ', 'IIZZIIII', 'IIIIZZII']\n",
      "and the sector arising from the chosen reference state is [1, 1, 1, 1].\n"
     ]
    }
   ],
   "source": [
    "taper_hamiltonian = tapering(hamiltonian=ham_dict, \n",
    "                             ref_state=hf_state)\n",
    "\n",
    "print(f'We are able to taper {taper_hamiltonian.n_taper} qubits from the Hamiltonian.')\n",
    "print(f'The symmetry generators are {taper_hamiltonian.symmetry_ops}')\n",
    "print(f'and the sector arising from the chosen reference state is {taper_hamiltonian.symmetry_sec}.')"
   ]
  },
  {
   "cell_type": "markdown",
   "id": "4e68f1b2",
   "metadata": {},
   "source": [
    "This is everything we need to go ahead and perform the tapering process, which is effected by the `taper_it()` method that calls on the parent `S3_projection` class."
   ]
  },
  {
   "cell_type": "code",
   "execution_count": 5,
   "id": "b9ca5294",
   "metadata": {},
   "outputs": [
    {
     "name": "stdout",
     "output_type": "stream",
     "text": [
      "Tapered Hamiltonian:\n",
      "\n",
      " {'IIII': -0.8483734323424035, 'XIII': -0.01894231869971837, 'IXII': -0.05724315606459453, 'XXII': 0.00014162735758915175, 'IIXI': -0.026382716791201008, 'XIXI': -0.03341063470396935, 'IXXI': 0.03455605614412895, 'IIIX': 0.026382716791201008, 'XIIX': 0.03341063470396935, 'IXIX': -0.03455605614412895, 'XIXX': -0.05927576188395211, 'IXXX': -0.02097492451907587, 'ZIII': 0.07515974814194526, 'IZII': 0.07515974814194534, 'ZZII': 0.3220696207523371, 'YYII': 0.00014162735758915175, 'ZZXI': 0.026382716791201008, 'ZZIX': -0.026382716791201008, 'IIZI': 0.013794448896003772, 'IIZX': 0.014314043573277133, 'ZIZI': 0.2846786045805779, 'ZXZI': 0.05724315606459453, 'YIYI': -0.03341063470396935, 'ZIZX': 0.040696760617242284, 'ZXZX': 0.03455605614412895, 'YIYX': -0.05927576188395211, 'IZZI': 0.238811430815654, 'XZZI': 0.01894231869971837, 'IYYI': 0.03455605614412895, 'IZZX': -0.040696760617242284, 'XZZX': -0.03341063470396935, 'IYYX': -0.02097492451907587, 'ZZZI': 0.06459637602166574, 'ZZZX': -0.014314043573277133, 'IIIZ': 0.013794448896003779, 'IIXZ': -0.014314043573277138, 'ZIIZ': 0.2846786045805779, 'ZXIZ': 0.05724315606459453, 'ZIXZ': -0.040696760617242284, 'ZXXZ': -0.03455605614412895, 'YIIY': 0.03341063470396935, 'YIXY': -0.05927576188395211, 'IZIZ': 0.238811430815654, 'XZIZ': 0.01894231869971837, 'IZXZ': 0.040696760617242284, 'XZXZ': 0.03341063470396935, 'IYIY': -0.03455605614412895, 'IYXY': -0.02097492451907587, 'ZZIZ': 0.06459637602166574, 'ZZXZ': 0.014314043573277138, 'IIZZ': 0.18512937775116856, 'XIZZ': -0.01894231869971837, 'IXZZ': -0.05724315606459453, 'IIYY': -0.04713062854912576, 'XIYY': 0.05927576188395211, 'IXYY': 0.02097492451907587, 'ZZZZ': 0.15476836856044107, 'YZYZ': 0.03341063470396935, 'ZYYZ': -0.03455605614412895, 'YZZY': -0.03341063470396935, 'ZYZY': 0.03455605614412895, 'ZZYY': 0.04713062854912576}\n"
     ]
    }
   ],
   "source": [
    "ham_tap = taper_hamiltonian.taper_it()._dict\n",
    "\n",
    "print('Tapered Hamiltonian:\\n\\n', ham_tap)"
   ]
  },
  {
   "cell_type": "markdown",
   "id": "c5faf4f1",
   "metadata": {},
   "source": [
    "We should also check that the ground state energy of the tapered Hamiltonian mathces that of the full system."
   ]
  },
  {
   "cell_type": "code",
   "execution_count": 6,
   "id": "0f9b322b",
   "metadata": {},
   "outputs": [
    {
     "name": "stdout",
     "output_type": "stream",
     "text": [
      "The ground state energy of the full system is -1.8743108952541767,\n",
      "whereas for the tapered system we find the energy is -1.8643897202426938.\n",
      "The absolute error is 0.00992117501148293.\n"
     ]
    }
   ],
   "source": [
    "#print('Amplitude histogram for the ground state of the full system:')\n",
    "\n",
    "true_gs_energy, true_gs_vec = exact_gs_energy(ham_dict)\n",
    "tap_gs_energy, tap_gs = exact_gs_energy(ham_tap)\n",
    "\n",
    "print(f'The ground state energy of the full system is {true_gs_energy},')\n",
    "print(f'whereas for the tapered system we find the energy is {tap_gs_energy}.')\n",
    "print(f'The absolute error is {tap_gs_energy-true_gs_energy}.')"
   ]
  },
  {
   "cell_type": "markdown",
   "id": "dfdc1db1",
   "metadata": {},
   "source": [
    "Do they match? Depending on the molecule chosen, they might not! One can sometimes find that the Hartree-Fock state does not yield the correct symmetry sector, particularly in the strongly correlated regime."
   ]
  },
  {
   "cell_type": "code",
   "execution_count": 7,
   "id": "4be321b3",
   "metadata": {},
   "outputs": [
    {
     "name": "stdout",
     "output_type": "stream",
     "text": [
      "The Hartree-Fock state has no overlap with the true ground state!\n",
      "Overlap of the Hartree-Fock state with the true ground state: <HF|True GS> = 0.0000000000\n"
     ]
    }
   ],
   "source": [
    "hf_vec = np.eye(1,len(true_gs_vec),int(hf_string,2))\n",
    "hf_overlap = np.square(np.abs(hf_vec.dot(true_gs_vec)))[0]\n",
    "\n",
    "if hf_overlap < 1e-18:\n",
    "    print('The Hartree-Fock state has no overlap with the true ground state!')\n",
    "else:\n",
    "    print('The Hartree-Fock state exhibits non-zero overlap with the true ground state.')\n",
    "print(f'Overlap of the Hartree-Fock state with the true ground state: <HF|True GS> = {hf_overlap:.10f}')"
   ]
  },
  {
   "cell_type": "markdown",
   "id": "cf7f5691",
   "metadata": {},
   "source": [
    "If we instead take the dominant basis state (plotted below in a histogram), we should see that the energies do match in the resulting sector..."
   ]
  },
  {
   "cell_type": "code",
   "execution_count": 8,
   "id": "d8ada21e",
   "metadata": {},
   "outputs": [
    {
     "data": {
      "image/png": "[encoded data removed]",
      "text/plain": [
       "<Figure size 432x288 with 1 Axes>"
      ]
     },
     "metadata": {},
     "output_type": "display_data"
    },
    {
     "name": "stdout",
     "output_type": "stream",
     "text": [
      "In the sector [1, 1, -1, -1], we find the ground state energy to be -1.874310895254168.\n",
      "The absolute error is 4.884981308350689e-15.\n"
     ]
    }
   ],
   "source": [
    "amps, true_gs = plot_ground_state_amplitudes(ham_dict, n_qubits, return_amps=True)\n",
    "taper_hamiltonian_2 = tapering(hamiltonian=ham_dict, \n",
    "                               ref_state=[int(i) for i in amps[0][0]])\n",
    "ham_tap_2 = taper_hamiltonian_2.taper_it()._dict\n",
    "\n",
    "tap_gs_energy_2, tap_gs_2 = exact_gs_energy(ham_tap_2)\n",
    "\n",
    "print(f'In the sector {taper_hamiltonian_2.symmetry_sec}, we find the ground state energy to be {tap_gs_energy_2}.')\n",
    "print(f'The absolute error is {tap_gs_energy_2-true_gs}.')"
   ]
  },
  {
   "cell_type": "markdown",
   "id": "1f182dbb",
   "metadata": {},
   "source": [
    "*The problem is...* \n",
    "\n",
    "we will not in general know how the basis states are distributed in the ground state!\n",
    "\n",
    "The scalability of tapering is highly predicated on finding new approaches to identifying the correct symmetry sector."
   ]
  }
 ],
 "metadata": {
  "kernelspec": {
   "display_name": "Python 3.8.8 64-bit ('base': conda)",
   "language": "python",
   "name": "python388jvsc74a57bd0eb6daa2278837e04e97c2864c4122c1c6cb8f9447a4df97a85e75ca1772ea36c"
  },
  "language_info": {
   "codemirror_mode": {
    "name": "ipython",
    "version": 3
   },
   "file_extension": ".py",
   "mimetype": "text/x-python",
   "name": "python",
   "nbconvert_exporter": "python",
   "pygments_lexer": "ipython3",
   "version": "3.8.8"
  }
 },
 "nbformat": 4,
 "nbformat_minor": 5
}
