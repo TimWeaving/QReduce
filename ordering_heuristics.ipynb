{
 "cells": [
  {
   "cell_type": "code",
   "execution_count": 1,
   "id": "fdaf226e",
   "metadata": {},
   "outputs": [],
   "source": [
    "from qondense.tapering import tapering\n",
    "from qondense.cs_vqe import cs_vqe\n",
    "from qondense.utils.operator_toolkit import exact_gs_energy, plot_ground_state_amplitudes, number_of_qubits\n",
    "import qondense.utils.qonversion_tools as qonvert\n",
    "from qondense.utils.ordering_heuristics import ordering_heuristics\n",
    "import json\n",
    "import numpy as np\n",
    "import openfermion as of\n",
    "import openfermionpyscf as ofpyscf\n",
    "from openfermion.circuits import ( uccsd_singlet_get_packed_amplitudes,\n",
    "                                   uccsd_singlet_generator, uccsd_generator,\n",
    "                                   uccsd_convert_amplitude_format)\n",
    "from itertools import combinations"
   ]
  },
  {
   "cell_type": "code",
   "execution_count": 2,
   "id": "00257224",
   "metadata": {},
   "outputs": [
    {
     "name": "stdout",
     "output_type": "stream",
     "text": [
      "dict_keys(['H2_3-21G_SINGLET', 'H6_STO-3G_SINGLET', 'H2_6-31G_SINGLET', 'H2_6-311G_SINGLET', 'H3+_STO-3G_SINGLET', 'H3+_3-21G_SINGLET', 'HeH+_3-21G_SINGLET', 'HeH+_6-311G_SINGLET', 'H2O_STO-3G_SINGLET', 'BeH+_STO-3G_SINGLET', 'LiH_STO-3G_SINGLET', 'CH+_STO-3G_SINGLET', 'HF_STO-3G_SINGLET', 'B+_STO-3G_SINGLET', 'B_STO-3G_DOUBLET', 'N_STO-3G_QUARTET', 'OH-_STO-3G_SINGLET', 'O_STO-3G_TRIPLET', 'CH2_STO-3G_TRIPLET', 'BeH2_STO-3G_SINGLET', 'Be_STO-3G_SINGLET', 'C_STO-3G_TRIPLET', 'NH_STO-3G_SINGLET', 'Ne_STO-3G_SINGLET', 'F_STO-3G_DOUBLET', 'Li_STO-3G_DOUBLET', 'BH_STO-3G_SINGLET', 'NeH+_STO-3G_SINGLET', 'NH2+_STO-3G_SINGLET', 'BH2+_STO-3G_SINGLET', 'HCl_STO-3G_SINGLET', 'H4_STO-3G_SINGLET', 'NH3_STO-3G_SINGLET', 'F2_STO-3G_SINGLET', 'HCN_STO-3G_SINGLET', 'CH4_STO-3G_SINGLET', 'CH3OH_STO-3G_SINGLET', 'C2H6_STO-3G_SINGLET', 'CH3CN_STO-3G_SINGLET', 'CH3CHO_STO-3G_SINGLET', 'CH3CHOHCH3_STO-3G_SINGLET', 'CHONH2_STO-3G_SINGLET', 'CO2_STO-3G_SINGLET', 'O2_STO-3G_SINGLET', 'O3_STO-3G_SINGLET', 'HOOH_STO-3G_SINGLET', 'NaCl_STO-3G_SINGLET', 'H2S_STO-3G_SINGLET', 'SiH4_STO-3G_SINGLET'])\n"
     ]
    }
   ],
   "source": [
    "with open('data/molecule_geometries/molecule_data.json') as jfile:\n",
    "    molecule_geometries = json.load(jfile)\n",
    "print(molecule_geometries.keys())"
   ]
  },
  {
   "cell_type": "code",
   "execution_count": 17,
   "id": "0173db13",
   "metadata": {},
   "outputs": [],
   "source": [
    "# Set molecule parameters\n",
    "speciesname = 'HF_STO-3G_SINGLET'\n",
    "mol_data = molecule_geometries[speciesname]\n",
    "if 'name' in mol_data:\n",
    "    print(mol_data['name'])\n",
    "    \n",
    "atoms = mol_data['atoms']\n",
    "coords = mol_data['coords']\n",
    "basis = mol_data['basis']\n",
    "multiplicity = mol_data['multiplicity']\n",
    "charge = mol_data['charge']\n",
    "geometry = list(zip(atoms, coords))\n",
    "\n",
    "delete_input = True\n",
    "delete_output = True\n",
    "cisd=1\n",
    "ccsd=1\n",
    "fci =1 # wouldn't advise turning this on over 32 qubits!\n",
    "\n",
    "# Run pyscf.\n",
    "molecule_data = of.MolecularData(geometry, basis, multiplicity, charge)\n",
    "calculated_molecule = ofpyscf.run_pyscf(molecule_data,\n",
    "                     run_scf=1,run_mp2=1,run_cisd=cisd,run_ccsd=ccsd,run_fci=fci)"
   ]
  },
  {
   "cell_type": "code",
   "execution_count": 18,
   "id": "dc85229f",
   "metadata": {},
   "outputs": [
    {
     "name": "stdout",
     "output_type": "stream",
     "text": [
      "------------------------------------------------\n",
      "Information concerning the full system:\n",
      "------------------------------------------------\n",
      "Number of qubits in full problem: 12\n",
      "The Hartree-Fock state is |111111111100>\n",
      "HF   energy = -98.57101107\n",
      "MP2  energy = -98.59198166\n",
      "CISD energy = -98.60330178\n",
      "CCSD energy = -98.60330177\n",
      "FCI energy  = -98.60330178\n",
      "------------------------------------------------\n",
      "Tapering information:\n",
      "------------------------------------------------\n",
      "We are able to taper 4 qubits from the Hamiltonian\n",
      "The symmetry sector is [-1, -1, 1, 1]\n",
      "The tapered Hartree-Fock state is |11111100>\n",
      "------------------------------------------------\n",
      "CS-VQE information:\n",
      "------------------------------------------------\n",
      "Noncontextual GS energy: (-98.57101106797637+0j)\n",
      "Symmetry generators:     ['ZIZIZZZZ', 'IZIZZZZZ', 'IIZIIIZI', 'IIIZZZIZ', 'IIIIZZZZ', 'IIIIIZIZ', 'IIIIIIZZ', 'IIIIIIIZ']\n",
      "Generator eigenvalues:   [ 1  1 -1 -1  1 -1  1  1]\n",
      "------------------------------------------------\n"
     ]
    }
   ],
   "source": [
    "oh = ordering_heuristics(calculated_molecule)"
   ]
  },
  {
   "cell_type": "code",
   "execution_count": 19,
   "id": "136787a3",
   "metadata": {},
   "outputs": [
    {
     "name": "stdout",
     "output_type": "stream",
     "text": [
      "Method:  f \n",
      "------------------------------------------\n",
      "Number of qubits simulated: 1\n",
      "Ground energy: -98.5710110700\n",
      "CS-VQE error w.r.t. HF energy:  -0.0000000020\n",
      "CS-VQE error w.r.t. MP2 energy:  0.0209705856\n",
      "CS-VQE error w.r.t. CISD energy: 0.0322907073\n",
      "CS-VQE error w.r.t. CCSD energy: 0.0322907039\n",
      "CS-VQE error w.r.t. FCI energy:  0.0322907073\n",
      "\n",
      "Number of qubits simulated: 2\n",
      "Ground energy: -98.5710110800\n",
      "CS-VQE error w.r.t. HF energy:  -0.0000000120\n",
      "CS-VQE error w.r.t. MP2 energy:  0.0209705756\n",
      "CS-VQE error w.r.t. CISD energy: 0.0322906973\n",
      "CS-VQE error w.r.t. CCSD energy: 0.0322906939\n",
      "CS-VQE error w.r.t. FCI energy:  0.0322906973\n",
      "\n",
      "Number of qubits simulated: 3\n",
      "Ground energy: -98.5710110800\n",
      "CS-VQE error w.r.t. HF energy:  -0.0000000120\n",
      "CS-VQE error w.r.t. MP2 energy:  0.0209705756\n",
      "CS-VQE error w.r.t. CISD energy: 0.0322906973\n",
      "CS-VQE error w.r.t. CCSD energy: 0.0322906939\n",
      "CS-VQE error w.r.t. FCI energy:  0.0322906973\n",
      "\n",
      "Number of qubits simulated: 4\n",
      "Ground energy: -98.5960651895\n",
      "CS-VQE error w.r.t. HF energy:  -0.0250541215\n",
      "CS-VQE error w.r.t. MP2 energy: -0.0040835339\n",
      "CS-VQE error w.r.t. CISD energy: 0.0072365878\n",
      "CS-VQE error w.r.t. CCSD energy: 0.0072365844\n",
      "CS-VQE error w.r.t. FCI energy:  0.0072365878\n",
      "\n",
      "Number of qubits simulated: 5\n",
      "Ground energy: -98.5982220657\n",
      "CS-VQE error w.r.t. HF energy:  -0.0272109977\n",
      "CS-VQE error w.r.t. MP2 energy: -0.0062404101\n",
      "CS-VQE error w.r.t. CISD energy: 0.0050797116\n",
      "CS-VQE error w.r.t. CCSD energy: 0.0050797082\n",
      "CS-VQE error w.r.t. FCI energy:  0.0050797116\n",
      "\n",
      "Number of qubits simulated: 6\n",
      "Ground energy: -98.6021867037\n",
      "CS-VQE error w.r.t. HF energy:  -0.0311756358\n",
      "CS-VQE error w.r.t. MP2 energy: -0.0102050481\n",
      "CS-VQE error w.r.t. CISD energy: 0.0011150735\n",
      "CS-VQE error w.r.t. CCSD energy: 0.0011150702\n",
      "CS-VQE error w.r.t. FCI energy:  0.0011150735\n",
      "\n",
      "Number of qubits simulated: 7\n",
      "Ground energy: -98.6029725822\n",
      "CS-VQE error w.r.t. HF energy:  -0.0319615143\n",
      "CS-VQE error w.r.t. MP2 energy: -0.0109909266\n",
      "CS-VQE error w.r.t. CISD energy: 0.0003291950\n",
      "CS-VQE error w.r.t. CCSD energy: 0.0003291917\n",
      "CS-VQE error w.r.t. FCI energy:  0.0003291950\n",
      "\n"
     ]
    }
   ],
   "source": [
    "methods = [\"f\"]#[\"a\", \"b\", \"c\", \"d\"]#, \"e\", \"f\"]\n",
    "data = {\"methods\":methods}\n",
    "for m in methods:\n",
    "    print('Method: ',m,'\\n------------------------------------------')\n",
    "    data[m] = oh.heuristic_errors(heuristic=m, print_info=True)"
   ]
  },
  {
   "cell_type": "code",
   "execution_count": 12,
   "id": "37761a8d",
   "metadata": {},
   "outputs": [
    {
     "data": {
      "text/plain": [
       "{'methods': ['b'],\n",
       " 'b': {'heuristic': 'unocc_first',\n",
       "  1: {'energy': -14.351977765918555,\n",
       "   'error': 'na',\n",
       "   'stab_indices': [3, 4, 1, 0]},\n",
       "  2: {'energy': -14.352073958174842, 'error': 'na', 'stab_indices': [4, 1, 0]},\n",
       "  3: {'energy': -14.352169104567231, 'error': 'na', 'stab_indices': [1, 0]},\n",
       "  4: {'energy': -14.352451994571021, 'error': 'na', 'stab_indices': [0]}}}"
      ]
     },
     "execution_count": 12,
     "metadata": {},
     "output_type": "execute_result"
    }
   ],
   "source": [
    "data"
   ]
  },
  {
   "cell_type": "code",
   "execution_count": null,
   "id": "216d2fe9",
   "metadata": {},
   "outputs": [],
   "source": [
    "data['num_tapered'] = oh.n_taper\n",
    "data['num_qubits']  = oh.n_qubits\n",
    "data['stabilizers'] = oh.generators\n",
    "data['hf_energy']   = oh.hf_energy\n",
    "data['mp_energy']   = oh.mp_energy\n",
    "data['cisd_energy'] = oh.cisd_energy\n",
    "data['ccsd_energy'] = oh.ccsd_energy\n",
    "data['fci_energy']  = oh.fci_energy\n",
    "\n",
    "with open('data/cs_vqe_results/'+speciesname+'_heuristic_errors.json', 'w') as outfile:\n",
    "    json.dump(data, outfile)"
   ]
  },
  {
   "cell_type": "code",
   "execution_count": null,
   "id": "314c9af8",
   "metadata": {},
   "outputs": [],
   "source": []
  },
  {
   "cell_type": "code",
   "execution_count": null,
   "id": "37efdd8e",
   "metadata": {
    "scrolled": false
   },
   "outputs": [],
   "source": [
    "df_type = 'B97M'\n",
    "print(f'List of {df_type} density functionals in PySCF:\\n')\n",
    "for df in dft.libxc.XC_CODES.keys():\n",
    "    if df.find(df_type)!=-1:\n",
    "        print(df)"
   ]
  },
  {
   "cell_type": "code",
   "execution_count": null,
   "id": "b5636218",
   "metadata": {},
   "outputs": [],
   "source": [
    "from pyscf import gto, dft, scf, mp, fci, cc\n",
    "\n",
    "atom_geom = list(zip(atoms, coords))\n",
    "print(atom_geom)\n",
    "\n",
    "mol_sys = gto.M(atom = atom_geom, charge=0, spin=0, basis = 'sto-3g', symmetry=True, unit='Angstrom')\n",
    "mol_sys.build()\n",
    "#mf_hf = dft.RKS(mol_hf)\n",
    "#mf_hf.xc = 'lda,vwn' # default\n",
    "#mf_hf.xc = 'b3lyp'\n",
    "#mf_hf = mf_hf.newton() # second-order algortihm\n",
    "print('Performing Hartree-Fock calculation:')\n",
    "mol_HFK = scf.RHF(mol_sys)\n",
    "hfk_energy = mol_HFK.kernel()\n",
    "print(hfk_energy, '\\n')\n",
    "\n",
    "print('\\nPerforming Møller–Plesset perturbation:')\n",
    "mol_MP2 = mp.MP2(mol_HFK)\n",
    "mol_MP2.kernel()\n",
    "\n",
    "print('\\nPerforming coupled-cluster singles doubles calculation:')\n",
    "mol_CCSD = cc.CCSD(mol_HFK)\n",
    "mol_CCSD.kernel()\n",
    "\n",
    "print('\\nPerforming density functional calculation:')\n",
    "mol_DFT=dft.RKS(mol_sys)\n",
    "mol_DFT.xc = 'MGGA_XC_B97M_V'\n",
    "mol_DFT.kernel()\n",
    "\n",
    "#print('\\nPerforming full-configuration interaction calculation:')\n",
    "#mol_FCI = fci.FCI(mol_HFK)\n",
    "#mol_FCI.kernel()\n",
    "#print(f'E(FCI) = {mol_FCI.e_tot}')\n",
    "\n",
    "print('\\nElectronic structure calculcations complete')"
   ]
  },
  {
   "cell_type": "code",
   "execution_count": null,
   "id": "22f03699",
   "metadata": {},
   "outputs": [],
   "source": [
    "mol_HFK.e_tot, mol_MP2.e_tot, mol_CCSD.e_tot, mol_DFT.e_tot#, mol_FCI.e_tot"
   ]
  },
  {
   "cell_type": "code",
   "execution_count": null,
   "id": "45548573",
   "metadata": {},
   "outputs": [],
   "source": []
  },
  {
   "cell_type": "code",
   "execution_count": null,
   "id": "ab86bd95",
   "metadata": {},
   "outputs": [],
   "source": [
    "oh.hf_energy, oh.mp_energy, oh.fci_energy"
   ]
  },
  {
   "cell_type": "code",
   "execution_count": null,
   "id": "ed3e92d6",
   "metadata": {},
   "outputs": [],
   "source": [
    "list(zip([1,2,3], [None, None, None]))"
   ]
  },
  {
   "cell_type": "code",
   "execution_count": null,
   "id": "8df0cded",
   "metadata": {
    "scrolled": false
   },
   "outputs": [],
   "source": [
    "help(mol_hf)"
   ]
  },
  {
   "cell_type": "code",
   "execution_count": null,
   "id": "57c5cc0f",
   "metadata": {},
   "outputs": [],
   "source": [
    "HF_X, LDA_X = .6, .08\n",
    "B88_X = 1. - HF_X - LDA_X\n",
    "LYP_C = .81\n",
    "VWN_C = 1. - LYP_C\n",
    "mf_hf.xc = f'{HF_X:} * HF + {LDA_X:} * LDA + {B88_X:} * B88, {LYP_C:} * LYP + {VWN_C:} * VWN'\n",
    "mf_hf.kernel()\n",
    "mf_hf.xc = 'hf'\n",
    "mf_hf.kernel()"
   ]
  },
  {
   "cell_type": "code",
   "execution_count": null,
   "id": "3516be78",
   "metadata": {},
   "outputs": [],
   "source": [
    "molecule_data.fci_energy"
   ]
  },
  {
   "cell_type": "code",
   "execution_count": null,
   "id": "5b8b69ec",
   "metadata": {},
   "outputs": [],
   "source": []
  }
 ],
 "metadata": {
  "kernelspec": {
   "display_name": "Python 3 (ipykernel)",
   "language": "python",
   "name": "python3"
  },
  "language_info": {
   "codemirror_mode": {
    "name": "ipython",
    "version": 3
   },
   "file_extension": ".py",
   "mimetype": "text/x-python",
   "name": "python",
   "nbconvert_exporter": "python",
   "pygments_lexer": "ipython3",
   "version": "3.8.8"
  }
 },
 "nbformat": 4,
 "nbformat_minor": 5
}
