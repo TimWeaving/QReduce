{
 "cells": [
  {
   "cell_type": "code",
   "execution_count": 1,
   "id": "fdaf226e",
   "metadata": {},
   "outputs": [],
   "source": [
    "from qondense.tapering import tapering\n",
    "from qondense.cs_vqe import cs_vqe\n",
    "from qondense.utils.operator_toolkit import exact_gs_energy, plot_ground_state_amplitudes, number_of_qubits\n",
    "import qondense.utils.qonversion_tools as qonvert\n",
    "from qondense.utils.ordering_heuristics import ordering_heuristics\n",
    "import json\n",
    "import numpy as np\n",
    "import openfermion as of\n",
    "import openfermionpyscf as ofpyscf\n",
    "from openfermion.circuits import ( uccsd_singlet_get_packed_amplitudes,\n",
    "                                   uccsd_singlet_generator, uccsd_generator,\n",
    "                                   uccsd_convert_amplitude_format)\n",
    "from itertools import combinations"
   ]
  },
  {
   "cell_type": "code",
   "execution_count": 2,
   "id": "00257224",
   "metadata": {},
   "outputs": [
    {
     "name": "stdout",
     "output_type": "stream",
     "text": [
      "dict_keys(['H2_3-21G_SINGLET', 'H6_STO-3G_SINGLET', 'H2_6-31G_SINGLET', 'H2_6-311G_SINGLET', 'H3+_STO-3G_SINGLET', 'H3+_3-21G_SINGLET', 'HeH+_3-21G_SINGLET', 'HeH+_6-311G_SINGLET', 'H2O_STO-3G_SINGLET', 'BeH+_STO-3G_SINGLET', 'LiH_STO-3G_SINGLET', 'CH+_STO-3G_SINGLET', 'HF_STO-3G_SINGLET', 'B+_STO-3G_SINGLET', 'B_STO-3G_DOUBLET', 'N_STO-3G_QUARTET', 'OH-_STO-3G_SINGLET', 'O_STO-3G_TRIPLET', 'CH2_STO-3G_TRIPLET', 'BeH2_STO-3G_SINGLET', 'Be_STO-3G_SINGLET', 'C_STO-3G_TRIPLET', 'NH_STO-3G_SINGLET', 'Ne_STO-3G_SINGLET', 'F_STO-3G_DOUBLET', 'Li_STO-3G_DOUBLET', 'BH_STO-3G_SINGLET', 'NeH+_STO-3G_SINGLET', 'NH2+_STO-3G_SINGLET', 'BH2+_STO-3G_SINGLET', 'HCl_STO-3G_SINGLET', 'H4_STO-3G_SINGLET', 'NH3_STO-3G_SINGLET', 'F2_STO-3G_SINGLET', 'HCN_STO-3G_SINGLET', 'CH4_STO-3G_SINGLET', 'CH3OH_STO-3G_SINGLET', 'C2H6_STO-3G_SINGLET', 'CH3CN_STO-3G_SINGLET', 'CH3CHO_STO-3G_SINGLET', 'CH3CHOHCH3_STO-3G_SINGLET', 'CHONH2_STO-3G_SINGLET', 'CO2_STO-3G_SINGLET', 'O2_STO-3G_SINGLET', 'O3_STO-3G_SINGLET', 'HOOH_STO-3G_SINGLET', 'NaCl_STO-3G_SINGLET', 'H2S_STO-3G_SINGLET', 'SiH4_STO-3G_SINGLET'])\n"
     ]
    }
   ],
   "source": [
    "with open('data/molecule_geometries/molecule_data.json') as jfile:\n",
    "    molecule_geometries = json.load(jfile)\n",
    "print(molecule_geometries.keys())"
   ]
  },
  {
   "cell_type": "code",
   "execution_count": 3,
   "id": "0173db13",
   "metadata": {},
   "outputs": [],
   "source": [
    "# Set molecule parameters\n",
    "speciesname = 'B+_STO-3G_SINGLET'\n",
    "mol_data = molecule_geometries[speciesname]\n",
    "if 'name' in mol_data:\n",
    "    print(mol_data['name'])\n",
    "    \n",
    "atoms = mol_data['atoms']\n",
    "coords = mol_data['coords']\n",
    "basis = mol_data['basis']\n",
    "multiplicity = mol_data['multiplicity']\n",
    "charge = mol_data['charge']\n",
    "geometry = list(zip(atoms, coords))\n",
    "\n",
    "delete_input = True\n",
    "delete_output = True\n",
    "cisd=1\n",
    "ccsd=1\n",
    "fci =1 # wouldn't advise turning this on over 32 qubits!\n",
    "\n",
    "# Run pyscf.\n",
    "molecule_data = of.MolecularData(geometry, basis, multiplicity, charge)\n",
    "calculated_molecule = ofpyscf.run_pyscf(molecule_data,\n",
    "                     run_scf=1,run_mp2=1,run_cisd=cisd,run_ccsd=ccsd,run_fci=fci)"
   ]
  },
  {
   "cell_type": "code",
   "execution_count": 4,
   "id": "dc85229f",
   "metadata": {},
   "outputs": [
    {
     "name": "stdout",
     "output_type": "stream",
     "text": [
      "------------------------------------------------\n",
      "Information concerning the full system:\n",
      "------------------------------------------------\n",
      "Number of qubits in full problem: 10\n",
      "The Hartree-Fock state is |1111000000>\n",
      "HF   energy = -23.94847037\n",
      "MP2  energy = -23.97850135\n",
      "CISD energy = -24.00980539\n",
      "CCSD energy = -24.00981082\n",
      "FCI energy  = -24.00981467\n",
      "------------------------------------------------\n",
      "Tapering information:\n",
      "------------------------------------------------\n",
      "We are able to taper 5 qubits from the Hamiltonian\n",
      "The symmetry sector is [1, 1, 1, 1, 1]\n",
      "The tapered Hartree-Fock state is |11000>\n",
      "------------------------------------------------\n",
      "CS-VQE information:\n",
      "------------------------------------------------\n",
      "Noncontextual GS energy: (-23.94908429781776+0j)\n",
      "Symmetry generators:     ['ZIIII', 'IZIII', 'IIZII', 'IIIZI', 'IIIIZ']\n",
      "Clique representatives:  ['XIIII', 'ZIIII']\n",
      "Clique operator coeffs:  [ 0.01605926-0.j -0.99987104-0.j]\n",
      "Generator eigenvalues:   [ 1 -1  1  1  1]\n",
      "------------------------------------------------\n"
     ]
    },
    {
     "name": "stderr",
     "output_type": "stream",
     "text": [
      "/home/tweaving/.local/lib/python3.8/site-packages/numpy/lib/function_base.py:4712: ComplexWarning: Casting complex values to real discards the imaginary part\n",
      "  values = array(values, copy=False, ndmin=arr.ndim, dtype=arr.dtype)\n"
     ]
    }
   ],
   "source": [
    "oh = ordering_heuristics(calculated_molecule)"
   ]
  },
  {
   "cell_type": "code",
   "execution_count": 179,
   "id": "10b3bd7b",
   "metadata": {},
   "outputs": [
    {
     "name": "stdout",
     "output_type": "stream",
     "text": [
      "Noncontextual?\n",
      "True\n",
      "True\n"
     ]
    }
   ],
   "source": [
    "from qondense.utils.QubitOp import QubitOp\n",
    "from qondense.utils.cs_vqe_tools_legacy import contextualQ_ham\n",
    "#op_list = ['IIYI', 'XYXI', 'XZXI', 'XZZI', 'YXYI', 'ZZZI', 'IIIZ', 'XXXI', 'XXYI', 'XXZI', 'YXXI', 'YYZI', 'YZXI', 'ZYYI']\n",
    "op_list = ['IIIZ', 'XZXI', 'ZZZI', 'IIYI', 'YXYI', 'XYXI', 'XZZI']\n",
    "#op_list = ['IX', 'XI', 'XZ', 'ZX']\n",
    "op = QubitOp(op_list)\n",
    "op = oh.ham_noncontextual\n",
    "#op = oh.hamiltonian\n",
    "\n",
    "adjcmat = op.adjacency_matrix().toarray()\n",
    "nonuniv = np.ones(op.n_terms, dtype=bool)\n",
    "univcom = np.where(np.all(adjcmat==0, axis=0))\n",
    "nonuniv[univcom]=0\n",
    "remove_univcom = adjcmat[nonuniv,:][:,nonuniv]\n",
    "\n",
    "#remove duplicate rows/cols\n",
    "def condense_duplicate_rows(input_array):\n",
    "    ordering = np.lexsort(input_array.T)\n",
    "    diff_adjacent = np.diff(input_array[ordering], axis=0)\n",
    "    uniqueidx = np.append(True, ~np.all(diff_adjacent==0, axis=1))\n",
    "    condensed = input_array[ordering][uniqueidx]\n",
    "    return condensed   \n",
    "reduce_rows = condense_duplicate_rows(remove_univcom)\n",
    "reduce_cols = condense_duplicate_rows(reduce_rows.T).T\n",
    "\n",
    "# if noncontextual then identity!\n",
    "print('Noncontextual?')\n",
    "print(np.all(np.array(reduce_cols[::-1]==0, dtype=int)==np.eye(*reduce_cols.shape, dtype=int)))\n",
    "\n",
    "print(not contextualQ_ham(op._dict()))"
   ]
  },
  {
   "cell_type": "code",
   "execution_count": 119,
   "id": "c833cace",
   "metadata": {},
   "outputs": [],
   "source": []
  },
  {
   "cell_type": "code",
   "execution_count": 74,
   "id": "f34d2ec2",
   "metadata": {},
   "outputs": [
    {
     "data": {
      "text/plain": [
       "[[6],\n",
       " [6, 7],\n",
       " [5, 6, 7],\n",
       " [4, 5, 6, 7],\n",
       " [3, 4, 5, 6, 7],\n",
       " [2, 3, 4, 5, 6, 7],\n",
       " [1, 2, 3, 4, 5, 6, 7],\n",
       " [0, 1, 2, 3, 4, 5, 6, 7]]"
      ]
     },
     "execution_count": 74,
     "metadata": {},
     "output_type": "execute_result"
    }
   ],
   "source": [
    "x = np.arange(0,oh.n_qubits,1)\n",
    "a = (1-(2*oh.HL_index)/oh.n_qubits)*(x-oh.n_qubits/2)\n",
    "b = oh.HL_index*np.log(oh.HL_index/oh.n_qubits)*np.exp(-((x-oh.HL_index)**2)/oh.n_qubits)\n",
    "f = a+b*10/3\n",
    "g = f/np.min(f)\n",
    "stab_removal_order = []\n",
    "for i in np.arange(0,2*oh.n_qubits+1):\n",
    "    threshold = 1-i/oh.n_qubits\n",
    "    stab_indices = list(np.where(g>=threshold)[0])\n",
    "    if stab_indices != []:\n",
    "        if stab_indices not in stab_removal_order: \n",
    "            stab_removal_order.append(stab_indices)\n",
    "stab_removal_order"
   ]
  },
  {
   "cell_type": "code",
   "execution_count": 12,
   "id": "2dddcfad",
   "metadata": {},
   "outputs": [
    {
     "name": "stdout",
     "output_type": "stream",
     "text": [
      "[[1, 3, 7, 17], [2, 4, 10, 12, 18], [1, 3, 7, 19], [2, 4, 10, 12, 18, 20], [1, 3, 7], [2, 4, 10, 12, 18, 21], [1, 3, 7, 22], [2, 4, 10, 12, 18, 23], [2, 4, 10, 12, 16], [1, 3, 7, 15], [2, 4, 10, 12, 14], [1, 3, 7, 13], [2, 4, 10, 12], [1, 3, 7, 11]]\n"
     ]
    }
   ],
   "source": [
    "from itertools import product\n",
    "\n",
    "supported_Gi={q_pos:[i for i,Gi in enumerate(oh.generators) if Gi[q_pos]=='Z']\n",
    "             for q_pos in range(oh.n_qubits)}\n",
    "qubit_order = list(range(oh.HL_index, oh.n_qubits))+list(range(oh.HL_index))[::-1]\n",
    "#qubit_order = [6,5,7,4,3,2,1,0]\n",
    "num_sim_q = 14\n",
    "if num_sim_q <= 5:\n",
    "    m_type = 'dense'\n",
    "else:\n",
    "    m_type = 'sparse'\n",
    "    \n",
    "stab_index_pool = [supported_Gi[i] for i in qubit_order[:num_sim_q]]\n",
    "print(stab_index_pool)"
   ]
  },
  {
   "cell_type": "code",
   "execution_count": null,
   "id": "5b4b6cc5",
   "metadata": {},
   "outputs": [],
   "source": [
    "trial_stab_indices = [list(set(range(oh.n_qubits))-set(stab_indices)) \n",
    "                      for stab_indices in list(product(*stab_index_pool)) \n",
    "                      if len(set(stab_indices))==num_sim_q]\n",
    "\n",
    "#print(trial_stab_indices)"
   ]
  },
  {
   "cell_type": "code",
   "execution_count": 9,
   "id": "dc1a7f66",
   "metadata": {},
   "outputs": [
    {
     "name": "stdout",
     "output_type": "stream",
     "text": [
      "[0, 1, 2, 3, 4, 5, 6]\n",
      "0.056314661888251294\n"
     ]
    }
   ],
   "source": [
    "for stab_indices in trial_stab_indices:\n",
    "    print(stab_indices)\n",
    "    energy, vector = exact_gs_energy(oh.contextual_subspace_hamiltonian(stab_indices), matrix_type=m_type)\n",
    "    print(energy-oh.fci_energy)"
   ]
  },
  {
   "cell_type": "code",
   "execution_count": null,
   "id": "82dcf58b",
   "metadata": {},
   "outputs": [],
   "source": [
    "print()"
   ]
  },
  {
   "cell_type": "code",
   "execution_count": 33,
   "id": "17ee3946",
   "metadata": {},
   "outputs": [
    {
     "name": "stdout",
     "output_type": "stream",
     "text": [
      "6 [1, 1, 1, 1, 1, 1, 0, 0]\n",
      "6\n",
      "1 ZIZIZZZI\n",
      "-98.57101107\n",
      "3 IIZIZZZI\n",
      "-98.57101107\n",
      "7 IIIIIIZI\n",
      "-98.57101106\n",
      "\n",
      "7\n",
      "2 IZIZZZIZ\n",
      "-98.57101107\n",
      "4 IIIZZZIZ\n",
      "-98.57101107\n",
      "\n",
      "5\n",
      "1 ZIZIZZZI\n",
      "-98.57101107\n",
      "2 IZIZZZIZ\n",
      "-98.57101107\n",
      "3 IIZIZZZI\n",
      "-98.57101107\n",
      "4 IIIZZZIZ\n",
      "-98.57101107\n",
      "6 IIIIIZII\n",
      "-98.57101107000001\n",
      "\n",
      "4\n",
      "1 ZIZIZZZI\n",
      "-98.57101107\n",
      "2 IZIZZZIZ\n",
      "-98.57101107\n",
      "3 IIZIZZZI\n",
      "-98.57101107\n",
      "4 IIIZZZIZ\n",
      "-98.57101107\n",
      "5 IIIIZIII\n",
      "-98.57101107000001\n",
      "\n",
      "3\n",
      "0 IIIZIIII\n",
      "-98.57101107000001\n",
      "2 IZIZZZIZ\n",
      "-98.57101107\n",
      "4 IIIZZZIZ\n",
      "-98.57101107\n",
      "\n",
      "2\n",
      "1 ZIZIZZZI\n",
      "-98.57101107\n",
      "3 IIZIZZZI\n",
      "-98.57101107\n",
      "\n",
      "1\n",
      "2 IZIZZZIZ\n",
      "-98.57101107\n",
      "\n",
      "0\n",
      "1 ZIZIZZZI\n",
      "-98.57101107\n",
      "\n"
     ]
    }
   ],
   "source": [
    "print(oh.HL_index, oh.hf_tapered)\n",
    "qubit_order = list(range(oh.HL_index, oh.n_qubits))+list(range(oh.HL_index))[::-1]\n",
    "for q_pos in qubit_order:\n",
    "    print(q_pos)\n",
    "    supported_Gi = [i for i,Gi in enumerate(oh.generators) if Gi[q_pos]=='Z']\n",
    "    for i in supported_Gi:\n",
    "        print(i, oh.generators[i])\n",
    "        stab_indices=list(set(range(oh.n_qubits))-set([i]))\n",
    "        num_sim_q = oh.n_qubits-len(stab_indices)\n",
    "        if num_sim_q <= 5:\n",
    "            m_type = 'dense'\n",
    "        else:\n",
    "            m_type = 'sparse'\n",
    "        print(exact_gs_energy(oh.contextual_subspace_hamiltonian(stab_indices), matrix_type=m_type)[0])\n",
    "    print()"
   ]
  },
  {
   "cell_type": "code",
   "execution_count": null,
   "id": "0dcf2b97",
   "metadata": {},
   "outputs": [],
   "source": []
  },
  {
   "cell_type": "code",
   "execution_count": 66,
   "id": "136787a3",
   "metadata": {},
   "outputs": [
    {
     "name": "stdout",
     "output_type": "stream",
     "text": [
      "Method:  f \n",
      "------------------------------------------\n",
      "Number of qubits simulated: 1\n",
      "Ground energy: -98.5710110700\n",
      "CS-VQE error w.r.t. HF energy:  -0.0000000020\n",
      "CS-VQE error w.r.t. MP2 energy:  0.0209705856\n",
      "CS-VQE error w.r.t. CISD energy: 0.0322907073\n",
      "CS-VQE error w.r.t. CCSD energy: 0.0322907039\n",
      "CS-VQE error w.r.t. FCI energy:  0.0322907073\n",
      "\n",
      "Number of qubits simulated: 2\n",
      "Ground energy: -98.5964896412\n",
      "CS-VQE error w.r.t. HF energy:  -0.0254785732\n",
      "CS-VQE error w.r.t. MP2 energy: -0.0045079856\n",
      "CS-VQE error w.r.t. CISD energy: 0.0068121361\n",
      "CS-VQE error w.r.t. CCSD energy: 0.0068121327\n",
      "CS-VQE error w.r.t. FCI energy:  0.0068121361\n",
      "\n",
      "Number of qubits simulated: 3\n",
      "Ground energy: -98.5985972242\n",
      "CS-VQE error w.r.t. HF energy:  -0.0275861562\n",
      "CS-VQE error w.r.t. MP2 energy: -0.0066155686\n",
      "CS-VQE error w.r.t. CISD energy: 0.0047045531\n",
      "CS-VQE error w.r.t. CCSD energy: 0.0047045497\n",
      "CS-VQE error w.r.t. FCI energy:  0.0047045531\n",
      "\n",
      "Number of qubits simulated: 4\n",
      "Ground energy: -98.6024931066\n",
      "CS-VQE error w.r.t. HF energy:  -0.0314820386\n",
      "CS-VQE error w.r.t. MP2 energy: -0.0105114510\n",
      "CS-VQE error w.r.t. CISD energy: 0.0008086707\n",
      "CS-VQE error w.r.t. CCSD energy: 0.0008086673\n",
      "CS-VQE error w.r.t. FCI energy:  0.0008086707\n",
      "\n",
      "Number of qubits simulated: 5\n",
      "Ground energy: -98.6029000184\n",
      "CS-VQE error w.r.t. HF energy:  -0.0318889504\n",
      "CS-VQE error w.r.t. MP2 energy: -0.0109183628\n",
      "CS-VQE error w.r.t. CISD energy: 0.0004017589\n",
      "CS-VQE error w.r.t. CCSD energy: 0.0004017555\n",
      "CS-VQE error w.r.t. FCI energy:  0.0004017589\n",
      "\n",
      "Number of qubits simulated: 6\n",
      "Ground energy: -98.6032818214\n",
      "CS-VQE error w.r.t. HF energy:  -0.0322707534\n",
      "CS-VQE error w.r.t. MP2 energy: -0.0113001658\n",
      "CS-VQE error w.r.t. CISD energy: 0.0000199559\n",
      "CS-VQE error w.r.t. CCSD energy: 0.0000199525\n",
      "CS-VQE error w.r.t. FCI energy:  0.0000199559\n",
      "\n",
      "Number of qubits simulated: 7\n",
      "Ground energy: -98.6032881188\n",
      "CS-VQE error w.r.t. HF energy:  -0.0322770508\n",
      "CS-VQE error w.r.t. MP2 energy: -0.0113064632\n",
      "CS-VQE error w.r.t. CISD energy: 0.0000136584\n",
      "CS-VQE error w.r.t. CCSD energy: 0.0000136551\n",
      "CS-VQE error w.r.t. FCI energy:  0.0000136585\n",
      "\n"
     ]
    }
   ],
   "source": [
    "methods = [\"f\"]#[\"a\", \"b\", \"c\", \"d\"]#, \"e\", \"f\"]\n",
    "data = {\"methods\":methods}\n",
    "for m in methods:\n",
    "    print('Method: ',m,'\\n------------------------------------------')\n",
    "    data[m] = oh.heuristic_errors(heuristic=m, print_info=True)"
   ]
  },
  {
   "cell_type": "code",
   "execution_count": 67,
   "id": "cb1c818a",
   "metadata": {},
   "outputs": [
    {
     "data": {
      "text/plain": [
       "{'methods': ['f'],\n",
       " 'f': {'heuristic': 'perfect_removal',\n",
       "  1: {'energy': -98.57101107000001,\n",
       "   'error': 0.0322907072588805,\n",
       "   'stab_indices': [0, 1, 2, 3, 4, 5, 7]},\n",
       "  2: {'energy': -98.59648964116543,\n",
       "   'error': 0.006812136093458321,\n",
       "   'stab_indices': [1, 2, 3, 4, 5, 6]},\n",
       "  3: {'energy': -98.59859722417421,\n",
       "   'error': 0.004704553084678764,\n",
       "   'stab_indices': [1, 2, 4, 5, 6]},\n",
       "  4: {'energy': -98.60249310656864,\n",
       "   'error': 0.0008086706902474816,\n",
       "   'stab_indices': [1, 2, 5, 6]},\n",
       "  5: {'energy': -98.60290001838425,\n",
       "   'error': 0.0004017588746449974,\n",
       "   'stab_indices': [1, 2, 6]},\n",
       "  6: {'energy': -98.60328182139287,\n",
       "   'error': 1.9955866022769442e-05,\n",
       "   'stab_indices': [1, 2]},\n",
       "  7: {'energy': -98.60328811880703,\n",
       "   'error': 1.3658451862852417e-05,\n",
       "   'stab_indices': [2]}}}"
      ]
     },
     "execution_count": 67,
     "metadata": {},
     "output_type": "execute_result"
    }
   ],
   "source": [
    "data"
   ]
  },
  {
   "cell_type": "code",
   "execution_count": 8,
   "id": "216d2fe9",
   "metadata": {},
   "outputs": [],
   "source": [
    "data['num_tapered'] = oh.n_taper\n",
    "data['num_qubits']  = oh.n_qubits\n",
    "data['stabilizers'] = oh.generators\n",
    "data['hf_energy']   = oh.hf_energy\n",
    "data['mp_energy']   = oh.mp_energy\n",
    "data['cisd_energy'] = oh.cisd_energy\n",
    "data['ccsd_energy'] = oh.ccsd_energy\n",
    "data['fci_energy']  = oh.fci_energy\n",
    "\n",
    "with open('data/cs_vqe_results/'+speciesname+'_heuristic_errors.json', 'w') as outfile:\n",
    "    json.dump(data, outfile)"
   ]
  },
  {
   "cell_type": "code",
   "execution_count": null,
   "id": "314c9af8",
   "metadata": {},
   "outputs": [],
   "source": []
  },
  {
   "cell_type": "code",
   "execution_count": 9,
   "id": "37efdd8e",
   "metadata": {
    "scrolled": false
   },
   "outputs": [
    {
     "name": "stdout",
     "output_type": "stream",
     "text": [
      "List of B97M density functionals in PySCF:\n",
      "\n"
     ]
    },
    {
     "ename": "NameError",
     "evalue": "name 'dft' is not defined",
     "output_type": "error",
     "traceback": [
      "\u001b[0;31m---------------------------------------------------------------------------\u001b[0m",
      "\u001b[0;31mNameError\u001b[0m                                 Traceback (most recent call last)",
      "\u001b[0;32m/tmp/ipykernel_58572/1763607278.py\u001b[0m in \u001b[0;36m<module>\u001b[0;34m\u001b[0m\n\u001b[1;32m      1\u001b[0m \u001b[0mdf_type\u001b[0m \u001b[0;34m=\u001b[0m \u001b[0;34m'B97M'\u001b[0m\u001b[0;34m\u001b[0m\u001b[0;34m\u001b[0m\u001b[0m\n\u001b[1;32m      2\u001b[0m \u001b[0mprint\u001b[0m\u001b[0;34m(\u001b[0m\u001b[0;34mf'List of {df_type} density functionals in PySCF:\\n'\u001b[0m\u001b[0;34m)\u001b[0m\u001b[0;34m\u001b[0m\u001b[0;34m\u001b[0m\u001b[0m\n\u001b[0;32m----> 3\u001b[0;31m \u001b[0;32mfor\u001b[0m \u001b[0mdf\u001b[0m \u001b[0;32min\u001b[0m \u001b[0mdft\u001b[0m\u001b[0;34m.\u001b[0m\u001b[0mlibxc\u001b[0m\u001b[0;34m.\u001b[0m\u001b[0mXC_CODES\u001b[0m\u001b[0;34m.\u001b[0m\u001b[0mkeys\u001b[0m\u001b[0;34m(\u001b[0m\u001b[0;34m)\u001b[0m\u001b[0;34m:\u001b[0m\u001b[0;34m\u001b[0m\u001b[0;34m\u001b[0m\u001b[0m\n\u001b[0m\u001b[1;32m      4\u001b[0m     \u001b[0;32mif\u001b[0m \u001b[0mdf\u001b[0m\u001b[0;34m.\u001b[0m\u001b[0mfind\u001b[0m\u001b[0;34m(\u001b[0m\u001b[0mdf_type\u001b[0m\u001b[0;34m)\u001b[0m\u001b[0;34m!=\u001b[0m\u001b[0;34m-\u001b[0m\u001b[0;36m1\u001b[0m\u001b[0;34m:\u001b[0m\u001b[0;34m\u001b[0m\u001b[0;34m\u001b[0m\u001b[0m\n\u001b[1;32m      5\u001b[0m         \u001b[0mprint\u001b[0m\u001b[0;34m(\u001b[0m\u001b[0mdf\u001b[0m\u001b[0;34m)\u001b[0m\u001b[0;34m\u001b[0m\u001b[0;34m\u001b[0m\u001b[0m\n",
      "\u001b[0;31mNameError\u001b[0m: name 'dft' is not defined"
     ]
    }
   ],
   "source": [
    "df_type = 'B97M'\n",
    "print(f'List of {df_type} density functionals in PySCF:\\n')\n",
    "for df in dft.libxc.XC_CODES.keys():\n",
    "    if df.find(df_type)!=-1:\n",
    "        print(df)"
   ]
  },
  {
   "cell_type": "code",
   "execution_count": null,
   "id": "b5636218",
   "metadata": {},
   "outputs": [],
   "source": [
    "from pyscf import gto, dft, scf, mp, fci, cc\n",
    "\n",
    "atom_geom = list(zip(atoms, coords))\n",
    "print(atom_geom)\n",
    "\n",
    "mol_sys = gto.M(atom = atom_geom, charge=0, spin=0, basis = 'sto-3g', symmetry=True, unit='Angstrom')\n",
    "mol_sys.build()\n",
    "#mf_hf = dft.RKS(mol_hf)\n",
    "#mf_hf.xc = 'lda,vwn' # default\n",
    "#mf_hf.xc = 'b3lyp'\n",
    "#mf_hf = mf_hf.newton() # second-order algortihm\n",
    "print('Performing Hartree-Fock calculation:')\n",
    "mol_HFK = scf.RHF(mol_sys)\n",
    "hfk_energy = mol_HFK.kernel()\n",
    "print(hfk_energy, '\\n')\n",
    "\n",
    "print('\\nPerforming Møller–Plesset perturbation:')\n",
    "mol_MP2 = mp.MP2(mol_HFK)\n",
    "mol_MP2.kernel()\n",
    "\n",
    "print('\\nPerforming coupled-cluster singles doubles calculation:')\n",
    "mol_CCSD = cc.CCSD(mol_HFK)\n",
    "mol_CCSD.kernel()\n",
    "\n",
    "print('\\nPerforming density functional calculation:')\n",
    "mol_DFT=dft.RKS(mol_sys)\n",
    "mol_DFT.xc = 'MGGA_XC_B97M_V'\n",
    "mol_DFT.kernel()\n",
    "\n",
    "#print('\\nPerforming full-configuration interaction calculation:')\n",
    "#mol_FCI = fci.FCI(mol_HFK)\n",
    "#mol_FCI.kernel()\n",
    "#print(f'E(FCI) = {mol_FCI.e_tot}')\n",
    "\n",
    "print('\\nElectronic structure calculcations complete')"
   ]
  },
  {
   "cell_type": "code",
   "execution_count": null,
   "id": "22f03699",
   "metadata": {},
   "outputs": [],
   "source": [
    "mol_HFK.e_tot, mol_MP2.e_tot, mol_CCSD.e_tot, mol_DFT.e_tot#, mol_FCI.e_tot"
   ]
  },
  {
   "cell_type": "code",
   "execution_count": null,
   "id": "45548573",
   "metadata": {},
   "outputs": [],
   "source": []
  },
  {
   "cell_type": "code",
   "execution_count": null,
   "id": "ab86bd95",
   "metadata": {},
   "outputs": [],
   "source": [
    "oh.hf_energy, oh.mp_energy, oh.fci_energy"
   ]
  },
  {
   "cell_type": "code",
   "execution_count": null,
   "id": "ed3e92d6",
   "metadata": {},
   "outputs": [],
   "source": [
    "list(zip([1,2,3], [None, None, None]))"
   ]
  },
  {
   "cell_type": "code",
   "execution_count": null,
   "id": "8df0cded",
   "metadata": {
    "scrolled": false
   },
   "outputs": [],
   "source": [
    "help(mol_hf)"
   ]
  },
  {
   "cell_type": "code",
   "execution_count": null,
   "id": "57c5cc0f",
   "metadata": {},
   "outputs": [],
   "source": [
    "HF_X, LDA_X = .6, .08\n",
    "B88_X = 1. - HF_X - LDA_X\n",
    "LYP_C = .81\n",
    "VWN_C = 1. - LYP_C\n",
    "mf_hf.xc = f'{HF_X:} * HF + {LDA_X:} * LDA + {B88_X:} * B88, {LYP_C:} * LYP + {VWN_C:} * VWN'\n",
    "mf_hf.kernel()\n",
    "mf_hf.xc = 'hf'\n",
    "mf_hf.kernel()"
   ]
  },
  {
   "cell_type": "code",
   "execution_count": null,
   "id": "3516be78",
   "metadata": {},
   "outputs": [],
   "source": [
    "molecule_data.fci_energy"
   ]
  },
  {
   "cell_type": "code",
   "execution_count": null,
   "id": "5b8b69ec",
   "metadata": {},
   "outputs": [],
   "source": []
  }
 ],
 "metadata": {
  "kernelspec": {
   "display_name": "Python 3 (ipykernel)",
   "language": "python",
   "name": "python3"
  },
  "language_info": {
   "codemirror_mode": {
    "name": "ipython",
    "version": 3
   },
   "file_extension": ".py",
   "mimetype": "text/x-python",
   "name": "python",
   "nbconvert_exporter": "python",
   "pygments_lexer": "ipython3",
   "version": "3.8.8"
  }
 },
 "nbformat": 4,
 "nbformat_minor": 5
}
