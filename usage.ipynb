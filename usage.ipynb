{
 "cells": [
  {
   "cell_type": "code",
   "execution_count": 1,
   "metadata": {},
   "outputs": [],
   "source": [
    "from qreduce.cs_vqe import cs_vqe_model\n",
    "from qreduce.utils import * \n",
    "from itertools import combinations\n",
    "import json\n",
    "import numpy as np"
   ]
  },
  {
   "cell_type": "code",
   "execution_count": 28,
   "metadata": {},
   "outputs": [
    {
     "data": {
      "text/plain": [
       "dict_keys(['H2O_STO-3G_SINGLET', 'LiH_STO-3G_SINGLET', 'HF_STO-3G_SINGLET', 'CH2_STO-3G_SINGLET', 'BeH2_STO-3G_SINGLET', 'HeH+_6-311G_SINGLET', 'BeH+_STO-3G_SINGLET', 'CH+_STO-3G_SINGLET', 'B+_STO-3G_SINGLET', 'OH+_STO-3G_SINGLET', 'OH-_STO-3G_SINGLET', 'O_STO-3G_SINGLET', 'Be_STO-3G_SINGLET', 'H4_STO-3G_SINGLET', 'B_STO-3G_DOUBLET', 'NH_STO-3G_SINGLET', 'BH_STO-3G_SINGLET', 'NH2+_STO-3G_SINGLET', 'BH2+_STO-3G_SINGLET', 'CH2_STO-3G_TRIPLET', 'C_STO-3G_TRIPLET'])"
      ]
     },
     "execution_count": 28,
     "metadata": {},
     "output_type": "execute_result"
    }
   ],
   "source": [
    "with open('data/model_data.json', 'r') as infile:\n",
    "        mol_data = json.load(infile)\n",
    "mol_data.keys()"
   ]
  },
  {
   "cell_type": "code",
   "execution_count": 30,
   "metadata": {},
   "outputs": [],
   "source": [
    "mol=mol_data['O_STO-3G_SINGLET']\n",
    "ham=mol['ham']\n",
    "n_q=mol['num_qubits']\n",
    "set_nc = mol['terms_noncon']\n",
    "cs_vqe_mol = cs_vqe_model(ham, n_q, noncontextual_set = set_nc)"
   ]
  },
  {
   "cell_type": "code",
   "execution_count": 31,
   "metadata": {},
   "outputs": [
    {
     "name": "stdout",
     "output_type": "stream",
     "text": [
      "Generators: ['ZZZZI', 'ZIZZI', 'ZZIZI', 'ZZZII']\n",
      "Clique reps: ['ZZZZZ', 'ZZZZX']\n",
      "Anti-clique qubit match? True \n",
      "\n",
      "G assignment: [-1  1  1  1]\n",
      "r vector: [1.00000000e+00 4.19232508e-10]\n",
      "Noncon nrg: -73.75670578813755\n",
      "NGS matches original? True \n",
      "\n",
      "Stabilizers: {'ZIIII': 1, 'IZIII': 1, 'IIZII': 1, 'IIIZI': 1, 'IIIIZ': -1.0}\n",
      "Stab qubits: [0, 1, 2, 3, 4]\n"
     ]
    }
   ],
   "source": [
    "print(\"Generators:\", cs_vqe_mol.generators)\n",
    "print(\"Clique reps:\", cs_vqe_mol.cliquereps)\n",
    "match=mol['X_index']==cs_vqe_mol.anti_clique_qubit\n",
    "print('Anti-clique qubit match?', match, '\\n')\n",
    "\n",
    "print(\"G assignment:\", cs_vqe_mol.nu)#, ' | original:', np.array(list(mol['G'].values()), dtype=int))\n",
    "print(\"r vector:\", cs_vqe_mol.r)\n",
    "print(\"Noncon nrg:\", cs_vqe_mol.ngs_energy)\n",
    "print('NGS matches original?', abs(cs_vqe_mol.ngs_energy-mol['noncon'])<1e-13, '\\n')\n",
    "\n",
    "print(\"Stabilizers:\", cs_vqe_mol.stabilizers)\n",
    "print(\"Stab qubits:\", cs_vqe_mol.stab_qubits)"
   ]
  },
  {
   "cell_type": "code",
   "execution_count": 32,
   "metadata": {},
   "outputs": [
    {
     "data": {
      "text/plain": [
       "(-73.75670578813755, -73.75670578813754)"
      ]
     },
     "execution_count": 32,
     "metadata": {},
     "output_type": "execute_result"
    }
   ],
   "source": [
    "cs_vqe_mol.ngs_energy,mol['noncon']"
   ]
  },
  {
   "cell_type": "code",
   "execution_count": 33,
   "metadata": {},
   "outputs": [
    {
     "name": "stdout",
     "output_type": "stream",
     "text": [
      "Exact energy: -73.80415023325594\n",
      "Noncon error: 0.04744444511838708\n",
      "Target_error for 1 qubits: 1.4210854715202004e-14\n"
     ]
    }
   ],
   "source": [
    "num_sim_q = mol['chem_acc_num_q']\n",
    "exact = exact_gs_energy(cs_vqe_mol.ham)\n",
    "print('Exact energy:',exact)\n",
    "print('Noncon error:', cs_vqe_mol.ngs_energy-exact)\n",
    "print(f'Target_error for {num_sim_q} qubits:', exact_gs_energy(mol['ham_reduced'][num_sim_q])-exact)"
   ]
  },
  {
   "cell_type": "code",
   "execution_count": 39,
   "metadata": {},
   "outputs": [
    {
     "name": "stdout",
     "output_type": "stream",
     "text": [
      "error for qubits [0]: 0.04744444511837287 | In expected range? True\n",
      "error for qubits [1]: 0.04744444511838708 | In expected range? False\n",
      "error for qubits [2]: 1.4210854715202004e-14 | In expected range? True\n",
      "error for qubits [3]: 0.04744444511840129 | In expected range? False\n",
      "error for qubits [4]: 0.04744444511840129 | In expected range? False\n"
     ]
    }
   ],
   "source": [
    "for comb in combinations(range(n_q), num_sim_q):\n",
    "    comb = list(comb)# mol['order'][0:mol['chem_acc_num_q']] #=list(comb)\n",
    "    ham_cs = cs_vqe_mol.contextual_subspace_hamiltonian_2(comb)\n",
    "    #print(ham_cs)\n",
    "    cs_energy = exact_gs_energy(ham_cs)\n",
    "    in_range = cs_energy<cs_vqe_mol.ngs_energy and cs_energy>exact\n",
    "    print(f'error for qubits {comb}:', cs_energy-exact, '| In expected range?', in_range)\n",
    "    #print(ham_cs)"
   ]
  },
  {
   "cell_type": "code",
   "execution_count": null,
   "metadata": {},
   "outputs": [],
   "source": []
  },
  {
   "cell_type": "code",
   "execution_count": null,
   "metadata": {},
   "outputs": [],
   "source": []
  }
 ],
 "metadata": {
  "interpreter": {
   "hash": "ed317ee92954f10b523c05d936162688dce17dc655b6992ddcfe7ac76ca38915"
  },
  "kernelspec": {
   "display_name": "Python 3 (ipykernel)",
   "language": "python",
   "name": "python3"
  },
  "language_info": {
   "codemirror_mode": {
    "name": "ipython",
    "version": 3
   },
   "file_extension": ".py",
   "mimetype": "text/x-python",
   "name": "python",
   "nbconvert_exporter": "python",
   "pygments_lexer": "ipython3",
   "version": "3.8.8"
  }
 },
 "nbformat": 4,
 "nbformat_minor": 2
}
