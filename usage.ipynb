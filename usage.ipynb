{
 "cells": [
  {
   "cell_type": "code",
   "execution_count": 1,
   "metadata": {},
   "outputs": [],
   "source": [
    "from qreduce.cs_vqe import cs_vqe\n",
    "from qreduce.utils import *\n",
    "from itertools import combinations\n",
    "import json\n",
    "import numpy as np"
   ]
  },
  {
   "cell_type": "code",
   "execution_count": 2,
   "metadata": {},
   "outputs": [
    {
     "data": {
      "text/plain": [
       "dict_keys(['H2O_STO-3G_SINGLET', 'LiH_STO-3G_SINGLET', 'HF_STO-3G_SINGLET', 'CH2_STO-3G_SINGLET', 'BeH2_STO-3G_SINGLET', 'HeH+_6-311G_SINGLET', 'BeH+_STO-3G_SINGLET', 'CH+_STO-3G_SINGLET', 'B+_STO-3G_SINGLET', 'OH+_STO-3G_SINGLET', 'OH-_STO-3G_SINGLET', 'O_STO-3G_SINGLET', 'Be_STO-3G_SINGLET', 'H4_STO-3G_SINGLET', 'B_STO-3G_DOUBLET', 'NH_STO-3G_SINGLET', 'BH_STO-3G_SINGLET', 'NH2+_STO-3G_SINGLET', 'BH2+_STO-3G_SINGLET', 'CH2_STO-3G_TRIPLET', 'C_STO-3G_TRIPLET'])"
      ]
     },
     "execution_count": 2,
     "metadata": {},
     "output_type": "execute_result"
    }
   ],
   "source": [
    "with open('data/model_data.json', 'r') as infile:\n",
    "        mol_data = json.load(infile)\n",
    "mol_data.keys()"
   ]
  },
  {
   "cell_type": "code",
   "execution_count": 22,
   "metadata": {},
   "outputs": [],
   "source": [
    "mol=mol_data['C_STO-3G_TRIPLET']\n",
    "ham=mol['ham']\n",
    "ansatz = mol['ansatze']['uccsd']\n",
    "n_q=mol['num_qubits']\n",
    "set_nc = mol['terms_noncon']\n",
    "cs_vqe_mol = cs_vqe(ham, noncontextual_set = set_nc, single_pauli='Z')"
   ]
  },
  {
   "cell_type": "code",
   "execution_count": 23,
   "metadata": {},
   "outputs": [
    {
     "name": "stdout",
     "output_type": "stream",
     "text": [
      "Generators: ['ZZIZI', 'ZZZIZ', 'ZIZIZ', 'ZZIIZ', 'ZZZII']\n",
      "Clique reps: ['IIIXZ', 'ZZIZI']\n",
      "G assignment: [ 1 -1 -1  1  1]\n",
      "r vector: [-4.65559701e-08  1.00000000e+00]\n",
      "Noncon nrg: -37.19839256373157\n",
      "NGS matches original? True \n",
      "\n"
     ]
    }
   ],
   "source": [
    "print(\"Generators:\", cs_vqe_mol.generators)\n",
    "print(\"Clique reps:\", cs_vqe_mol.cliquereps)\n",
    "#match=mol['X_index']==cs_vqe_mol.anti_clique_qubit\n",
    "#print('Anti-clique qubit match?', match, '\\n')\n",
    "\n",
    "print(\"G assignment:\", cs_vqe_mol.nu)#, ' | original:', np.array(list(mol['G'].values()), dtype=int))\n",
    "print(\"r vector:\", cs_vqe_mol.r)\n",
    "print(\"Noncon nrg:\", cs_vqe_mol.ngs_energy)\n",
    "print('NGS matches original?', abs(cs_vqe_mol.ngs_energy-mol['noncon'])<1e-13, '\\n')"
   ]
  },
  {
   "cell_type": "code",
   "execution_count": 24,
   "metadata": {},
   "outputs": [
    {
     "name": "stdout",
     "output_type": "stream",
     "text": [
      "Exact energy: -37.21873355063646\n",
      "Noncon error: 0.020340986904884062\n",
      "Target_error for 2 qubits: 0.00011593095587159041\n"
     ]
    }
   ],
   "source": [
    "num_sim_q = mol['chem_acc_num_q']\n",
    "exact, gs = exact_gs_energy(cs_vqe_mol.hamiltonian)\n",
    "print('Exact energy:',exact)\n",
    "print('Noncon error:', cs_vqe_mol.ngs_energy-exact)\n",
    "print(f'Target_error for {num_sim_q} qubits:', exact_gs_energy(mol['ham_reduced'][num_sim_q])[0]-exact)"
   ]
  },
  {
   "cell_type": "code",
   "execution_count": 25,
   "metadata": {},
   "outputs": [
    {
     "data": {
      "text/plain": [
       "{1: (0.020340986904891167, [1, 2, 3, 4]),\n",
       " 2: (0.00011593082034977442, [0, 1, 3]),\n",
       " 3: (8.187161783723695e-05, [1, 3]),\n",
       " 4: (4.117318268725967e-05, [1])}"
      ]
     },
     "execution_count": 25,
     "metadata": {},
     "output_type": "execute_result"
    }
   ],
   "source": [
    "optimal_error = {}\n",
    "for num_sim_q in range(1, cs_vqe_mol.num_qubits):\n",
    "    cs_vqe_errors = []\n",
    "    for order in combinations(range(len(cs_vqe_mol.generators)), cs_vqe_mol.num_qubits - num_sim_q):\n",
    "        order = list(order)\n",
    "        ham_cs = cs_vqe_mol.contextual_subspace_hamiltonian(order)\n",
    "        cs_energy, cs_vector = exact_gs_energy(ham_cs)\n",
    "        cs_vqe_errors.append((cs_energy-exact, order))\n",
    "    cs_vqe_errors = sorted(cs_vqe_errors, key=lambda x:x[0])\n",
    "    optimal_error[num_sim_q] = cs_vqe_errors[0]\n",
    "    \n",
    "optimal_error"
   ]
  },
  {
   "cell_type": "code",
   "execution_count": 26,
   "metadata": {},
   "outputs": [],
   "source": [
    "order  = [0,1]\n",
    "num_sim_q = cs_vqe_mol.num_qubits - len(order)\n",
    "ham_cs = cs_vqe_mol.contextual_subspace_hamiltonian(stabilizer_indices=order)\n",
    "anz_cs = cs_vqe_mol._contextual_subspace_projection(operator=ansatz, stabilizer_indices=order)"
   ]
  },
  {
   "cell_type": "code",
   "execution_count": 27,
   "metadata": {},
   "outputs": [
    {
     "name": "stdout",
     "output_type": "stream",
     "text": [
      "{'III': -30.930444308644365, 'ZZI': 0.268593428408034, 'ZII': 0.327186564075417, 'IZZ': -5.288731282819684, 'ZIZ': 0.29748676486961, 'IIZ': 0.224153132897281, 'IZI': 0.128244761278534, 'ZZZ': -0.387925448889483, 'IXZ': -8.44261e-10, 'ZXI': -8.44261e-10, 'IYY': -0.032711314378203, 'ZXX': 0.032711314378203, 'XYY': 0.032711315055016, 'YYX': -0.032711315055016, 'IZX': -1.522907e-09, 'IIX': 1.522907e-09, 'IXX': -0.032711314716609, 'ZYY': 0.032711314716609, 'XXX': -0.032711314716609, 'YXY': -0.032711314716609}\n"
     ]
    }
   ],
   "source": [
    "print(ham_cs)"
   ]
  },
  {
   "cell_type": "code",
   "execution_count": 28,
   "metadata": {},
   "outputs": [
    {
     "data": {
      "image/png": "[encoded data removed]",
      "text/plain": [
       "<Figure size 432x288 with 1 Axes>"
      ]
     },
     "metadata": {},
     "output_type": "display_data"
    }
   ],
   "source": [
    "plot_ground_state_amplitudes(operator=ham_cs, num_qubits=num_sim_q)"
   ]
  },
  {
   "cell_type": "code",
   "execution_count": 29,
   "metadata": {},
   "outputs": [
    {
     "name": "stdout",
     "output_type": "stream",
     "text": [
      "ZIZIZ {'rotations': [('IYIII', 1.5707963267948966, True), ('IYZII', 1.5707963267948966, True)], 'single_pauli_index': 1, 'single_pauli': 'IZIII', 'eigenvalue': 1}\n",
      "ZZIIZ {'rotations': [('IIIYI', 1.5707963267948966, True), ('ZIIYZ', 1.5707963267948966, True)], 'single_pauli_index': 3, 'single_pauli': 'IIIZI', 'eigenvalue': 1}\n",
      "ZZZII {'rotations': [('IIIIY', 1.5707963267948966, True), ('IIZIY', 1.5707963267948966, True)], 'single_pauli_index': 4, 'single_pauli': 'IIIIZ', 'eigenvalue': -1}\n"
     ]
    }
   ],
   "source": [
    "stabilizer_map = cs_vqe_mol.noncontextual_ground_state(stabilizer_indices=order)"
   ]
  },
  {
   "cell_type": "code",
   "execution_count": 30,
   "metadata": {},
   "outputs": [
    {
     "data": {
      "text/plain": [
       "{}"
      ]
     },
     "execution_count": 30,
     "metadata": {},
     "output_type": "execute_result"
    }
   ],
   "source": [
    "anz_cs"
   ]
  },
  {
   "cell_type": "code",
   "execution_count": null,
   "metadata": {},
   "outputs": [],
   "source": []
  }
 ],
 "metadata": {
  "interpreter": {
   "hash": "ed317ee92954f10b523c05d936162688dce17dc655b6992ddcfe7ac76ca38915"
  },
  "kernelspec": {
   "display_name": "Python 3 (ipykernel)",
   "language": "python",
   "name": "python3"
  },
  "language_info": {
   "codemirror_mode": {
    "name": "ipython",
    "version": 3
   },
   "file_extension": ".py",
   "mimetype": "text/x-python",
   "name": "python",
   "nbconvert_exporter": "python",
   "pygments_lexer": "ipython3",
   "version": "3.8.8"
  }
 },
 "nbformat": 4,
 "nbformat_minor": 2
}
