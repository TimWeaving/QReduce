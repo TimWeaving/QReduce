{
 "cells": [
  {
   "cell_type": "markdown",
   "metadata": {},
   "source": [
    "# <u>S</u>tabilizer <u>S</u>ub<u>S</u>pace (S3) Projections\n",
    "\n",
    "A library providing the necessary functionality to perform stabilizer subspace projections over systems of Pauli \n",
    "operators.\n",
    "\n",
    "This facilitates implementations of qubit reduction techniques such as [*tapering*](https://arxiv.org/abs/1701.08213) and [*Contextual-Subspace VQE*](https://doi.org/10.22331/q-2021-05-14-456)."
   ]
  },
  {
   "cell_type": "code",
   "execution_count": 1,
   "metadata": {},
   "outputs": [],
   "source": [
    "from qreduce.cs_vqe import cs_vqe\n",
    "from qreduce.utils import *\n",
    "from itertools import combinations\n",
    "import json\n",
    "import numpy as np"
   ]
  },
  {
   "cell_type": "code",
   "execution_count": 2,
   "metadata": {},
   "outputs": [
    {
     "data": {
      "text/plain": [
       "dict_keys(['H2O_STO-3G_SINGLET', 'LiH_STO-3G_SINGLET', 'HF_STO-3G_SINGLET', 'CH2_STO-3G_SINGLET', 'BeH2_STO-3G_SINGLET', 'HeH+_6-311G_SINGLET', 'BeH+_STO-3G_SINGLET', 'CH+_STO-3G_SINGLET', 'B+_STO-3G_SINGLET', 'OH+_STO-3G_SINGLET', 'OH-_STO-3G_SINGLET', 'O_STO-3G_SINGLET', 'Be_STO-3G_SINGLET', 'H4_STO-3G_SINGLET', 'B_STO-3G_DOUBLET', 'NH_STO-3G_SINGLET', 'BH_STO-3G_SINGLET', 'NH2+_STO-3G_SINGLET', 'BH2+_STO-3G_SINGLET', 'CH2_STO-3G_TRIPLET', 'C_STO-3G_TRIPLET'])"
      ]
     },
     "execution_count": 2,
     "metadata": {},
     "output_type": "execute_result"
    }
   ],
   "source": [
    "with open('data/model_data.json', 'r') as infile:\n",
    "        mol_data = json.load(infile)\n",
    "mol_data.keys()"
   ]
  },
  {
   "cell_type": "code",
   "execution_count": 3,
   "metadata": {},
   "outputs": [],
   "source": [
    "mol=mol_data['Be_STO-3G_SINGLET']\n",
    "ham=mol['ham']\n",
    "ansatz = mol['ansatze']['excite4']\n",
    "n_q=mol['num_qubits']\n",
    "set_nc = mol['terms_noncon']"
   ]
  },
  {
   "cell_type": "markdown",
   "metadata": {},
   "source": [
    "# Contextual-Subspace VQE\n",
    "Here we run through the basic CS-VQE functionality...\n",
    "\n",
    "When the `cs_vqe` class is initiated it generates a set of stabilizers defined through the CS-VQE method. These stabilizers are consistent with the noncontextual ground state energy, a classical estimate of the true value that is *at least as accurate* as Hartree-Fock."
   ]
  },
  {
   "cell_type": "code",
   "execution_count": 4,
   "metadata": {},
   "outputs": [
    {
     "name": "stdout",
     "output_type": "stream",
     "text": [
      "Noncontextual GS energy: -14.351880476201998  // matches original? True\n",
      "Symmetry generators:     ['IIIZZ', 'ZZZIZ', 'ZIZIZ', 'ZZIIZ', 'ZZZII']\n",
      "Clique representatives:  ['IZZXI', 'IIIZZ']\n",
      "Generator eigenvalues:   [ 1 -1 -1 -1  1]\n",
      "Clique operator coeffs:  [2.32142592e-08 1.00000000e+00]\n"
     ]
    }
   ],
   "source": [
    "cs = cs_vqe(ham, noncontextual_set = set_nc, single_pauli='Z')\n",
    "\n",
    "match_original = abs(cs.ngs_energy-mol['noncon'])<1e-13\n",
    "print(\"Noncontextual GS energy:\",  cs.ngs_energy, ' // matches original?', match_original)\n",
    "\n",
    "print(\"Symmetry generators:    \", cs.generators)\n",
    "print(\"Clique representatives: \", cs.cliquereps)\n",
    "print(\"Generator eigenvalues:  \", cs.nu)\n",
    "print(\"Clique operator coeffs: \", cs.r)"
   ]
  },
  {
   "cell_type": "code",
   "execution_count": 5,
   "metadata": {},
   "outputs": [
    {
     "name": "stdout",
     "output_type": "stream",
     "text": [
      "Exact energy: -14.40365510806765\n",
      "Noncon error: 0.051774631865651344\n",
      "Target_error for 3 qubits: 0.0003265060781139084\n"
     ]
    }
   ],
   "source": [
    "num_sim_q = mol['chem_acc_num_q']\n",
    "exact, gs = exact_gs_energy(cs.hamiltonian)\n",
    "print('Exact energy:',exact)\n",
    "print('Noncon error:', cs.ngs_energy-exact)\n",
    "print(f'Target_error for {num_sim_q} qubits:', exact_gs_energy(mol['ham_reduced'][num_sim_q])[0]-exact)"
   ]
  },
  {
   "cell_type": "markdown",
   "metadata": {},
   "source": [
    "**CS-VQE is sensitive to the choice of stabilizers we wish to enforce.**\n",
    "\n",
    "Below, we drop stabilizer constraints iteratively, choosing that which minimizes the energy at each step."
   ]
  },
  {
   "cell_type": "code",
   "execution_count": 6,
   "metadata": {},
   "outputs": [
    {
     "name": "stdout",
     "output_type": "stream",
     "text": [
      "Performing 1-qubit CS-VQE, we may obtain an absolute error of 0.03086421,\n",
      " enforcing the stabilizers ['IIIZZ', 'ZZZIZ', 'ZIZIZ', 'ZZIIZ']\n",
      "\n",
      "Performing 2-qubit CS-VQE, we may obtain an absolute error of 0.01421604,\n",
      " enforcing the stabilizers ['IIIZZ', 'ZZZIZ', 'ZIZIZ']\n",
      "\n",
      "Performing 3-qubit CS-VQE, we may obtain an absolute error of 0.00032651,\n",
      " enforcing the stabilizers ['IIIZZ', 'ZZZIZ']\n",
      "\n",
      "Performing 4-qubit CS-VQE, we may obtain an absolute error of 0.00017601,\n",
      " enforcing the stabilizers ['ZZZIZ']\n",
      "\n"
     ]
    }
   ],
   "source": [
    "stab_index_pool = list(range(len(cs.generators)))\n",
    "\n",
    "optimal_errors = {}\n",
    "for num_sim_q in range(1,cs.num_qubits):\n",
    "    cs_vqe_errors = []\n",
    "    for order in combinations(stab_index_pool, cs.num_qubits - num_sim_q):\n",
    "        order = list(order)\n",
    "        ham_cs, free_q = cs.contextual_subspace_hamiltonian(stabilizer_indices=order)#list(range(cs_vqe_mol.num_qubits)),\n",
    "                                                                    #projection_qubits=order)\n",
    "        cs_energy, cs_vector = exact_gs_energy(ham_cs)\n",
    "        cs_vqe_errors.append((cs_energy-exact, order))\n",
    "        \n",
    "    cs_vqe_errors = sorted(cs_vqe_errors, key=lambda x:x[0])\n",
    "    error, stab_index_pool = cs_vqe_errors[0]\n",
    "    \n",
    "    optimal_errors[num_sim_q]={}\n",
    "    optimal_errors[num_sim_q]['error'] = error\n",
    "    optimal_errors[num_sim_q]['stab_indices'] = list(stab_index_pool)\n",
    "    \n",
    "for num_sim_q in optimal_errors:\n",
    "    error = optimal_errors[num_sim_q]['error']\n",
    "    stab_indices = optimal_errors[num_sim_q]['stab_indices']\n",
    "    print(f'Performing {num_sim_q}-qubit CS-VQE, we may obtain',\n",
    "          f'an absolute error of {error:.8f},\\n',\n",
    "          f'enforcing the stabilizers {[cs.generators[i] for i in stab_indices]}\\n'\n",
    "         )"
   ]
  },
  {
   "cell_type": "markdown",
   "metadata": {},
   "source": [
    "Suppose we have access to just 3 qubits on some quantum device... then we may construct the corresponding 3-qubit CS-VQE model, obtaining the reduced Hamiltonian, Ansatz operator and noncontextual reference state."
   ]
  },
  {
   "cell_type": "code",
   "execution_count": 7,
   "metadata": {},
   "outputs": [],
   "source": [
    "num_sim_q = 3\n",
    "stab_indices = optimal_errors[num_sim_q]['stab_indices']\n",
    "ham_cs = cs.contextual_subspace_hamiltonian(stabilizer_indices=stab_indices)[0]\n",
    "anz_cs = cs._contextual_subspace_projection(operator=ansatz,stabilizer_indices=stab_indices)[0]\n",
    "ngs = cs.noncontextual_ground_state(stabilizer_indices=stab_indices)"
   ]
  },
  {
   "cell_type": "code",
   "execution_count": 8,
   "metadata": {},
   "outputs": [
    {
     "name": "stdout",
     "output_type": "stream",
     "text": [
      "Reduced Hamiltonian:\n",
      " {'III': -12.488598, 'ZZZ': 0.85829425, 'ZII': -0.85829425, 'IZZ': -0.02304318, 'IZI': -0.85829425, 'ZIZ': -0.02304318, 'ZZI': 0.02304318, 'IIZ': -0.64247074, 'XII': 0.01212469, 'XZZ': 0.01212469, 'IXI': 0.01212469, 'ZXZ': 0.01212469, 'XXI': 0.01212469, 'YYI': 0.01212469, 'IIX': -0.04340449, 'ZZX': -0.04340449, 'XIX': -0.04340449, 'YIY': -0.04340449, 'IXX': -0.04340449, 'IYY': -0.04340449}\n",
      "\n",
      "Reduced Ansatz:\n",
      " {'ZZY': 0.017375022779492245, 'IIY': 0.017375022779492245, 'YIX': -0.0173750227794926, 'XIY': 0.0173750227794926, 'IYX': -0.017375022779491482, 'IXY': 0.017375022779491482}\n",
      "\n",
      "Reference state: 001\n"
     ]
    }
   ],
   "source": [
    "print('Reduced Hamiltonian:\\n', ham_cs)\n",
    "print('\\nReduced Ansatz:\\n', anz_cs)\n",
    "print('\\nReference state:', ngs)"
   ]
  },
  {
   "cell_type": "code",
   "execution_count": 9,
   "metadata": {},
   "outputs": [
    {
     "data": {
      "image/png": "[encoded data removed]",
      "text/plain": [
       "<Figure size 432x288 with 1 Axes>"
      ]
     },
     "metadata": {},
     "output_type": "display_data"
    }
   ],
   "source": [
    "plot_ground_state_amplitudes(operator=ham_cs, num_qubits=num_sim_q)#, reverse_bitstrings=True)"
   ]
  },
  {
   "cell_type": "markdown",
   "metadata": {},
   "source": [
    "## Running CS-VQE\n",
    "\n",
    "Finally, we may perform a VQE routine taking as input the reduced Hamiltonian and Ansatz defined above."
   ]
  },
  {
   "cell_type": "code",
   "execution_count": 19,
   "metadata": {},
   "outputs": [],
   "source": [
    "import qreduce.circuit_tools as circ\n",
    "import qreduce.circuit_execution_tools as circ_ex\n",
    "from qiskit.circuit import QuantumCircuit"
   ]
  },
  {
   "cell_type": "code",
   "execution_count": 46,
   "metadata": {},
   "outputs": [
    {
     "ename": "MissingOptionalLibraryError",
     "evalue": "\"The 'pylatexenc' library is required to use 'MatplotlibDrawer'. You can install it with 'pip install pylatexenc'.\"",
     "output_type": "error",
     "traceback": [
      "\u001b[0;31m---------------------------------------------------------------------------\u001b[0m",
      "\u001b[0;31mMissingOptionalLibraryError\u001b[0m               Traceback (most recent call last)",
      "\u001b[0;32m/tmp/ipykernel_52133/1759425217.py\u001b[0m in \u001b[0;36m<module>\u001b[0;34m\u001b[0m\n\u001b[1;32m     11\u001b[0m \u001b[0mqc\u001b[0m\u001b[0;34m.\u001b[0m\u001b[0mparameter_bounds\u001b[0m \u001b[0;34m=\u001b[0m \u001b[0mbounds\u001b[0m\u001b[0;34m\u001b[0m\u001b[0;34m\u001b[0m\u001b[0m\n\u001b[1;32m     12\u001b[0m \u001b[0;34m\u001b[0m\u001b[0m\n\u001b[0;32m---> 13\u001b[0;31m \u001b[0mqc\u001b[0m\u001b[0;34m.\u001b[0m\u001b[0mdraw\u001b[0m\u001b[0;34m(\u001b[0m\u001b[0moutput\u001b[0m\u001b[0;34m=\u001b[0m\u001b[0;34m'mpl'\u001b[0m\u001b[0;34m)\u001b[0m\u001b[0;34m\u001b[0m\u001b[0;34m\u001b[0m\u001b[0m\n\u001b[0m",
      "\u001b[0;32m~/.local/lib/python3.8/site-packages/qiskit/circuit/quantumcircuit.py\u001b[0m in \u001b[0;36mdraw\u001b[0;34m(self, output, scale, filename, style, interactive, plot_barriers, reverse_bits, justify, vertical_compression, idle_wires, with_layout, fold, ax, initial_state, cregbundle)\u001b[0m\n\u001b[1;32m   1604\u001b[0m         \u001b[0;32mfrom\u001b[0m \u001b[0mqiskit\u001b[0m\u001b[0;34m.\u001b[0m\u001b[0mvisualization\u001b[0m \u001b[0;32mimport\u001b[0m \u001b[0mcircuit_drawer\u001b[0m\u001b[0;34m\u001b[0m\u001b[0;34m\u001b[0m\u001b[0m\n\u001b[1;32m   1605\u001b[0m \u001b[0;34m\u001b[0m\u001b[0m\n\u001b[0;32m-> 1606\u001b[0;31m         return circuit_drawer(\n\u001b[0m\u001b[1;32m   1607\u001b[0m             \u001b[0mself\u001b[0m\u001b[0;34m,\u001b[0m\u001b[0;34m\u001b[0m\u001b[0;34m\u001b[0m\u001b[0m\n\u001b[1;32m   1608\u001b[0m             \u001b[0mscale\u001b[0m\u001b[0;34m=\u001b[0m\u001b[0mscale\u001b[0m\u001b[0;34m,\u001b[0m\u001b[0;34m\u001b[0m\u001b[0;34m\u001b[0m\u001b[0m\n",
      "\u001b[0;32m~/.local/lib/python3.8/site-packages/qiskit/visualization/circuit_visualization.py\u001b[0m in \u001b[0;36mcircuit_drawer\u001b[0;34m(circuit, scale, filename, style, output, interactive, plot_barriers, reverse_bits, justify, vertical_compression, idle_wires, with_layout, fold, ax, initial_state, cregbundle)\u001b[0m\n\u001b[1;32m    236\u001b[0m         )\n\u001b[1;32m    237\u001b[0m     \u001b[0;32melif\u001b[0m \u001b[0moutput\u001b[0m \u001b[0;34m==\u001b[0m \u001b[0;34m\"mpl\"\u001b[0m\u001b[0;34m:\u001b[0m\u001b[0;34m\u001b[0m\u001b[0;34m\u001b[0m\u001b[0m\n\u001b[0;32m--> 238\u001b[0;31m         image = _matplotlib_circuit_drawer(\n\u001b[0m\u001b[1;32m    239\u001b[0m             \u001b[0mcircuit\u001b[0m\u001b[0;34m,\u001b[0m\u001b[0;34m\u001b[0m\u001b[0;34m\u001b[0m\u001b[0m\n\u001b[1;32m    240\u001b[0m             \u001b[0mscale\u001b[0m\u001b[0;34m=\u001b[0m\u001b[0mscale\u001b[0m\u001b[0;34m,\u001b[0m\u001b[0;34m\u001b[0m\u001b[0;34m\u001b[0m\u001b[0m\n",
      "\u001b[0;32m~/.local/lib/python3.8/site-packages/qiskit/visualization/circuit_visualization.py\u001b[0m in \u001b[0;36m_matplotlib_circuit_drawer\u001b[0;34m(circuit, scale, filename, style, plot_barriers, reverse_bits, justify, idle_wires, with_layout, fold, ax, initial_state, cregbundle)\u001b[0m\n\u001b[1;32m    601\u001b[0m \u001b[0;34m\u001b[0m\u001b[0m\n\u001b[1;32m    602\u001b[0m     \u001b[0mglobal_phase\u001b[0m \u001b[0;34m=\u001b[0m \u001b[0mcircuit\u001b[0m\u001b[0;34m.\u001b[0m\u001b[0mglobal_phase\u001b[0m \u001b[0;32mif\u001b[0m \u001b[0mhasattr\u001b[0m\u001b[0;34m(\u001b[0m\u001b[0mcircuit\u001b[0m\u001b[0;34m,\u001b[0m \u001b[0;34m\"global_phase\"\u001b[0m\u001b[0;34m)\u001b[0m \u001b[0;32melse\u001b[0m \u001b[0;32mNone\u001b[0m\u001b[0;34m\u001b[0m\u001b[0;34m\u001b[0m\u001b[0m\n\u001b[0;32m--> 603\u001b[0;31m     qcd = _matplotlib.MatplotlibDrawer(\n\u001b[0m\u001b[1;32m    604\u001b[0m         \u001b[0mqubits\u001b[0m\u001b[0;34m,\u001b[0m\u001b[0;34m\u001b[0m\u001b[0;34m\u001b[0m\u001b[0m\n\u001b[1;32m    605\u001b[0m         \u001b[0mclbits\u001b[0m\u001b[0;34m,\u001b[0m\u001b[0;34m\u001b[0m\u001b[0;34m\u001b[0m\u001b[0m\n",
      "\u001b[0;32m~/.local/lib/python3.8/site-packages/qiskit/visualization/matplotlib.py\u001b[0m in \u001b[0;36m__init__\u001b[0;34m(self, qubits, clbits, nodes, scale, style, reverse_bits, plot_barriers, layout, fold, ax, initial_state, cregbundle, global_phase, qregs, cregs)\u001b[0m\n\u001b[1;32m    143\u001b[0m         \u001b[0mself\u001b[0m\u001b[0;34m.\u001b[0m\u001b[0mplt_mod\u001b[0m \u001b[0;34m=\u001b[0m \u001b[0mplt\u001b[0m\u001b[0;34m\u001b[0m\u001b[0;34m\u001b[0m\u001b[0m\n\u001b[1;32m    144\u001b[0m         \u001b[0;32mif\u001b[0m \u001b[0;32mnot\u001b[0m \u001b[0mHAS_PYLATEX\u001b[0m\u001b[0;34m:\u001b[0m\u001b[0;34m\u001b[0m\u001b[0;34m\u001b[0m\u001b[0m\n\u001b[0;32m--> 145\u001b[0;31m             raise MissingOptionalLibraryError(\n\u001b[0m\u001b[1;32m    146\u001b[0m                 \u001b[0mlibname\u001b[0m\u001b[0;34m=\u001b[0m\u001b[0;34m\"pylatexenc\"\u001b[0m\u001b[0;34m,\u001b[0m\u001b[0;34m\u001b[0m\u001b[0;34m\u001b[0m\u001b[0m\n\u001b[1;32m    147\u001b[0m                 \u001b[0mname\u001b[0m\u001b[0;34m=\u001b[0m\u001b[0;34m\"MatplotlibDrawer\"\u001b[0m\u001b[0;34m,\u001b[0m\u001b[0;34m\u001b[0m\u001b[0;34m\u001b[0m\u001b[0m\n",
      "\u001b[0;31mMissingOptionalLibraryError\u001b[0m: \"The 'pylatexenc' library is required to use 'MatplotlibDrawer'. You can install it with 'pip install pylatexenc'.\""
     ]
    }
   ],
   "source": [
    "qc = QuantumCircuit(num_sim_q)\n",
    "for index, bit in enumerate(ngs):\n",
    "    q_pos = num_sim_q-1-index\n",
    "    if int(bit)==1:\n",
    "        qc.x(q_pos)\n",
    "\n",
    "qc = circ.circ_from_paulis(circ=qc, paulis=list(anz_cs.keys()), trot_order=2)\n",
    "circ.cancel_pairs(circ=qc, hit_set={'s', 'sdg'})\n",
    "circ.cancel_pairs(circ=qc, hit_set={'h', 'h'})\n",
    "bounds = np.array([(a-np.pi/2, a+np.pi/2) for a in anz_cs.values()]) # optimization bounds\n",
    "qc.parameter_bounds = bounds\n",
    "\n",
    "qc.draw(output='mpl')"
   ]
  },
  {
   "cell_type": "code",
   "execution_count": 44,
   "metadata": {},
   "outputs": [],
   "source": [
    "vqe_result = circ_ex.vqe_simulation(ansatz=qc, operator=ham_cs, init_params=np.array(list(anz_cs.values())))"
   ]
  },
  {
   "cell_type": "code",
   "execution_count": 45,
   "metadata": {},
   "outputs": [
    {
     "data": {
      "text/plain": [
       "<matplotlib.legend.Legend at 0x7fb634806790>"
      ]
     },
     "execution_count": 45,
     "metadata": {},
     "output_type": "execute_result"
    },
    {
     "data": {
      "image/png": "[encoded data removed]",
      "text/plain": [
       "<Figure size 432x288 with 1 Axes>"
      ]
     },
     "metadata": {},
     "output_type": "display_data"
    }
   ],
   "source": [
    "log_errors = np.log10(np.square(np.array(vqe_result['values'])-exact))\n",
    "plt.plot(log_errors, color='black', label='Optimizer output')\n",
    "plt.hlines(np.log10(0.0016**2), 0, vqe_result['counts'][-1], label='Chemical accuracy', color='green')\n",
    "plt.legend()"
   ]
  }
 ],
 "metadata": {
  "interpreter": {
   "hash": "ed317ee92954f10b523c05d936162688dce17dc655b6992ddcfe7ac76ca38915"
  },
  "kernelspec": {
   "display_name": "Python 3 (ipykernel)",
   "language": "python",
   "name": "python3"
  },
  "language_info": {
   "codemirror_mode": {
    "name": "ipython",
    "version": 3
   },
   "file_extension": ".py",
   "mimetype": "text/x-python",
   "name": "python",
   "nbconvert_exporter": "python",
   "pygments_lexer": "ipython3",
   "version": "3.8.8"
  }
 },
 "nbformat": 4,
 "nbformat_minor": 2
}
