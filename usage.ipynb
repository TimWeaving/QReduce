{
 "cells": [
  {
   "cell_type": "code",
   "execution_count": 1,
   "metadata": {},
   "outputs": [],
   "source": [
    "from qreduce.cs_vqe import cs_vqe_model\n",
    "from qreduce.utils import * \n",
    "from itertools import combinations\n",
    "import json\n",
    "import numpy as np"
   ]
  },
  {
   "cell_type": "code",
   "execution_count": 2,
   "metadata": {},
   "outputs": [
    {
     "name": "stdout",
     "output_type": "stream",
     "text": [
      "{'ZZZIZ': 0, 'ZIZIZ': 2, 'ZZIIZ': 4, 'ZZZII': 1, 'ZZZZZ': 3}\n",
      "{0: {'generator': 'ZZZIZ', 'symmetry': True, 'rotation': [('YIIII', 1.5707963267948966, True), ('YZZIZ', 1.5707963267948966, True)]}, 1: {'generator': 'ZZZII', 'symmetry': True, 'rotation': [('IYIII', 1.5707963267948966, True), ('ZYZII', 1.5707963267948966, True)]}, 2: {'generator': 'ZIZIZ', 'symmetry': True, 'rotation': [('IIYII', 1.5707963267948966, True), ('ZIYIZ', 1.5707963267948966, True)]}, 3: {'generator': 'ZZZZZ', 'symmetry': False, 'rotation': [('IIIYI', 2.3215009309522018e-08, False), ('IIIYI', 1.5707963267948966, True), ('ZZZYZ', 1.5707963267948966, True)]}, 4: {'generator': 'ZZIIZ', 'symmetry': True, 'rotation': [('IIIIY', 1.5707963267948966, True), ('ZZIIY', 1.5707963267948966, True)]}}\n",
      "[('IIIYI', 2.3215009309522018e-08, False), ('IIIYI', 1.5707963267948966, True), ('ZZZYZ', 1.5707963267948966, True), ('YIIII', 1.5707963267948966, True), ('YZZIZ', 1.5707963267948966, True), ('IYIII', 1.5707963267948966, True), ('ZYZII', 1.5707963267948966, True), ('IIYII', 1.5707963267948966, True), ('ZIYIZ', 1.5707963267948966, True), ('IIIIY', 1.5707963267948966, True), ('ZZIIY', 1.5707963267948966, True)]\n"
     ]
    }
   ],
   "source": [
    "with open('data/model_data.json', 'r') as infile:\n",
    "        mol_data = json.load(infile)\n",
    "mol=mol_data['B+_STO-3G_SINGLET']\n",
    "ham=mol['ham']\n",
    "n_q=mol['num_qubits']\n",
    "set_nc = mol['terms_noncon']\n",
    "cs_vqe_mol = cs_vqe_model(ham, n_q, noncontextual_set = set_nc)"
   ]
  },
  {
   "cell_type": "code",
   "execution_count": 3,
   "metadata": {},
   "outputs": [
    {
     "name": "stdout",
     "output_type": "stream",
     "text": [
      "Generators: ['ZZZIZ', 'ZIZIZ', 'ZZIIZ', 'ZZZII']\n",
      "Clique reps: ['ZZZXZ', 'ZZZZZ']\n",
      "Anti-clique qubit match? True \n",
      "\n",
      "G assignment: [-1 -1 -1  1]\n",
      "r vector: [2.32150093e-08 1.00000000e+00]\n",
      "Noncon nrg: -24.1489885988536\n",
      "NGS matches original? True \n",
      "\n",
      "Stabilizers: {'ZIIII': 1, 'IIZIZ': -1, 'ZZZIZ': 1, 'IZIIZ': 1, 'IIIZI': -1.0}\n",
      "Stab qubits: [0, 2, 0, 1, 3]\n"
     ]
    }
   ],
   "source": [
    "print(\"Generators:\", cs_vqe_mol.generators)\n",
    "print(\"Clique reps:\", cs_vqe_mol.cliquereps)\n",
    "match=mol['X_index']==cs_vqe_mol.anti_clique_qubit\n",
    "print('Anti-clique qubit match?', match, '\\n')\n",
    "\n",
    "print(\"G assignment:\", cs_vqe_mol.nu)#, ' | original:', np.array(list(mol['G'].values()), dtype=int))\n",
    "print(\"r vector:\", cs_vqe_mol.r)\n",
    "print(\"Noncon nrg:\", cs_vqe_mol.ngs_energy)\n",
    "print('NGS matches original?', abs(cs_vqe_mol.ngs_energy-mol['noncon'])<1e-13, '\\n')\n",
    "\n",
    "print(\"Stabilizers:\", cs_vqe_mol.stabilizers)\n",
    "print(\"Stab qubits:\", cs_vqe_mol.stab_qubits)"
   ]
  },
  {
   "cell_type": "code",
   "execution_count": 4,
   "metadata": {},
   "outputs": [
    {
     "data": {
      "text/plain": [
       "(-24.1489885988536, -24.14898859885359)"
      ]
     },
     "execution_count": 4,
     "metadata": {},
     "output_type": "execute_result"
    }
   ],
   "source": [
    "cs_vqe_mol.ngs_energy,mol['noncon']"
   ]
  },
  {
   "cell_type": "code",
   "execution_count": 5,
   "metadata": {},
   "outputs": [
    {
     "name": "stdout",
     "output_type": "stream",
     "text": [
      "Exact energy: -24.189264917100314\n",
      "Noncon error: 0.04027631824671474\n",
      "Target_error for 3 qubits: 0.0001845717122392898\n"
     ]
    }
   ],
   "source": [
    "num_sim_q = mol['chem_acc_num_q']\n",
    "exact = exact_gs_energy(cs_vqe_mol.ham)\n",
    "print('Exact energy:',exact)\n",
    "print('Noncon error:', cs_vqe_mol.ngs_energy-exact)\n",
    "print(f'Target_error for {num_sim_q} qubits:', exact_gs_energy(mol['ham_reduced'][num_sim_q])-exact)"
   ]
  },
  {
   "cell_type": "code",
   "execution_count": 6,
   "metadata": {},
   "outputs": [
    {
     "ename": "LinAlgError",
     "evalue": "0-dimensional array given. Array must be at least two-dimensional",
     "output_type": "error",
     "traceback": [
      "\u001b[0;31m---------------------------------------------------------------------------\u001b[0m",
      "\u001b[0;31mLinAlgError\u001b[0m                               Traceback (most recent call last)",
      "\u001b[0;32m/tmp/ipykernel_28897/2509338260.py\u001b[0m in \u001b[0;36m<module>\u001b[0;34m\u001b[0m\n\u001b[1;32m      3\u001b[0m     \u001b[0mham_cs\u001b[0m \u001b[0;34m=\u001b[0m \u001b[0mcs_vqe_mol\u001b[0m\u001b[0;34m.\u001b[0m\u001b[0mcontextual_subspace_hamiltonian_2\u001b[0m\u001b[0;34m(\u001b[0m\u001b[0mcomb\u001b[0m\u001b[0;34m)\u001b[0m\u001b[0;34m\u001b[0m\u001b[0;34m\u001b[0m\u001b[0m\n\u001b[1;32m      4\u001b[0m     \u001b[0;31m#print(ham_cs)\u001b[0m\u001b[0;34m\u001b[0m\u001b[0;34m\u001b[0m\u001b[0;34m\u001b[0m\u001b[0m\n\u001b[0;32m----> 5\u001b[0;31m     \u001b[0mcs_energy\u001b[0m \u001b[0;34m=\u001b[0m \u001b[0mexact_gs_energy\u001b[0m\u001b[0;34m(\u001b[0m\u001b[0mham_cs\u001b[0m\u001b[0;34m)\u001b[0m\u001b[0;34m\u001b[0m\u001b[0;34m\u001b[0m\u001b[0m\n\u001b[0m\u001b[1;32m      6\u001b[0m     \u001b[0min_range\u001b[0m \u001b[0;34m=\u001b[0m \u001b[0mcs_energy\u001b[0m\u001b[0;34m<\u001b[0m\u001b[0mcs_vqe_mol\u001b[0m\u001b[0;34m.\u001b[0m\u001b[0mngs_energy\u001b[0m \u001b[0;32mand\u001b[0m \u001b[0mcs_energy\u001b[0m\u001b[0;34m>\u001b[0m\u001b[0mexact\u001b[0m\u001b[0;34m\u001b[0m\u001b[0;34m\u001b[0m\u001b[0m\n\u001b[1;32m      7\u001b[0m     \u001b[0mprint\u001b[0m\u001b[0;34m(\u001b[0m\u001b[0;34mf'error for qubits {comb}:'\u001b[0m\u001b[0;34m,\u001b[0m \u001b[0mcs_energy\u001b[0m\u001b[0;34m-\u001b[0m\u001b[0mexact\u001b[0m\u001b[0;34m,\u001b[0m \u001b[0;34m'| In expected range?'\u001b[0m\u001b[0;34m,\u001b[0m \u001b[0min_range\u001b[0m\u001b[0;34m)\u001b[0m\u001b[0;34m\u001b[0m\u001b[0;34m\u001b[0m\u001b[0m\n",
      "\u001b[0;32m~/qc-research/QReduce/qreduce/utils.py\u001b[0m in \u001b[0;36mexact_gs_energy\u001b[0;34m(ham)\u001b[0m\n\u001b[1;32m    222\u001b[0m \u001b[0;32mdef\u001b[0m \u001b[0mexact_gs_energy\u001b[0m\u001b[0;34m(\u001b[0m\u001b[0mham\u001b[0m\u001b[0;34m:\u001b[0m\u001b[0mDict\u001b[0m\u001b[0;34m[\u001b[0m\u001b[0mstr\u001b[0m\u001b[0;34m,\u001b[0m \u001b[0mfloat\u001b[0m\u001b[0;34m]\u001b[0m\u001b[0;34m)\u001b[0m\u001b[0;34m:\u001b[0m\u001b[0;34m\u001b[0m\u001b[0;34m\u001b[0m\u001b[0m\n\u001b[1;32m    223\u001b[0m     \u001b[0mham_mat\u001b[0m \u001b[0;34m=\u001b[0m \u001b[0msum\u001b[0m\u001b[0;34m(\u001b[0m\u001b[0mcoeff\u001b[0m \u001b[0;34m*\u001b[0m \u001b[0mpauli_matrix\u001b[0m\u001b[0;34m(\u001b[0m\u001b[0mop\u001b[0m\u001b[0;34m)\u001b[0m \u001b[0;32mfor\u001b[0m \u001b[0mop\u001b[0m\u001b[0;34m,\u001b[0m \u001b[0mcoeff\u001b[0m \u001b[0;32min\u001b[0m \u001b[0mham\u001b[0m\u001b[0;34m.\u001b[0m\u001b[0mitems\u001b[0m\u001b[0;34m(\u001b[0m\u001b[0;34m)\u001b[0m\u001b[0;34m)\u001b[0m\u001b[0;34m\u001b[0m\u001b[0;34m\u001b[0m\u001b[0m\n\u001b[0;32m--> 224\u001b[0;31m     \u001b[0mgs_energy\u001b[0m \u001b[0;34m=\u001b[0m \u001b[0msorted\u001b[0m\u001b[0;34m(\u001b[0m\u001b[0mnp\u001b[0m\u001b[0;34m.\u001b[0m\u001b[0mlinalg\u001b[0m\u001b[0;34m.\u001b[0m\u001b[0meigh\u001b[0m\u001b[0;34m(\u001b[0m\u001b[0mham_mat\u001b[0m\u001b[0;34m)\u001b[0m\u001b[0;34m[\u001b[0m\u001b[0;36m0\u001b[0m\u001b[0;34m]\u001b[0m\u001b[0;34m)\u001b[0m\u001b[0;34m[\u001b[0m\u001b[0;36m0\u001b[0m\u001b[0;34m]\u001b[0m\u001b[0;34m\u001b[0m\u001b[0;34m\u001b[0m\u001b[0m\n\u001b[0m\u001b[1;32m    225\u001b[0m     \u001b[0;32mreturn\u001b[0m \u001b[0mgs_energy\u001b[0m\u001b[0;34m\u001b[0m\u001b[0;34m\u001b[0m\u001b[0m\n\u001b[1;32m    226\u001b[0m \u001b[0;34m\u001b[0m\u001b[0m\n",
      "\u001b[0;32m<__array_function__ internals>\u001b[0m in \u001b[0;36meigh\u001b[0;34m(*args, **kwargs)\u001b[0m\n",
      "\u001b[0;32m~/.local/lib/python3.8/site-packages/numpy/linalg/linalg.py\u001b[0m in \u001b[0;36meigh\u001b[0;34m(a, UPLO)\u001b[0m\n\u001b[1;32m   1456\u001b[0m \u001b[0;34m\u001b[0m\u001b[0m\n\u001b[1;32m   1457\u001b[0m     \u001b[0ma\u001b[0m\u001b[0;34m,\u001b[0m \u001b[0mwrap\u001b[0m \u001b[0;34m=\u001b[0m \u001b[0m_makearray\u001b[0m\u001b[0;34m(\u001b[0m\u001b[0ma\u001b[0m\u001b[0;34m)\u001b[0m\u001b[0;34m\u001b[0m\u001b[0;34m\u001b[0m\u001b[0m\n\u001b[0;32m-> 1458\u001b[0;31m     \u001b[0m_assert_stacked_2d\u001b[0m\u001b[0;34m(\u001b[0m\u001b[0ma\u001b[0m\u001b[0;34m)\u001b[0m\u001b[0;34m\u001b[0m\u001b[0;34m\u001b[0m\u001b[0m\n\u001b[0m\u001b[1;32m   1459\u001b[0m     \u001b[0m_assert_stacked_square\u001b[0m\u001b[0;34m(\u001b[0m\u001b[0ma\u001b[0m\u001b[0;34m)\u001b[0m\u001b[0;34m\u001b[0m\u001b[0;34m\u001b[0m\u001b[0m\n\u001b[1;32m   1460\u001b[0m     \u001b[0mt\u001b[0m\u001b[0;34m,\u001b[0m \u001b[0mresult_t\u001b[0m \u001b[0;34m=\u001b[0m \u001b[0m_commonType\u001b[0m\u001b[0;34m(\u001b[0m\u001b[0ma\u001b[0m\u001b[0;34m)\u001b[0m\u001b[0;34m\u001b[0m\u001b[0;34m\u001b[0m\u001b[0m\n",
      "\u001b[0;32m~/.local/lib/python3.8/site-packages/numpy/linalg/linalg.py\u001b[0m in \u001b[0;36m_assert_stacked_2d\u001b[0;34m(*arrays)\u001b[0m\n\u001b[1;32m    194\u001b[0m     \u001b[0;32mfor\u001b[0m \u001b[0ma\u001b[0m \u001b[0;32min\u001b[0m \u001b[0marrays\u001b[0m\u001b[0;34m:\u001b[0m\u001b[0;34m\u001b[0m\u001b[0;34m\u001b[0m\u001b[0m\n\u001b[1;32m    195\u001b[0m         \u001b[0;32mif\u001b[0m \u001b[0ma\u001b[0m\u001b[0;34m.\u001b[0m\u001b[0mndim\u001b[0m \u001b[0;34m<\u001b[0m \u001b[0;36m2\u001b[0m\u001b[0;34m:\u001b[0m\u001b[0;34m\u001b[0m\u001b[0;34m\u001b[0m\u001b[0m\n\u001b[0;32m--> 196\u001b[0;31m             raise LinAlgError('%d-dimensional array given. Array must be '\n\u001b[0m\u001b[1;32m    197\u001b[0m                     'at least two-dimensional' % a.ndim)\n\u001b[1;32m    198\u001b[0m \u001b[0;34m\u001b[0m\u001b[0m\n",
      "\u001b[0;31mLinAlgError\u001b[0m: 0-dimensional array given. Array must be at least two-dimensional"
     ]
    }
   ],
   "source": [
    "for comb in combinations(range(n_q), num_sim_q+1):\n",
    "    comb = list(comb)# mol['order'][0:mol['chem_acc_num_q']] #=list(comb)\n",
    "    ham_cs = cs_vqe_mol.contextual_subspace_hamiltonian_2(comb)\n",
    "    #print(ham_cs)\n",
    "    cs_energy = exact_gs_energy(ham_cs)\n",
    "    in_range = cs_energy<cs_vqe_mol.ngs_energy and cs_energy>exact\n",
    "    print(f'error for qubits {comb}:', cs_energy-exact, '| In expected range?', in_range)\n",
    "    #print(ham_cs)"
   ]
  },
  {
   "cell_type": "code",
   "execution_count": null,
   "metadata": {},
   "outputs": [],
   "source": [
    "cs_vqe_mol.stabilizer_rotations"
   ]
  },
  {
   "cell_type": "code",
   "execution_count": null,
   "metadata": {},
   "outputs": [],
   "source": [
    "'IZIZZ'.find('X')"
   ]
  },
  {
   "cell_type": "code",
   "execution_count": null,
   "metadata": {},
   "outputs": [],
   "source": [
    "from itertools import permutations"
   ]
  },
  {
   "cell_type": "code",
   "execution_count": 70,
   "metadata": {},
   "outputs": [],
   "source": [
    "ops_to_rotate = ['ZZZIZ', 'ZIZIZ', 'ZZIIZ', 'ZZZII']\n",
    "ops_to_rotate = ['ZZZZZ']+sorted(ops_to_rotate, key=lambda x:x.count('Z'))"
   ]
  },
  {
   "cell_type": "code",
   "execution_count": 71,
   "metadata": {},
   "outputs": [
    {
     "name": "stdout",
     "output_type": "stream",
     "text": [
      "[]\n",
      "ZZZZZ\n",
      "{'ZZZZZ': 1}\n",
      "\n",
      "[('IIIYI', 2.3215009309522018e-08, False), ('YIIII', 1.5707963267948966, True), ('YZZZZ', 1.5707963267948966, True)]\n",
      "ZIZIZ\n",
      "{'ZZIZI': -1}\n",
      "\n",
      "[('IIIYI', 2.3215009309522018e-08, False), ('YIIII', 1.5707963267948966, True), ('YZZZZ', 1.5707963267948966, True), ('IYIII', 1.5707963267948966, True), ('ZYIZI', 1.5707963267948966, True)]\n",
      "ZZIIZ\n",
      "{'ZIZZI': -1}\n",
      "\n",
      "[('IIIYI', 2.3215009309522018e-08, False), ('YIIII', 1.5707963267948966, True), ('YZZZZ', 1.5707963267948966, True), ('IYIII', 1.5707963267948966, True), ('ZYIZI', 1.5707963267948966, True), ('IIYII', 1.5707963267948966, True), ('ZIYZI', 1.5707963267948966, True)]\n",
      "ZZZII\n",
      "{'ZIIZZ': -1}\n",
      "\n",
      "[('IIIYI', 2.3215009309522018e-08, False), ('YIIII', 1.5707963267948966, True), ('YZZZZ', 1.5707963267948966, True), ('IYIII', 1.5707963267948966, True), ('ZYIZI', 1.5707963267948966, True), ('IIYII', 1.5707963267948966, True), ('ZIYZI', 1.5707963267948966, True), ('IIIYI', 1.5707963267948966, True), ('ZIIYZ', 1.5707963267948966, True)]\n",
      "ZZZIZ\n",
      "{'IIIZZ': 1}\n",
      "\n"
     ]
    }
   ],
   "source": [
    "num_qubits=5\n",
    "used_qubits = []\n",
    "clique_rot = rotate_operator(cs_vqe_mol.anti_clique_operator, [\n",
    "                                           cs_vqe_mol.unitary_partitioning])\n",
    "stabilizer_map = {i: {'generator': None, 'symmetry': True,\n",
    "                         'rotation': []} for i in range(num_qubits)}\n",
    "rotations=[]\n",
    "for G in ops_to_rotate:\n",
    "    print(rotations)\n",
    "    print(G)\n",
    "    print(rotate_operator({G:1}, rotations))\n",
    "    G_rot = list(rotate_operator({G:1}, rotations).keys())[0]\n",
    "\n",
    "    if G_rot.count('Z')==1:\n",
    "        used_qubits.append(G_rot.index('Z'))\n",
    "        if G_rot in clique_rot:\n",
    "            rotations[Z_index]['symmetry'] = False\n",
    "            rotations[Z_index]['rotation'].append(self.unitary_partitioning)\n",
    "    else:\n",
    "        if set(G_rot) in [{'Z'},{'I','Z'}]:\n",
    "            Z_indices = [i for i in range(cs_vqe_mol.num_qubits) if G_rot[i]=='Z' and i not in used_qubits]\n",
    "            Z_index = Z_indices[0]\n",
    "            rot_op = amend_string_index(['I' for i in range(cs_vqe_mol.num_qubits)],Z_index,'Y')\n",
    "            stabilizer_map[Z_index]['rotation'].append((rot_op, np.pi/2, True))\n",
    "            rotations.append((rot_op, np.pi/2, True))\n",
    "            G_offdiag = amend_string_index(G_rot,Z_index,'X')\n",
    "        else:\n",
    "            G_offdiag = deepcopy(G_rot)\n",
    "            Z_index = [i for i in range(cs_vqe_mol.num_qubits) if G_offdiag[i] in [\n",
    "                        'X', 'Y'] and i not in used_qubits][0]\n",
    "        \n",
    "        stabilizer_map[Z_index]['generator'] = G\n",
    "        if G_offdiag[Z_index] == 'X':\n",
    "            rot_op = amend_string_index(G_offdiag,Z_index,'Y')\n",
    "        else:\n",
    "            rot_op = amend_string_index(G_offdiag,Z_index,'X')\n",
    "        stabilizer_map[Z_index]['rotation'].append((rot_op, np.pi/2, True))\n",
    "        rotations.append((rot_op, np.pi/2, True))\n",
    "        \n",
    "        if G in clique_rot:\n",
    "            stabilizer_map[Z_index]['rotation'].insert(0, cs_vqe_mol.unitary_partitioning)\n",
    "            stabilizer_map[Z_index]['symmetry'] = False\n",
    "            rotations.insert(0,cs_vqe_mol.unitary_partitioning)\n",
    "            \n",
    "    used_qubits.append(Z_index)\n",
    "    print('')"
   ]
  },
  {
   "cell_type": "code",
   "execution_count": 76,
   "metadata": {},
   "outputs": [
    {
     "data": {
      "text/plain": [
       "{'ZIZIZ': 1}"
      ]
     },
     "execution_count": 76,
     "metadata": {},
     "output_type": "execute_result"
    }
   ],
   "source": [
    "rotate_operator({'ZIZIZ':1}, stabilizer_map[1]['rotation'])"
   ]
  },
  {
   "cell_type": "code",
   "execution_count": 73,
   "metadata": {},
   "outputs": [
    {
     "data": {
      "text/plain": [
       "[('IIIYI', 2.3215009309522018e-08, False),\n",
       " ('YIIII', 1.5707963267948966, True),\n",
       " ('YZZZZ', 1.5707963267948966, True),\n",
       " ('IYIII', 1.5707963267948966, True),\n",
       " ('ZYIZI', 1.5707963267948966, True),\n",
       " ('IIYII', 1.5707963267948966, True),\n",
       " ('ZIYZI', 1.5707963267948966, True),\n",
       " ('IIIYI', 1.5707963267948966, True),\n",
       " ('ZIIYZ', 1.5707963267948966, True),\n",
       " ('IIIIY', 1.5707963267948966, True),\n",
       " ('IIIZY', 1.5707963267948966, True)]"
      ]
     },
     "execution_count": 73,
     "metadata": {},
     "output_type": "execute_result"
    }
   ],
   "source": [
    "rotations"
   ]
  },
  {
   "cell_type": "code",
   "execution_count": 60,
   "metadata": {},
   "outputs": [],
   "source": [
    "order=[3,0,1,2,4]\n",
    "rotations=[]\n",
    "for i in order:\n",
    "    rotations+=stabilizer_map[i]['rotation']"
   ]
  },
  {
   "cell_type": "code",
   "execution_count": 62,
   "metadata": {},
   "outputs": [
    {
     "data": {
      "text/plain": [
       "[('IIIYI', 2.3215009309522018e-08, False),\n",
       " ('IIIYI', 1.5707963267948966, True),\n",
       " ('IIIYZ', 1.5707963267948966, True),\n",
       " ('YIIII', 1.5707963267948966, True),\n",
       " ('YIZIZ', 1.5707963267948966, True),\n",
       " ('IYIII', 1.5707963267948966, True),\n",
       " ('ZYZII', 1.5707963267948966, True),\n",
       " ('IIYII', 1.5707963267948966, True),\n",
       " ('IZYIZ', 1.5707963267948966, True),\n",
       " ('IIIIY', 1.5707963267948966, True),\n",
       " ('IIZIY', 1.5707963267948966, True)]"
      ]
     },
     "execution_count": 62,
     "metadata": {},
     "output_type": "execute_result"
    }
   ],
   "source": [
    "rotations"
   ]
  },
  {
   "cell_type": "code",
   "execution_count": null,
   "metadata": {},
   "outputs": [],
   "source": []
  }
 ],
 "metadata": {
  "interpreter": {
   "hash": "ed317ee92954f10b523c05d936162688dce17dc655b6992ddcfe7ac76ca38915"
  },
  "kernelspec": {
   "display_name": "Python 3 (ipykernel)",
   "language": "python",
   "name": "python3"
  },
  "language_info": {
   "codemirror_mode": {
    "name": "ipython",
    "version": 3
   },
   "file_extension": ".py",
   "mimetype": "text/x-python",
   "name": "python",
   "nbconvert_exporter": "python",
   "pygments_lexer": "ipython3",
   "version": "3.8.8"
  }
 },
 "nbformat": 4,
 "nbformat_minor": 2
}
