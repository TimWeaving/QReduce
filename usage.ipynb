{
 "cells": [
  {
   "cell_type": "code",
   "execution_count": 1,
   "metadata": {},
   "outputs": [],
   "source": [
    "from qreduce.cs_vqe import cs_vqe_model\n",
    "from qreduce.utils import *\n",
    "from itertools import combinations\n",
    "import json\n",
    "import numpy as np"
   ]
  },
  {
   "cell_type": "code",
   "execution_count": 2,
   "metadata": {},
   "outputs": [
    {
     "data": {
      "text/plain": [
       "dict_keys(['H2O_STO-3G_SINGLET', 'LiH_STO-3G_SINGLET', 'HF_STO-3G_SINGLET', 'CH2_STO-3G_SINGLET', 'BeH2_STO-3G_SINGLET', 'HeH+_6-311G_SINGLET', 'BeH+_STO-3G_SINGLET', 'CH+_STO-3G_SINGLET', 'B+_STO-3G_SINGLET', 'OH+_STO-3G_SINGLET', 'OH-_STO-3G_SINGLET', 'O_STO-3G_SINGLET', 'Be_STO-3G_SINGLET', 'H4_STO-3G_SINGLET', 'B_STO-3G_DOUBLET', 'NH_STO-3G_SINGLET', 'BH_STO-3G_SINGLET', 'NH2+_STO-3G_SINGLET', 'BH2+_STO-3G_SINGLET', 'CH2_STO-3G_TRIPLET', 'C_STO-3G_TRIPLET'])"
      ]
     },
     "execution_count": 2,
     "metadata": {},
     "output_type": "execute_result"
    }
   ],
   "source": [
    "with open('data/model_data.json', 'r') as infile:\n",
    "        mol_data = json.load(infile)\n",
    "mol_data.keys()"
   ]
  },
  {
   "cell_type": "code",
   "execution_count": 3,
   "metadata": {},
   "outputs": [],
   "source": [
    "mol=mol_data['Be_STO-3G_SINGLET']\n",
    "ham=mol['ham']\n",
    "n_q=mol['num_qubits']\n",
    "set_nc = mol['terms_noncon']\n",
    "cs_vqe_mol = cs_vqe_model(ham, noncontextual_set = set_nc)"
   ]
  },
  {
   "cell_type": "code",
   "execution_count": 4,
   "metadata": {},
   "outputs": [
    {
     "name": "stdout",
     "output_type": "stream",
     "text": [
      "Generators: ['ZZZZZ', 'ZZZIZ', 'ZIZIZ', 'ZZIIZ', 'ZZZII']\n",
      "Clique reps: ['ZZZXZ', 'ZZZZZ']\n",
      "G assignment: [ 1 -1 -1 -1  1]\n",
      "r vector: [-2.33081609e-08  1.00000000e+00]\n",
      "Noncon nrg: -14.351880476201996\n",
      "NGS matches original? True \n",
      "\n"
     ]
    }
   ],
   "source": [
    "print(\"Generators:\", cs_vqe_mol.generators)\n",
    "print(\"Clique reps:\", cs_vqe_mol.cliquereps)\n",
    "#match=mol['X_index']==cs_vqe_mol.anti_clique_qubit\n",
    "#print('Anti-clique qubit match?', match, '\\n')\n",
    "\n",
    "print(\"G assignment:\", cs_vqe_mol.nu)#, ' | original:', np.array(list(mol['G'].values()), dtype=int))\n",
    "print(\"r vector:\", cs_vqe_mol.r)\n",
    "print(\"Noncon nrg:\", cs_vqe_mol.ngs_energy)\n",
    "print('NGS matches original?', abs(cs_vqe_mol.ngs_energy-mol['noncon'])<1e-13, '\\n')"
   ]
  },
  {
   "cell_type": "code",
   "execution_count": 5,
   "metadata": {},
   "outputs": [
    {
     "name": "stdout",
     "output_type": "stream",
     "text": [
      "Exact energy: -14.40365510806765\n",
      "Noncon error: 0.05177463186565312\n",
      "Target_error for 3 qubits: 0.0003265060781139084\n"
     ]
    }
   ],
   "source": [
    "num_sim_q = mol['chem_acc_num_q']\n",
    "exact = exact_gs_energy(cs_vqe_mol.hamiltonian)\n",
    "print('Exact energy:',exact)\n",
    "print('Noncon error:', cs_vqe_mol.ngs_energy-exact)\n",
    "print(f'Target_error for {num_sim_q} qubits:', exact_gs_energy(mol['ham_reduced'][num_sim_q])-exact)"
   ]
  },
  {
   "cell_type": "code",
   "execution_count": 6,
   "metadata": {},
   "outputs": [
    {
     "name": "stdout",
     "output_type": "stream",
     "text": [
      "CS-VQE error for 3 qubits is  0.05148601, projecting stabilizers [0, 1]\n",
      "CS-VQE error for 3 qubits is  0.05148386, projecting stabilizers [0, 2]\n",
      "CS-VQE error for 3 qubits is  0.05148386, projecting stabilizers [0, 3]\n",
      "CS-VQE error for 3 qubits is  0.05177463, projecting stabilizers [0, 4]\n",
      "CS-VQE error for 3 qubits is  0.01411851, projecting stabilizers [1, 2]\n",
      "CS-VQE error for 3 qubits is  0.01411851, projecting stabilizers [1, 3]\n",
      "CS-VQE error for 3 qubits is  0.05177463, projecting stabilizers [1, 4]\n",
      "CS-VQE error for 3 qubits is  0.03081720, projecting stabilizers [2, 3]\n",
      "CS-VQE error for 3 qubits is  0.05177463, projecting stabilizers [2, 4]\n",
      "CS-VQE error for 3 qubits is  0.05177463, projecting stabilizers [3, 4]\n"
     ]
    }
   ],
   "source": [
    "num_sim_q = 3\n",
    "\n",
    "for order in combinations(range(len(cs_vqe_mol.generators)), cs_vqe_mol.num_qubits - num_sim_q):\n",
    "    order = list(order)\n",
    "    ham_cs = cs_vqe_mol.contextual_subspace_hamiltonian(order)\n",
    "    cs_energy = exact_gs_energy(ham_cs)\n",
    "    in_range = cs_energy<cs_vqe_mol.ngs_energy and cs_energy>exact\n",
    "    print(f'CS-VQE error for {num_sim_q} qubits is {cs_energy-exact: .8f}, projecting stabilizers {order}')"
   ]
  },
  {
   "cell_type": "code",
   "execution_count": null,
   "metadata": {},
   "outputs": [],
   "source": []
  }
 ],
 "metadata": {
  "interpreter": {
   "hash": "ed317ee92954f10b523c05d936162688dce17dc655b6992ddcfe7ac76ca38915"
  },
  "kernelspec": {
   "display_name": "Python 3 (ipykernel)",
   "language": "python",
   "name": "python3"
  },
  "language_info": {
   "codemirror_mode": {
    "name": "ipython",
    "version": 3
   },
   "file_extension": ".py",
   "mimetype": "text/x-python",
   "name": "python",
   "nbconvert_exporter": "python",
   "pygments_lexer": "ipython3",
   "version": "3.8.8"
  }
 },
 "nbformat": 4,
 "nbformat_minor": 2
}
