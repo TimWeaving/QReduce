{
 "cells": [
  {
   "cell_type": "code",
   "execution_count": 2,
   "metadata": {},
   "outputs": [],
   "source": [
    "from qreduce.cs_vqe_model import cs_vqe_model\n",
    "from qreduce.utils import *\n",
    "from itertools import combinations\n",
    "import json\n",
    "import numpy as np"
   ]
  },
  {
   "cell_type": "code",
   "execution_count": 3,
   "metadata": {},
   "outputs": [
    {
     "data": {
      "text/plain": [
       "dict_keys(['H2O_STO-3G_SINGLET', 'LiH_STO-3G_SINGLET', 'HF_STO-3G_SINGLET', 'CH2_STO-3G_SINGLET', 'BeH2_STO-3G_SINGLET', 'HeH+_6-311G_SINGLET', 'BeH+_STO-3G_SINGLET', 'CH+_STO-3G_SINGLET', 'B+_STO-3G_SINGLET', 'OH+_STO-3G_SINGLET', 'OH-_STO-3G_SINGLET', 'O_STO-3G_SINGLET', 'Be_STO-3G_SINGLET', 'H4_STO-3G_SINGLET', 'B_STO-3G_DOUBLET', 'NH_STO-3G_SINGLET', 'BH_STO-3G_SINGLET', 'NH2+_STO-3G_SINGLET', 'BH2+_STO-3G_SINGLET', 'CH2_STO-3G_TRIPLET', 'C_STO-3G_TRIPLET'])"
      ]
     },
     "execution_count": 3,
     "metadata": {},
     "output_type": "execute_result"
    }
   ],
   "source": [
    "with open('data/model_data.json', 'r') as infile:\n",
    "        mol_data = json.load(infile)\n",
    "mol_data.keys()"
   ]
  },
  {
   "cell_type": "code",
   "execution_count": 32,
   "metadata": {},
   "outputs": [],
   "source": [
    "mol=mol_data['C_STO-3G_TRIPLET']\n",
    "ham=mol['ham']\n",
    "n_q=mol['num_qubits']\n",
    "set_nc = mol['terms_noncon']\n",
    "cs_vqe_mol = cs_vqe_model(ham, noncontextual_set = set_nc, single_pauli='X')"
   ]
  },
  {
   "cell_type": "code",
   "execution_count": 33,
   "metadata": {},
   "outputs": [
    {
     "name": "stdout",
     "output_type": "stream",
     "text": [
      "Generators: ['ZZZZZ', 'ZZZIZ', 'ZIZIZ', 'ZZIIZ', 'ZZZII']\n",
      "Clique reps: ['ZZZZZ', 'ZZZXZ']\n",
      "G assignment: [ 1 -1 -1  1  1]\n",
      "r vector: [1.00000000e+00 1.59198708e-08]\n",
      "Noncon nrg: -37.19839256373158\n",
      "NGS matches original? True \n",
      "\n"
     ]
    }
   ],
   "source": [
    "print(\"Generators:\", cs_vqe_mol.generators)\n",
    "print(\"Clique reps:\", cs_vqe_mol.cliquereps)\n",
    "#match=mol['X_index']==cs_vqe_mol.anti_clique_qubit\n",
    "#print('Anti-clique qubit match?', match, '\\n')\n",
    "\n",
    "print(\"G assignment:\", cs_vqe_mol.nu)#, ' | original:', np.array(list(mol['G'].values()), dtype=int))\n",
    "print(\"r vector:\", cs_vqe_mol.r)\n",
    "print(\"Noncon nrg:\", cs_vqe_mol.ngs_energy)\n",
    "print('NGS matches original?', abs(cs_vqe_mol.ngs_energy-mol['noncon'])<1e-13, '\\n')"
   ]
  },
  {
   "cell_type": "code",
   "execution_count": 34,
   "metadata": {},
   "outputs": [
    {
     "name": "stdout",
     "output_type": "stream",
     "text": [
      "Exact energy: -37.21873355063646\n",
      "Noncon error: 0.020340986904876956\n",
      "Target_error for 2 qubits: 0.00011593095587159041\n"
     ]
    }
   ],
   "source": [
    "num_sim_q = mol['chem_acc_num_q']\n",
    "exact = exact_gs_energy(cs_vqe_mol.hamiltonian)\n",
    "print('Exact energy:',exact)\n",
    "print('Noncon error:', cs_vqe_mol.ngs_energy-exact)\n",
    "print(f'Target_error for {num_sim_q} qubits:', exact_gs_energy(mol['ham_reduced'][num_sim_q])-exact)"
   ]
  },
  {
   "cell_type": "code",
   "execution_count": 35,
   "metadata": {},
   "outputs": [
    {
     "data": {
      "text/plain": [
       "{1: (0.020340986904884062, [0, 1, 3, 4]),\n",
       " 2: (0.020261906572379473, [0, 1, 3]),\n",
       " 3: (8.187161783723695e-05, [1, 3]),\n",
       " 4: (4.117318268725967e-05, [1])}"
      ]
     },
     "execution_count": 35,
     "metadata": {},
     "output_type": "execute_result"
    }
   ],
   "source": [
    "optimal_error = {}\n",
    "for num_sim_q in range(1, cs_vqe_mol.num_qubits):\n",
    "    cs_vqe_errors = []\n",
    "    for order in combinations(range(len(cs_vqe_mol.generators)), cs_vqe_mol.num_qubits - num_sim_q):\n",
    "        order = list(order)\n",
    "        ham_cs = cs_vqe_mol.contextual_subspace_hamiltonian(order)\n",
    "        cs_energy = exact_gs_energy(ham_cs)\n",
    "        cs_vqe_errors.append((cs_energy-exact, order))\n",
    "    cs_vqe_errors = sorted(cs_vqe_errors, key=lambda x:x[0])\n",
    "    optimal_error[num_sim_q] = cs_vqe_errors[0]\n",
    "    \n",
    "optimal_error"
   ]
  },
  {
   "cell_type": "code",
   "execution_count": 43,
   "metadata": {},
   "outputs": [
    {
     "name": "stdout",
     "output_type": "stream",
     "text": [
      "2\n"
     ]
    },
    {
     "data": {
      "text/plain": [
       "0.02034098690485564"
      ]
     },
     "execution_count": 43,
     "metadata": {},
     "output_type": "execute_result"
    }
   ],
   "source": [
    "ham_cs = cs_vqe_mol.contextual_subspace_hamiltonian([2,0,1])\n",
    "print(number_of_qubits(ham_cs))\n",
    "cs_error = exact_gs_energy(ham_cs)-exact\n",
    "cs_error"
   ]
  },
  {
   "cell_type": "markdown",
   "metadata": {},
   "source": []
  },
  {
   "cell_type": "code",
   "execution_count": null,
   "metadata": {},
   "outputs": [],
   "source": []
  }
 ],
 "metadata": {
  "interpreter": {
   "hash": "ed317ee92954f10b523c05d936162688dce17dc655b6992ddcfe7ac76ca38915"
  },
  "kernelspec": {
   "display_name": "Python 3 (ipykernel)",
   "language": "python",
   "name": "python3"
  },
  "language_info": {
   "codemirror_mode": {
    "name": "ipython",
    "version": 3
   },
   "file_extension": ".py",
   "mimetype": "text/x-python",
   "name": "python",
   "nbconvert_exporter": "python",
   "pygments_lexer": "ipython3",
   "version": "3.8.8"
  }
 },
 "nbformat": 4,
 "nbformat_minor": 2
}
