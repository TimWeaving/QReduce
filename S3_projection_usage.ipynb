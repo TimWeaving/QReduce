{
 "cells": [
  {
   "cell_type": "markdown",
   "metadata": {},
   "source": [
    "# <u>S</u>tabilizer <u>S</u>ub<u>S</u>pace (S3) Projections\n",
    "\n",
    "A library providing the necessary functionality to perform stabilizer subspace projections over systems of Pauli \n",
    "operators.\n",
    "\n",
    "This facilitates implementations of qubit reduction techniques such as [*tapering*](https://arxiv.org/abs/1701.08213) and [*Contextual-Subspace VQE*](https://doi.org/10.22331/q-2021-05-14-456), both of which are demonstrated here."
   ]
  },
  {
   "cell_type": "code",
   "execution_count": 1,
   "metadata": {},
   "outputs": [],
   "source": [
    "from qreduce.tapering import tapering\n",
    "from qreduce.cs_vqe import cs_vqe\n",
    "import qreduce.utils.qonversion_tools as qonvert\n",
    "from qreduce.utils.operator_toolkit import exact_gs_energy, plot_ground_state_amplitudes\n",
    "\n",
    "import numpy as np\n",
    "import openfermion as of\n",
    "import openfermionpyscf as ofpyscf\n",
    "from itertools import combinations\n",
    "import json\n",
    "import numpy as np"
   ]
  },
  {
   "cell_type": "markdown",
   "metadata": {},
   "source": [
    "First of all, we construct our molecular Hamiltonian:"
   ]
  },
  {
   "cell_type": "code",
   "execution_count": 2,
   "metadata": {},
   "outputs": [
    {
     "name": "stdout",
     "output_type": "stream",
     "text": [
      "Amplitude histogram for the ground state of the full system:\n"
     ]
    },
    {
     "data": {
      "image/png": "[encoded data removed]",
      "text/plain": [
       "<Figure size 432x288 with 1 Axes>"
      ]
     },
     "metadata": {},
     "output_type": "display_data"
    }
   ],
   "source": [
    "# Set molecule parameters\n",
    "geometry = [('Li', (0.0, 0.0, 0.0)), \n",
    "            ('H', (1.4, 0.0, 0.0))]#, \n",
    "            #('H', (0.0, 1.0, 0.0))]\n",
    "basis = 'sto-3g'\n",
    "multiplicity = 1\n",
    "charge = 0\n",
    "\n",
    "# Perform electronic structure calculations and\n",
    "# obtain Hamiltonian as an InteractionOperator\n",
    "hamiltonian = ofpyscf.generate_molecular_hamiltonian(\n",
    "    geometry, basis, multiplicity, charge)\n",
    "\n",
    "# Convert to a FermionOperator\n",
    "hamiltonian_ferm_op = of.get_fermion_operator(hamiltonian)\n",
    "\n",
    "#Convert to a QubitOperator via Jordan-Wigner and convert to dictionary representation {Pauli:coeff, ...}\n",
    "hamiltonian_jw = of.jordan_wigner(hamiltonian_ferm_op)\n",
    "n_qubits = hamiltonian.n_qubits\n",
    "ham_dict = qonvert.QubitOperator_to_dict(hamiltonian_jw, hamiltonian.n_qubits)\n",
    "\n",
    "#print('Jordan-Wigner Hamiltonian:\\n\\n', ham_dict)\n",
    "print('Amplitude histogram for the ground state of the full system:')\n",
    "amps, true_gs = plot_ground_state_amplitudes(ham_dict, n_qubits, return_amps=True)"
   ]
  },
  {
   "cell_type": "markdown",
   "metadata": {},
   "source": [
    "Perform qubit tapering to reduce the number of necessary qubits:"
   ]
  },
  {
   "cell_type": "code",
   "execution_count": 3,
   "metadata": {},
   "outputs": [
    {
     "name": "stdout",
     "output_type": "stream",
     "text": [
      "In the sector [1, 1, 1, 1], we find the ground state energy to be -7.878453652277155.\n",
      "The absolute error is -1.3322676295501878e-14.\n"
     ]
    }
   ],
   "source": [
    "taper_hamiltonian = tapering(hamiltonian=ham_dict, \n",
    "                               ref_state=[int(i) for i in amps[0][0]])\n",
    "ham_tap = taper_hamiltonian.taper_it()\n",
    "tap_gs_energy, tap_gs = exact_gs_energy(ham_tap._dict)\n",
    "\n",
    "print(f'In the sector {taper_hamiltonian.symmetry_sec}, we find the ground state energy to be {tap_gs_energy}.')\n",
    "print(f'The absolute error is {tap_gs_energy-true_gs}.')"
   ]
  },
  {
   "cell_type": "markdown",
   "metadata": {},
   "source": [
    "Build CS-VQE model with legacy code for comparison:"
   ]
  },
  {
   "cell_type": "code",
   "execution_count": 4,
   "metadata": {},
   "outputs": [
    {
     "name": "stdout",
     "output_type": "stream",
     "text": [
      "CS-VQE errors: [(0, 0.017914991256460233), (1, 0.017914991256454016), (2, 0.005163143591193631), (3, 0.0035356177854639625), (4, 0.001452160458777385), (5, 0.0008280389992059156), (6, 0.00022299912576961844), (7, 0.00016863012215750928), (8, 2.042810365310288e-14)] \n",
      "\n",
      "chosen order: [6, 7, 3, 2, 5, 4, 0, 1]\n"
     ]
    }
   ],
   "source": [
    "from qreduce.utils.cs_vqe_tools_legacy import csvqe_approximations_heuristic, quasi_model, greedy_dfs\n",
    "\n",
    "ham = ham_tap._dict\n",
    "terms_noncon = greedy_dfs(ham, cutoff=5)[-1]\n",
    "ham_noncon = {op:ham[op] for op in terms_noncon}\n",
    "n_qubits = ham_tap.n_qbits\n",
    "\n",
    "csvqe = csvqe_approximations_heuristic(ham, \n",
    "                                       ham_noncon, \n",
    "                                       n_qubits, \n",
    "                                       tap_gs_energy)\n",
    "\n",
    "print('CS-VQE errors:', list(zip(range(n_qubits+1), csvqe[2])), '\\n')\n",
    "print('chosen order:', csvqe[3])"
   ]
  },
  {
   "cell_type": "markdown",
   "metadata": {},
   "source": [
    "# Contextual-Subspace VQE\n",
    "Here we run through the basic CS-VQE functionality...\n",
    "\n",
    "When the `cs_vqe` class is initiated it generates a set of stabilizers defined through the CS-VQE method. These stabilizers are consistent with the noncontextual ground state energy, a classical estimate of the true value that is *at least as accurate* as Hartree-Fock."
   ]
  },
  {
   "cell_type": "code",
   "execution_count": 5,
   "metadata": {},
   "outputs": [
    {
     "name": "stdout",
     "output_type": "stream",
     "text": [
      "Noncontextual GS energy: -7.860538661020698\n",
      "Symmetry generators:     ['ZIIIIIII', 'ZIZIZZZI', 'IZIZZZIZ', 'IIZIIIII', 'IIIZZZIZ', 'IIIIZZIZ', 'IIIIIZIZ', 'IIIIIIIZ']\n",
      "Clique representatives:  ['ZIIIIIII', 'YZZZIIYI']\n",
      "Generator eigenvalues:   [ 1 -1 -1  1  1  1  1  1]\n",
      "Clique operator coeffs:  [-1.00000000e+00  9.29585463e-08]\n"
     ]
    }
   ],
   "source": [
    "cs = cs_vqe(ham, noncontextual_set=terms_noncon)\n",
    "\n",
    "#match_original = abs(cs.ngs_energy-gs_noncon[0])<1e-13\n",
    "print(\"Noncontextual GS energy:\",  cs.ngs_energy)#, ' // matches original?', match_original)\n",
    "\n",
    "print(\"Symmetry generators:    \", cs.generators)\n",
    "print(\"Clique representatives: \", cs.cliquereps)\n",
    "print(\"Generator eigenvalues:  \", cs.nu)\n",
    "print(\"Clique operator coeffs: \", cs.r)"
   ]
  },
  {
   "cell_type": "code",
   "execution_count": 6,
   "metadata": {},
   "outputs": [
    {
     "data": {
      "text/plain": [
       "False"
      ]
     },
     "execution_count": 6,
     "metadata": {},
     "output_type": "execute_result"
    }
   ],
   "source": [
    "all([G in cs.noncontextual_set for G in cs.generators])"
   ]
  },
  {
   "cell_type": "code",
   "execution_count": 7,
   "metadata": {},
   "outputs": [
    {
     "name": "stdout",
     "output_type": "stream",
     "text": [
      "Exact energy: -7.878453652277142\n",
      "Noncon error: 0.017914991256444246\n",
      "Target_error for 4 qubits: 0.001452160458777385\n"
     ]
    }
   ],
   "source": [
    "chemaccnumq = list(np.array(csvqe[2])<0.0016).index(True) #mol['chem_acc_num_q']\n",
    "\n",
    "#exact, gs = exact_gs_energy(cs.hamiltonian)\n",
    "print('Exact energy:',true_gs)\n",
    "print('Noncon error:', cs.ngs_energy-true_gs)\n",
    "print(f'Target_error for {chemaccnumq} qubits:', csvqe[2][chemaccnumq])# exact_gs_energy(mol['ham_reduced'][num_sim_q])[0]-exact)"
   ]
  },
  {
   "cell_type": "markdown",
   "metadata": {},
   "source": [
    "**CS-VQE is sensitive to the choice of stabilizers we wish to enforce.**\n",
    "\n",
    "Below, we drop stabilizer constraints iteratively, choosing that which minimizes the energy at each step."
   ]
  },
  {
   "cell_type": "code",
   "execution_count": 8,
   "metadata": {},
   "outputs": [
    {
     "name": "stdout",
     "output_type": "stream",
     "text": [
      "0.01112406467214111\n",
      "Performing 2-qubit CS-VQE, we may obtain an absolute error of 0.01628721,\n",
      " enforcing the stabilizers [1, 2, 3, 5, 6, 7], ['ZIZIZZZI', 'IZIZZZIZ', 'IIZIIIII', 'IIIIZZIZ', 'IIIIIZIZ', 'IIIIIIIZ']\n",
      "\n",
      "0.011847894675989679\n",
      "Performing 3-qubit CS-VQE, we may obtain an absolute error of 0.01538351,\n",
      " enforcing the stabilizers [1, 2, 3, 6, 7], ['ZIZIZZZI', 'IZIZZZIZ', 'IIZIIIII', 'IIIIIZIZ', 'IIIIIIIZ']\n",
      "\n",
      "0.01306797136836746\n",
      "Performing 4-qubit CS-VQE, we may obtain an absolute error of 0.01452013,\n",
      " enforcing the stabilizers [1, 2, 3, 7], ['ZIZIZZZI', 'IZIZZZIZ', 'IIZIIIII', 'IIIIIIIZ']\n",
      "\n",
      "0.0013088819191366952\n",
      "Performing 5-qubit CS-VQE, we may obtain an absolute error of 0.00213692,\n",
      " enforcing the stabilizers [1, 2, 3], ['ZIZIZZZI', 'IZIZZZIZ', 'IIZIIIII']\n",
      "\n",
      "2.3424009398809176e-08\n",
      "Performing 6-qubit CS-VQE, we may obtain an absolute error of 0.00022302,\n",
      " enforcing the stabilizers [1, 2], ['ZIZIZZZI', 'IZIZZZIZ']\n",
      "\n",
      "1.3644112506483452e-08\n",
      "Performing 7-qubit CS-VQE, we may obtain an absolute error of 0.00016864,\n",
      " enforcing the stabilizers [2], ['IZIZZZIZ']\n",
      "\n"
     ]
    }
   ],
   "source": [
    "stab_index_pool = list(range(len(cs.generators)))\n",
    "\n",
    "optimal_errors = {}\n",
    "for num_sim_q in range(2,cs.n_qubits):\n",
    "    cs_vqe_errors = []\n",
    "    for order in combinations(range(len(cs.generators)), cs.n_qubits - num_sim_q):\n",
    "        order = list(order)\n",
    "        ham_cs = cs.contextual_subspace_hamiltonian(stabilizer_indices=order)#list(range(cs_vqe_mol.num_qubits)),\n",
    "                                                                    #projection_qubits=order)\n",
    "        cs_energy, cs_vector = exact_gs_energy(ham_cs)\n",
    "        cs_vqe_errors.append((cs_energy-true_gs, order))\n",
    "        \n",
    "    cs_vqe_errors = sorted(cs_vqe_errors, key=lambda x:x[0])\n",
    "    error, stab_index_pool = cs_vqe_errors[0]\n",
    "    \n",
    "    optimal_errors[num_sim_q]={}\n",
    "    optimal_errors[num_sim_q]['error'] = error\n",
    "    optimal_errors[num_sim_q]['stab_indices'] = list(stab_index_pool)\n",
    "    \n",
    "for num_sim_q in optimal_errors:\n",
    "    error = optimal_errors[num_sim_q]['error']\n",
    "    diff_will = error-csvqe[2][num_sim_q]\n",
    "    print(diff_will)\n",
    "    stab_indices = optimal_errors[num_sim_q]['stab_indices']\n",
    "    print(f'Performing {num_sim_q}-qubit CS-VQE, we may obtain',\n",
    "          f'an absolute error of {error:.8f},\\n',\n",
    "          f'enforcing the stabilizers {stab_indices}, {[cs.generators[i] for i in stab_indices]}\\n'\n",
    "         )"
   ]
  },
  {
   "cell_type": "markdown",
   "metadata": {},
   "source": [
    "Suppose we have access to just 3 qubits on some quantum device... then we may construct the corresponding 3-qubit CS-VQE model, obtaining the reduced Hamiltonian, Ansatz operator and noncontextual reference state."
   ]
  },
  {
   "cell_type": "code",
   "execution_count": 9,
   "metadata": {},
   "outputs": [
    {
     "ename": "NameError",
     "evalue": "name 'ansatz' is not defined",
     "output_type": "error",
     "traceback": [
      "\u001b[0;31m---------------------------------------------------------------------------\u001b[0m",
      "\u001b[0;31mNameError\u001b[0m                                 Traceback (most recent call last)",
      "\u001b[0;32m/tmp/ipykernel_61992/2192062723.py\u001b[0m in \u001b[0;36m<module>\u001b[0;34m\u001b[0m\n\u001b[1;32m      2\u001b[0m \u001b[0mstab_indices\u001b[0m \u001b[0;34m=\u001b[0m \u001b[0moptimal_errors\u001b[0m\u001b[0;34m[\u001b[0m\u001b[0mnum_sim_q\u001b[0m\u001b[0;34m]\u001b[0m\u001b[0;34m[\u001b[0m\u001b[0;34m'stab_indices'\u001b[0m\u001b[0;34m]\u001b[0m\u001b[0;34m\u001b[0m\u001b[0;34m\u001b[0m\u001b[0m\n\u001b[1;32m      3\u001b[0m \u001b[0mham_cs\u001b[0m \u001b[0;34m=\u001b[0m \u001b[0mcs\u001b[0m\u001b[0;34m.\u001b[0m\u001b[0mcontextual_subspace_hamiltonian\u001b[0m\u001b[0;34m(\u001b[0m\u001b[0mstabilizer_indices\u001b[0m\u001b[0;34m=\u001b[0m\u001b[0mstab_indices\u001b[0m\u001b[0;34m)\u001b[0m\u001b[0;34m\u001b[0m\u001b[0;34m\u001b[0m\u001b[0m\n\u001b[0;32m----> 4\u001b[0;31m \u001b[0manz_cs\u001b[0m \u001b[0;34m=\u001b[0m \u001b[0mcs\u001b[0m\u001b[0;34m.\u001b[0m\u001b[0m_contextual_subspace_projection\u001b[0m\u001b[0;34m(\u001b[0m\u001b[0moperator\u001b[0m\u001b[0;34m=\u001b[0m\u001b[0mansatz\u001b[0m\u001b[0;34m,\u001b[0m\u001b[0mstabilizer_indices\u001b[0m\u001b[0;34m=\u001b[0m\u001b[0mstab_indices\u001b[0m\u001b[0;34m)\u001b[0m\u001b[0;34m\u001b[0m\u001b[0;34m\u001b[0m\u001b[0m\n\u001b[0m\u001b[1;32m      5\u001b[0m \u001b[0mngs\u001b[0m \u001b[0;34m=\u001b[0m \u001b[0mcs\u001b[0m\u001b[0;34m.\u001b[0m\u001b[0mnoncontextual_ground_state\u001b[0m\u001b[0;34m(\u001b[0m\u001b[0mstabilizer_indices\u001b[0m\u001b[0;34m=\u001b[0m\u001b[0mstab_indices\u001b[0m\u001b[0;34m)\u001b[0m\u001b[0;34m\u001b[0m\u001b[0;34m\u001b[0m\u001b[0m\n",
      "\u001b[0;31mNameError\u001b[0m: name 'ansatz' is not defined"
     ]
    }
   ],
   "source": [
    "num_sim_q = 3\n",
    "stab_indices = optimal_errors[num_sim_q]['stab_indices']\n",
    "ham_cs = cs.contextual_subspace_hamiltonian(stabilizer_indices=stab_indices)\n",
    "anz_cs = cs._contextual_subspace_projection(operator=ansatz,stabilizer_indices=stab_indices)\n",
    "ngs = cs.noncontextual_ground_state(stabilizer_indices=stab_indices)"
   ]
  },
  {
   "cell_type": "code",
   "execution_count": null,
   "metadata": {},
   "outputs": [],
   "source": [
    "print('Reduced Hamiltonian:\\n', ham_cs)\n",
    "print('\\nReduced Ansatz:\\n', anz_cs)\n",
    "print('\\nReference state:', ngs)"
   ]
  },
  {
   "cell_type": "code",
   "execution_count": null,
   "metadata": {},
   "outputs": [],
   "source": [
    "plot_ground_state_amplitudes(operator=ham_cs, num_qubits=num_sim_q)#, reverse_bitstrings=True)"
   ]
  },
  {
   "cell_type": "markdown",
   "metadata": {},
   "source": [
    "## Running CS-VQE\n",
    "\n",
    "Finally, we may perform a VQE routine taking as input the reduced Hamiltonian and Ansatz defined above."
   ]
  },
  {
   "cell_type": "code",
   "execution_count": null,
   "metadata": {},
   "outputs": [],
   "source": [
    "import warnings; warnings.filterwarnings(\"ignore\", category=DeprecationWarning)\n",
    "import qreduce.utils.circuit_tools as circ\n",
    "import qreduce.utils.circuit_execution_tools as circ_ex\n",
    "from qiskit.circuit import QuantumCircuit"
   ]
  },
  {
   "cell_type": "code",
   "execution_count": null,
   "metadata": {},
   "outputs": [],
   "source": [
    "qc = QuantumCircuit(num_sim_q)\n",
    "for index, bit in enumerate(ngs):\n",
    "    q_pos = num_sim_q-1-index\n",
    "    if int(bit)==1:\n",
    "        qc.x(q_pos)\n",
    "\n",
    "qc = circ.circ_from_paulis(circ=qc, paulis=list(anz_cs.keys()), trot_order=2)\n",
    "circ.cancel_pairs(circ=qc, hit_set={'s', 'sdg'})\n",
    "circ.cancel_pairs(circ=qc, hit_set={'h', 'h'})\n",
    "bounds = np.array([(a-np.pi/2, a+np.pi/2) for a in anz_cs.values()]) # optimization bounds\n",
    "qc.parameter_bounds = bounds\n",
    "\n",
    "qc.draw(output='mpl')"
   ]
  },
  {
   "cell_type": "code",
   "execution_count": null,
   "metadata": {},
   "outputs": [],
   "source": [
    "vqe_result = circ_ex.vqe_simulation(ansatz=qc, operator=ham_cs, init_params=np.array(list(anz_cs.values())))"
   ]
  },
  {
   "cell_type": "code",
   "execution_count": null,
   "metadata": {},
   "outputs": [],
   "source": [
    "log_errors = np.log10(np.square(np.array(vqe_result['values'])-exact))\n",
    "plt.plot(log_errors, color='black', label='Optimizer output')\n",
    "plt.hlines(np.log10(0.0016**2), 0, vqe_result['counts'][-1], label='Chemical accuracy', color='green')\n",
    "plt.legend()"
   ]
  },
  {
   "cell_type": "code",
   "execution_count": null,
   "metadata": {},
   "outputs": [],
   "source": []
  },
  {
   "cell_type": "code",
   "execution_count": null,
   "metadata": {},
   "outputs": [],
   "source": []
  }
 ],
 "metadata": {
  "interpreter": {
   "hash": "ed317ee92954f10b523c05d936162688dce17dc655b6992ddcfe7ac76ca38915"
  },
  "kernelspec": {
   "display_name": "Python 3 (ipykernel)",
   "language": "python",
   "name": "python3"
  },
  "language_info": {
   "codemirror_mode": {
    "name": "ipython",
    "version": 3
   },
   "file_extension": ".py",
   "mimetype": "text/x-python",
   "name": "python",
   "nbconvert_exporter": "python",
   "pygments_lexer": "ipython3",
   "version": "3.8.8"
  }
 },
 "nbformat": 4,
 "nbformat_minor": 2
}
