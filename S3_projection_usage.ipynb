{
 "cells": [
  {
   "cell_type": "markdown",
   "metadata": {},
   "source": [
    "# <u>S</u>tabilizer <u>S</u>ub<u>S</u>pace (S3) Projections\n",
    "\n",
    "A library providing the necessary functionality to perform stabilizer subspace projections over systems of Pauli \n",
    "operators.\n",
    "\n",
    "This facilitates implementations of qubit reduction techniques such as [*tapering*](https://arxiv.org/abs/1701.08213) and [*Contextual-Subspace VQE*](https://doi.org/10.22331/q-2021-05-14-456), both of which are demonstrated here."
   ]
  },
  {
   "cell_type": "code",
   "execution_count": 3,
   "metadata": {},
   "outputs": [],
   "source": [
    "from qondense.tapering import tapering\n",
    "from qondense.cs_vqe import cs_vqe\n",
    "import qondense.utils.qonversion_tools as qonvert\n",
    "from qondense.utils.operator_toolkit import exact_gs_energy, plot_ground_state_amplitudes\n",
    "\n",
    "import numpy as np\n",
    "import openfermion as of\n",
    "import openfermionpyscf as ofpyscf\n",
    "from itertools import combinations\n",
    "import json"
   ]
  },
  {
   "cell_type": "markdown",
   "metadata": {},
   "source": [
    "First of all, we construct our molecular Hamiltonian:"
   ]
  },
  {
   "cell_type": "code",
   "execution_count": 4,
   "metadata": {},
   "outputs": [
    {
     "name": "stdout",
     "output_type": "stream",
     "text": [
      "Number of qubits: 14\n",
      "The Hartree-Fock state is |11111111110000>\n",
      "Amplitude histogram for the ground state of the full system:\n"
     ]
    },
    {
     "data": {
      "image/png": "[encoded data removed]",
      "text/plain": [
       "<Figure size 432x288 with 1 Axes>"
      ]
     },
     "metadata": {},
     "output_type": "display_data"
    }
   ],
   "source": [
    "# Set molecule parameters\n",
    "\n",
    "#geometry = [('Be',(0,0,0))]\n",
    "\n",
    "geometry = [\n",
    "    (\"O\",(0,0,0)),\n",
    "    (\"H\",(0.952519,0,0)),\n",
    "    (\"H\",(-0.246530058,0.9200627021,0))\n",
    "    ]\n",
    "\n",
    "# ...and one for which it does not.\n",
    "#geometry=[\n",
    "#    ('H', (0.0,0.0,0.0)),\n",
    "#    ('H', (2.45366053071732,0.0,0.0)),\n",
    "#    ('H', (2.45366053071732,2.45366053071732,0.0)),\n",
    "#    ('H', (0.0,2.45366053071732,0.0))\n",
    "#     ] \n",
    "\n",
    "# larger molecules...\n",
    "# acetonitrile 36-qubits\n",
    "#geometry = [\n",
    "#    (\"C\",(0.0000000,0.0000000,-1.1949070)),\n",
    "#    (\"C\",(0.0000000,0.0000000,0.2914180)),\n",
    "#    (\"N\",(0.0000000,0.0000000,1.4456670)),\n",
    "#    (\"H\",(0.0000000,1.0230490,-1.5662460)),\n",
    "#    (\"H\",(0.8859860,-0.5115240,-1.5662460)),\n",
    "#    (\"H\",(-0.8859860,-0.5115240,-1.5662460))\n",
    "#    ]\n",
    "\n",
    "## acetaldehyde 38-qubits\n",
    "#geometry = [\n",
    "#    (\"C\",(0.0000000,0.4826850,0.0000000)),\n",
    "#    (\"C\",(-0.9789880,-0.7332270,0.0000000)),\n",
    "#    (\"O\",(1.2580560,0.3871360,0.0000000)),\n",
    "#    (\"H\",(-0.5192630,1.4800570,0.0000000)),\n",
    "#    (\"H\",(-0.4184910,-1.6828310,0.0000000)),\n",
    "#    (\"H\",(-1.6263830,-0.6955340,0.8935390)),\n",
    "#    (\"H\",(-1.6263830,-0.6955340,-0.8935390))\n",
    "#    ]\n",
    "\n",
    "## isopropyl alcohol\n",
    "#geometry = [\n",
    "#    (\"C\",(-0.0010950,0.0578840,0.3635920)),\n",
    "#    (\"C\",(-1.2013060,-0.8054790,-0.1047880)),\n",
    "#    (\"C\",(1.3455540,-0.5533270,-0.0859750)),\n",
    "#    (\"O\",(-0.0579290,1.3886050,-0.1773610)),\n",
    "#    (\"H\",(-0.0150570,0.0957830,1.4621500)),\n",
    "#    (\"H\",(-2.1389820,-0.3683150,0.2269260)),\n",
    "#    (\"H\",(-1.2183220,-0.8752060,-1.1879640)),\n",
    "#    (\"H\",(-1.1277480,-1.8069970,0.3069340)),\n",
    "#    (\"H\",(2.1677070,0.0694700,0.2525950)),\n",
    "#    (\"H\",(1.4674160,-1.5485010,0.3300660)),\n",
    "#    (\"H\",(1.3862080,-0.6197140,-1.1687070)),\n",
    "#    (\"H\",(-0.9167140,1.7501750,0.1599160))\n",
    "#    ]\n",
    "\n",
    "basis = 'sto-3g'\n",
    "multiplicity = 1\n",
    "charge = 0\n",
    "\n",
    "molecule_data = of.MolecularData(geometry, basis, multiplicity, charge)\n",
    "#molecule.load()\n",
    "\n",
    "# Run pyscf.\n",
    "molecule = ofpyscf.run_pyscf(molecule_data,\n",
    "                     run_scf=1,run_mp2=0,run_cisd=0,run_ccsd=0,run_fci=0)\n",
    "\n",
    "n_electrons = molecule.n_electrons\n",
    "n_qubits    = 2*molecule.n_orbitals\n",
    "hf_state    = [1 for i in range(n_electrons)]+[0 for i in range(n_qubits-n_electrons)]\n",
    "hf_string   = ''.join([str(i) for i in hf_state])\n",
    "print(f'Number of qubits: {n_qubits}')\n",
    "print(f'The Hartree-Fock state is |{hf_string}>')\n",
    "\n",
    "\n",
    "ham_fermionic = of.get_fermion_operator(molecule.get_molecular_hamiltonian())\n",
    "ham_jw = of.jordan_wigner(ham_fermionic)\n",
    "\n",
    "ham_dict = qonvert.QubitOperator_to_dict(ham_jw, n_qubits)\n",
    "\n",
    "#print('Jordan-Wigner Hamiltonian:\\n\\n', ham_dict)\n",
    "print('Amplitude histogram for the ground state of the full system:')\n",
    "amps, true_gs = plot_ground_state_amplitudes(ham_dict, n_qubits, return_amps=True)"
   ]
  },
  {
   "cell_type": "markdown",
   "metadata": {},
   "source": [
    "Perform qubit tapering to reduce the number of necessary qubits:"
   ]
  },
  {
   "cell_type": "code",
   "execution_count": 6,
   "metadata": {},
   "outputs": [
    {
     "name": "stdout",
     "output_type": "stream",
     "text": [
      "[-1, -1, 1, 1]\n",
      "In the sector [-1, -1, 1, 1], we find the ground state energy to be -75.01084664817031.\n",
      "The absolute error is 9.237055564881302e-13.\n"
     ]
    }
   ],
   "source": [
    "taper_hamiltonian = tapering(hamiltonian=ham_dict, \n",
    "                               ref_state=hf_state)\n",
    "ham_tap = taper_hamiltonian.taper_it()\n",
    "tap_gs_energy, tap_gs = exact_gs_energy(ham_tap._dict())\n",
    "print(taper_hamiltonian.symmetry_sec)\n",
    "print(f'In the sector {taper_hamiltonian.symmetry_sec}, we find the ground state energy to be {tap_gs_energy}.')\n",
    "print(f'The absolute error is {tap_gs_energy-true_gs}.')"
   ]
  },
  {
   "cell_type": "markdown",
   "metadata": {},
   "source": [
    "Build CS-VQE model with legacy code for comparison:"
   ]
  },
  {
   "cell_type": "code",
   "execution_count": 8,
   "metadata": {},
   "outputs": [
    {
     "name": "stdout",
     "output_type": "stream",
     "text": [
      "CS-VQE errors: [(0, 0.04880696970799647), (1, 0.04880696970798226), (2, 0.04878437002771818), (3, 0.04552687360249763), (4, 0.044366448280570125), (5, 0.04433404853769218), (6, 0.03246583793976754), (7, 0.026827373545742716), (8, 0.015718838863037377), (9, 0.009439822108078033), (10, -3.268496584496461e-13)] \n",
      "\n",
      "chosen order: [6, 7, 2, 5, 8, 9, 4, 3, 1, 0]\n"
     ]
    }
   ],
   "source": [
    "from qondense.utils.cs_vqe_tools_legacy import csvqe_approximations_heuristic, quasi_model, greedy_dfs\n",
    "\n",
    "ham = ham_tap._dict()\n",
    "#terms_noncon = greedy_dfs(ham, cutoff=5)[-1]\n",
    "terms_noncon = [op for op in ham if set(op) in [{'I'},{'Z'},{'I','Z'}]]\n",
    "ham_noncon = {op:ham[op] for op in terms_noncon}\n",
    "n_qubits = ham_tap.n_qubits\n",
    "\n",
    "csvqe = csvqe_approximations_heuristic(ham, \n",
    "                                       ham_noncon, \n",
    "                                       n_qubits, \n",
    "                                       tap_gs_energy)\n",
    "\n",
    "print('CS-VQE errors:', list(zip(range(n_qubits+1), csvqe[2])), '\\n')\n",
    "print('chosen order:', csvqe[3])"
   ]
  },
  {
   "cell_type": "markdown",
   "metadata": {},
   "source": [
    "# Contextual-Subspace VQE\n",
    "Here we run through the basic CS-VQE functionality...\n",
    "\n",
    "When the `cs_vqe` class is initiated it generates a set of stabilizers defined through the CS-VQE method. These stabilizers are consistent with the noncontextual ground state energy, a classical estimate of the true value that is *at least as accurate* as Hartree-Fock."
   ]
  },
  {
   "cell_type": "code",
   "execution_count": 27,
   "metadata": {},
   "outputs": [
    {
     "name": "stdout",
     "output_type": "stream",
     "text": [
      "[1, 1, 1, 1, 1, 1, 0, 0, 0, 0]\n"
     ]
    },
    {
     "data": {
      "text/plain": [
       "['IIIIIIIIII',\n",
       " 'ZIZZIZZIIZ',\n",
       " 'IZZIZZIZIZ',\n",
       " 'ZIIIIIIIII',\n",
       " 'IZIIIIIIII',\n",
       " 'IIZIIIIIZZ',\n",
       " 'IIZIIIIIII',\n",
       " 'IIIZIIIIII',\n",
       " 'IIIIZIIIII',\n",
       " 'IIIIIZIIII',\n",
       " 'IIIIIIZIII',\n",
       " 'IIIIIIIZII',\n",
       " 'IIIIIIIIZI',\n",
       " 'IIIIIIIIIZ',\n",
       " 'ZZIZZIZZII',\n",
       " 'IIZZIZZIIZ',\n",
       " 'ZZZZIZZIIZ',\n",
       " 'ZIIZIZZIZI',\n",
       " 'ZIIZIZZIIZ',\n",
       " 'ZIZIIZZIIZ',\n",
       " 'ZIZZZZZIIZ',\n",
       " 'ZIZZIIZIIZ',\n",
       " 'ZIZZIZIIIZ',\n",
       " 'ZIZZIZZZIZ',\n",
       " 'ZIZZIZZIZZ',\n",
       " 'ZIZZIZZIII',\n",
       " 'ZZZIZZIZIZ',\n",
       " 'IIZIZZIZIZ',\n",
       " 'IZIIZZIZZI',\n",
       " 'IZIIZZIZIZ',\n",
       " 'IZZZZZIZIZ',\n",
       " 'IZZIIZIZIZ',\n",
       " 'IZZIZIIZIZ',\n",
       " 'IZZIZZZZIZ',\n",
       " 'IZZIZZIIIZ',\n",
       " 'IZZIZZIZZZ',\n",
       " 'IZZIZZIZII',\n",
       " 'ZZIIIIIIII',\n",
       " 'ZIZIIIIIZZ',\n",
       " 'ZIZIIIIIII',\n",
       " 'ZIIZIIIIII',\n",
       " 'ZIIIZIIIII',\n",
       " 'ZIIIIZIIII',\n",
       " 'ZIIIIIZIII',\n",
       " 'ZIIIIIIZII',\n",
       " 'ZIIIIIIIZI',\n",
       " 'ZIIIIIIIIZ',\n",
       " 'IZZIIIIIZZ',\n",
       " 'IZZIIIIIII',\n",
       " 'IZIZIIIIII',\n",
       " 'IZIIZIIIII',\n",
       " 'IZIIIZIIII',\n",
       " 'IZIIIIZIII',\n",
       " 'IZIIIIIZII',\n",
       " 'IZIIIIIIZI',\n",
       " 'IZIIIIIIIZ',\n",
       " 'IIIIIIIIZZ',\n",
       " 'IIZZIIIIZZ',\n",
       " 'IIZIZIIIZZ',\n",
       " 'IIZIIZIIZZ',\n",
       " 'IIZIIIZIZZ',\n",
       " 'IIZIIIIZZZ',\n",
       " 'IIZIIIIIIZ',\n",
       " 'IIZIIIIIZI',\n",
       " 'IIZZIIIIII',\n",
       " 'IIZIZIIIII',\n",
       " 'IIZIIZIIII',\n",
       " 'IIZIIIZIII',\n",
       " 'IIZIIIIZII',\n",
       " 'IIIZZIIIII',\n",
       " 'IIIZIZIIII',\n",
       " 'IIIZIIZIII',\n",
       " 'IIIZIIIZII',\n",
       " 'IIIZIIIIZI',\n",
       " 'IIIZIIIIIZ',\n",
       " 'IIIIZZIIII',\n",
       " 'IIIIZIZIII',\n",
       " 'IIIIZIIZII',\n",
       " 'IIIIZIIIZI',\n",
       " 'IIIIZIIIIZ',\n",
       " 'IIIIIZZIII',\n",
       " 'IIIIIZIZII',\n",
       " 'IIIIIZIIZI',\n",
       " 'IIIIIZIIIZ',\n",
       " 'IIIIIIZZII',\n",
       " 'IIIIIIZIZI',\n",
       " 'IIIIIIZIIZ',\n",
       " 'IIIIIIIZZI',\n",
       " 'IIIIIIIZIZ',\n",
       " 'IIIZZIZZXZ']"
      ]
     },
     "execution_count": 27,
     "metadata": {},
     "output_type": "execute_result"
    }
   ],
   "source": [
    "ham = ham_tap._dict\n",
    "taper_qubits = list(taper_hamiltonian.stab_index_eigval.keys())\n",
    "hf_tapered = [bit for index,bit in enumerate(hf_state) if index not in taper_qubits]\n",
    "print(hf_tapered)\n",
    "molecule_data.hf_energy\n",
    "\n",
    "terms_noncon = [op for op in ham if set(op) in [{'I'},{'Z'},{'I','Z'}]]\n",
    "for op, coeff in sorted(ham.items(), key=lambda x:-abs(x[1])):\n",
    "    distinct_paulis = list(set(op))\n",
    "    if 'X' in distinct_paulis or 'Y' in distinct_paulis:\n",
    "        terms_noncon.append(op)\n",
    "        break\n",
    "        \n",
    "terms_noncon"
   ]
  },
  {
   "cell_type": "code",
   "execution_count": 30,
   "metadata": {},
   "outputs": [
    {
     "data": {
      "text/plain": [
       "(-74.9620396784624, -75.0108466481708)"
      ]
     },
     "execution_count": 30,
     "metadata": {},
     "output_type": "execute_result"
    }
   ],
   "source": [
    "molecule.hf_energy, true_gs"
   ]
  },
  {
   "cell_type": "code",
   "execution_count": 29,
   "metadata": {},
   "outputs": [
    {
     "name": "stdout",
     "output_type": "stream",
     "text": [
      "Noncontextual GS energy: -75.09275105309142\n",
      "Symmetry generators:     ['IIZIIIIIZZ', 'ZIZZIZZIIZ', 'IZZIZZIZIZ', 'IIZZIZZIIZ', 'IIIZZIZZII', 'IIIIZZIZIZ', 'IIIIIZZIIZ', 'IIIIIIZZII', 'IIIIIIIZIZ', 'IIIIIIIIIZ']\n",
      "Clique representatives:  ['IIZIIIIIZZ', 'IIIZZIZZXZ']\n",
      "Generator eigenvalues:   [ 1  1  1 -1  1  1 -1  1  1  1]\n",
      "Clique operator coeffs:  [-0.77700559  0.6294937 ]\n"
     ]
    }
   ],
   "source": [
    "cs = cs_vqe(ham, noncontextual_set=terms_noncon, ref_state=hf_tapered)\n",
    "\n",
    "#match_original = abs(cs.ngs_energy-gs_noncon[0])<1e-13\n",
    "print(\"Noncontextual GS energy:\", cs.ngs_energy)#, ' // matches original?', match_original)\n",
    "print(\"Symmetry generators:    \", cs.generators)\n",
    "print(\"Clique representatives: \", cs.cliquereps)\n",
    "print(\"Generator eigenvalues:  \", cs.nu)\n",
    "print(\"Clique operator coeffs: \", cs.r)"
   ]
  },
  {
   "cell_type": "code",
   "execution_count": 38,
   "metadata": {},
   "outputs": [
    {
     "data": {
      "text/plain": [
       "(-75.09275105309187,\n",
       " array([-1.90572374e-17-3.34845061e-17j,  2.88114674e-17-1.26256488e-16j,\n",
       "         1.74195990e-17+5.38776746e-17j, ...,\n",
       "         3.02132971e-15-2.82873557e-15j,  3.44409390e-18-5.88601988e-18j,\n",
       "        -3.27511327e-16+1.25849869e-17j]))"
      ]
     },
     "execution_count": 38,
     "metadata": {},
     "output_type": "execute_result"
    }
   ],
   "source": [
    "exact_gs_energy(cs.ham_noncontextual._dict)"
   ]
  },
  {
   "cell_type": "code",
   "execution_count": 31,
   "metadata": {},
   "outputs": [
    {
     "name": "stdout",
     "output_type": "stream",
     "text": [
      "Exact energy: -75.0108466481708\n",
      "Noncon error: -0.08190440492062123\n",
      "Target_error for 3 qubits: 0.0003265059338311005\n"
     ]
    }
   ],
   "source": [
    "chemaccnumq = list(np.array(csvqe[2])<0.0016).index(True) #mol['chem_acc_num_q']\n",
    "\n",
    "#exact, gs = exact_gs_energy(cs.hamiltonian)\n",
    "print('Exact energy:',true_gs)\n",
    "print('Noncon error:', cs.ngs_energy-true_gs)\n",
    "print(f'Target_error for {chemaccnumq} qubits:', csvqe[2][chemaccnumq])# exact_gs_energy(mol['ham_reduced'][num_sim_q])[0]-exact)"
   ]
  },
  {
   "cell_type": "markdown",
   "metadata": {},
   "source": [
    "**CS-VQE is sensitive to the choice of stabilizers we wish to enforce.**\n",
    "\n",
    "Below, we drop stabilizer constraints iteratively, choosing that which minimizes the energy at each step."
   ]
  },
  {
   "cell_type": "code",
   "execution_count": 34,
   "metadata": {},
   "outputs": [
    {
     "name": "stdout",
     "output_type": "stream",
     "text": [
      "Performing 2-qubit CS-VQE, we may obtain an absolute error of 0.04753275,\n",
      " enforcing the stabilizers [1, 2, 3, 4, 5, 6, 7, 9], ['ZIZZIZZIIZ', 'IZZIZZIZIZ', 'IIZZIZZIIZ', 'IIIZZIZZII', 'IIIIZZIZIZ', 'IIIIIZZIIZ', 'IIIIIIZZII', 'IIIIIIIIIZ']\n",
      "\n",
      "Performing 3-qubit CS-VQE, we may obtain an absolute error of 0.04342844,\n",
      " enforcing the stabilizers [1, 2, 3, 4, 5, 6, 9], ['ZIZZIZZIIZ', 'IZZIZZIZIZ', 'IIZZIZZIIZ', 'IIIZZIZZII', 'IIIIZZIZIZ', 'IIIIIZZIIZ', 'IIIIIIIIIZ']\n",
      "\n",
      "Performing 4-qubit CS-VQE, we may obtain an absolute error of 0.03998331,\n",
      " enforcing the stabilizers [1, 2, 3, 4, 5, 9], ['ZIZZIZZIIZ', 'IZZIZZIZIZ', 'IIZZIZZIIZ', 'IIIZZIZZII', 'IIIIZZIZIZ', 'IIIIIIIIIZ']\n",
      "\n",
      "Performing 5-qubit CS-VQE, we may obtain an absolute error of 0.03531261,\n",
      " enforcing the stabilizers [1, 2, 3, 4, 9], ['ZIZZIZZIIZ', 'IZZIZZIZIZ', 'IIZZIZZIIZ', 'IIIZZIZZII', 'IIIIIIIIIZ']\n",
      "\n",
      "Performing 6-qubit CS-VQE, we may obtain an absolute error of 0.01577331,\n",
      " enforcing the stabilizers [1, 2, 3, 4], ['ZIZZIZZIIZ', 'IZZIZZIZIZ', 'IIZZIZZIIZ', 'IIIZZIZZII']\n",
      "\n",
      "Performing 7-qubit CS-VQE, we may obtain an absolute error of 0.00950861,\n",
      " enforcing the stabilizers [1, 2, 3], ['ZIZZIZZIIZ', 'IZZIZZIZIZ', 'IIZZIZZIIZ']\n",
      "\n",
      "Performing 8-qubit CS-VQE, we may obtain an absolute error of 0.00007873,\n",
      " enforcing the stabilizers [1, 2], ['ZIZZIZZIIZ', 'IZZIZZIZIZ']\n",
      "\n",
      "Performing 9-qubit CS-VQE, we may obtain an absolute error of 0.00005266,\n",
      " enforcing the stabilizers [1], ['ZIZZIZZIIZ']\n",
      "\n"
     ]
    }
   ],
   "source": [
    "stab_index_pool = list(range(len(cs.generators)))\n",
    "\n",
    "optimal_errors = {}\n",
    "for num_sim_q in range(2,cs.n_qubits):\n",
    "    cs_vqe_errors = []\n",
    "    for order in combinations(stab_index_pool, cs.n_qubits - num_sim_q):\n",
    "        order = list(order)\n",
    "        ham_cs = cs.contextual_subspace_hamiltonian(stabilizer_indices=order)#list(range(cs_vqe_mol.num_qubits)),\n",
    "                                                                    #projection_qubits=order)\n",
    "        cs_energy, cs_vector = exact_gs_energy(ham_cs)\n",
    "        cs_vqe_errors.append((cs_energy-true_gs, order))\n",
    "        \n",
    "    cs_vqe_errors = sorted(cs_vqe_errors, key=lambda x:x[0])\n",
    "    error, stab_index_pool = cs_vqe_errors[0]\n",
    "    \n",
    "    optimal_errors[num_sim_q]={}\n",
    "    optimal_errors[num_sim_q]['error'] = error\n",
    "    optimal_errors[num_sim_q]['stab_indices'] = list(stab_index_pool)\n",
    "    \n",
    "for num_sim_q in optimal_errors:\n",
    "    error = optimal_errors[num_sim_q]['error']\n",
    "    #diff_will = error-csvqe[2][num_sim_q]\n",
    "    #print(diff_will)\n",
    "    stab_indices = optimal_errors[num_sim_q]['stab_indices']\n",
    "    print(f'Performing {num_sim_q}-qubit CS-VQE, we may obtain',\n",
    "          f'an absolute error of {error:.8f},\\n',\n",
    "          f'enforcing the stabilizers {stab_indices}, {[cs.generators[i] for i in stab_indices]}\\n'\n",
    "         )"
   ]
  },
  {
   "cell_type": "markdown",
   "metadata": {},
   "source": [
    "Suppose we have access to just 3 qubits on some quantum device... then we may construct the corresponding 3-qubit CS-VQE model, obtaining the reduced Hamiltonian, Ansatz operator and noncontextual reference state."
   ]
  },
  {
   "cell_type": "code",
   "execution_count": 9,
   "metadata": {},
   "outputs": [],
   "source": [
    "num_sim_q = 4\n",
    "stab_indices = [0,1,2,3]# optimal_errors[num_sim_q]['stab_indices']\n",
    "ham_cs = cs.contextual_subspace_hamiltonian(stabilizer_indices=stab_indices)\n",
    "#anz_cs = cs._contextual_subspace_projection(operator=ansatz,stabilizer_indices=stab_indices)\n",
    "#ngs = cs.noncontextual_ground_state(stabilizer_indices=stab_indices)"
   ]
  },
  {
   "cell_type": "code",
   "execution_count": 10,
   "metadata": {},
   "outputs": [
    {
     "name": "stdout",
     "output_type": "stream",
     "text": [
      "Reduced Hamiltonian:\n",
      " {'I': -12.68137833, 'Z': -1.67050214}\n"
     ]
    },
    {
     "ename": "NameError",
     "evalue": "name 'anz_cs' is not defined",
     "output_type": "error",
     "traceback": [
      "\u001b[0;31m---------------------------------------------------------------------------\u001b[0m",
      "\u001b[0;31mNameError\u001b[0m                                 Traceback (most recent call last)",
      "\u001b[0;32m/tmp/ipykernel_193382/1413392210.py\u001b[0m in \u001b[0;36m<module>\u001b[0;34m\u001b[0m\n\u001b[1;32m      1\u001b[0m \u001b[0mprint\u001b[0m\u001b[0;34m(\u001b[0m\u001b[0;34m'Reduced Hamiltonian:\\n'\u001b[0m\u001b[0;34m,\u001b[0m \u001b[0mham_cs\u001b[0m\u001b[0;34m)\u001b[0m\u001b[0;34m\u001b[0m\u001b[0;34m\u001b[0m\u001b[0m\n\u001b[0;32m----> 2\u001b[0;31m \u001b[0mprint\u001b[0m\u001b[0;34m(\u001b[0m\u001b[0;34m'\\nReduced Ansatz:\\n'\u001b[0m\u001b[0;34m,\u001b[0m \u001b[0manz_cs\u001b[0m\u001b[0;34m)\u001b[0m\u001b[0;34m\u001b[0m\u001b[0;34m\u001b[0m\u001b[0m\n\u001b[0m\u001b[1;32m      3\u001b[0m \u001b[0mprint\u001b[0m\u001b[0;34m(\u001b[0m\u001b[0;34m'\\nReference state:'\u001b[0m\u001b[0;34m,\u001b[0m \u001b[0mngs\u001b[0m\u001b[0;34m)\u001b[0m\u001b[0;34m\u001b[0m\u001b[0;34m\u001b[0m\u001b[0m\n",
      "\u001b[0;31mNameError\u001b[0m: name 'anz_cs' is not defined"
     ]
    }
   ],
   "source": [
    "print('Reduced Hamiltonian:\\n', ham_cs)\n",
    "print('\\nReduced Ansatz:\\n', anz_cs)\n",
    "print('\\nReference state:', ngs)"
   ]
  },
  {
   "cell_type": "code",
   "execution_count": null,
   "metadata": {},
   "outputs": [],
   "source": [
    "plot_ground_state_amplitudes(operator=ham_cs, num_qubits=num_sim_q)#, reverse_bitstrings=True)"
   ]
  },
  {
   "cell_type": "markdown",
   "metadata": {},
   "source": [
    "## Running CS-VQE\n",
    "\n",
    "Finally, we may perform a VQE routine taking as input the reduced Hamiltonian and Ansatz defined above."
   ]
  },
  {
   "cell_type": "code",
   "execution_count": null,
   "metadata": {},
   "outputs": [],
   "source": [
    "import warnings; warnings.filterwarnings(\"ignore\", category=DeprecationWarning)\n",
    "import qreduce.utils.circuit_tools as circ\n",
    "import qreduce.utils.circuit_execution_tools as circ_ex\n",
    "from qiskit.circuit import QuantumCircuit"
   ]
  },
  {
   "cell_type": "code",
   "execution_count": null,
   "metadata": {},
   "outputs": [],
   "source": [
    "qc = QuantumCircuit(num_sim_q)\n",
    "for index, bit in enumerate(ngs):\n",
    "    q_pos = num_sim_q-1-index\n",
    "    if int(bit)==1:\n",
    "        qc.x(q_pos)\n",
    "\n",
    "qc = circ.circ_from_paulis(circ=qc, paulis=list(anz_cs.keys()), trot_order=2)\n",
    "circ.cancel_pairs(circ=qc, hit_set={'s', 'sdg'})\n",
    "circ.cancel_pairs(circ=qc, hit_set={'h', 'h'})\n",
    "bounds = np.array([(a-np.pi/2, a+np.pi/2) for a in anz_cs.values()]) # optimization bounds\n",
    "qc.parameter_bounds = bounds\n",
    "\n",
    "qc.draw(output='mpl')"
   ]
  },
  {
   "cell_type": "code",
   "execution_count": null,
   "metadata": {},
   "outputs": [],
   "source": [
    "vqe_result = circ_ex.vqe_simulation(ansatz=qc, operator=ham_cs, init_params=np.array(list(anz_cs.values())))"
   ]
  },
  {
   "cell_type": "code",
   "execution_count": null,
   "metadata": {},
   "outputs": [],
   "source": [
    "log_errors = np.log10(np.square(np.array(vqe_result['values'])-exact))\n",
    "plt.plot(log_errors, color='black', label='Optimizer output')\n",
    "plt.hlines(np.log10(0.0016**2), 0, vqe_result['counts'][-1], label='Chemical accuracy', color='green')\n",
    "plt.legend()"
   ]
  },
  {
   "cell_type": "code",
   "execution_count": null,
   "metadata": {},
   "outputs": [],
   "source": []
  },
  {
   "cell_type": "code",
   "execution_count": null,
   "metadata": {},
   "outputs": [],
   "source": [
    "np.array([0,0]).dot(np.array([1,2]))"
   ]
  },
  {
   "cell_type": "code",
   "execution_count": 48,
   "metadata": {},
   "outputs": [
    {
     "name": "stdout",
     "output_type": "stream",
     "text": [
      "-2.236067977499789\n",
      "-3.0\n"
     ]
    }
   ],
   "source": [
    "print(exact_gs_energy({'II':1, 'XX':1, 'YY':1, 'ZZ':1, 'ZX':1})[0])\n",
    "print(exact_gs_energy({'XX':1, 'YY':1, 'ZZ':1})[0])"
   ]
  },
  {
   "cell_type": "code",
   "execution_count": null,
   "metadata": {},
   "outputs": [],
   "source": []
  }
 ],
 "metadata": {
  "interpreter": {
   "hash": "ed317ee92954f10b523c05d936162688dce17dc655b6992ddcfe7ac76ca38915"
  },
  "kernelspec": {
   "display_name": "Python 3 (ipykernel)",
   "language": "python",
   "name": "python3"
  },
  "language_info": {
   "codemirror_mode": {
    "name": "ipython",
    "version": 3
   },
   "file_extension": ".py",
   "mimetype": "text/x-python",
   "name": "python",
   "nbconvert_exporter": "python",
   "pygments_lexer": "ipython3",
   "version": "3.8.8"
  }
 },
 "nbformat": 4,
 "nbformat_minor": 2
}
