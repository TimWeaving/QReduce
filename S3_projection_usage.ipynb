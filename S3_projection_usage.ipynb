{
 "cells": [
  {
   "cell_type": "markdown",
   "metadata": {},
   "source": [
    "# <u>S</u>tabilizer <u>S</u>ub<u>S</u>pace (S3) Projections\n",
    "\n",
    "A library providing the necessary functionality to perform stabilizer subspace projections over systems of Pauli \n",
    "operators.\n",
    "\n",
    "This facilitates implementations of qubit reduction techniques such as [*tapering*](https://arxiv.org/abs/1701.08213) and [*Contextual-Subspace VQE*](https://doi.org/10.22331/q-2021-05-14-456), both of which are demonstrated here."
   ]
  },
  {
   "cell_type": "code",
   "execution_count": 1,
   "metadata": {},
   "outputs": [],
   "source": [
    "from qreduce.tapering import tapering\n",
    "from qreduce.cs_vqe import cs_vqe\n",
    "import qreduce.utils.qonversion_tools as qonvert\n",
    "from qreduce.utils.operator_toolkit import exact_gs_energy, plot_ground_state_amplitudes\n",
    "\n",
    "import numpy as np\n",
    "import openfermion as of\n",
    "import openfermionpyscf as ofpyscf\n",
    "from itertools import combinations\n",
    "import json\n",
    "import numpy as np"
   ]
  },
  {
   "cell_type": "markdown",
   "metadata": {},
   "source": [
    "First of all, we construct our molecular Hamiltonian:"
   ]
  },
  {
   "cell_type": "code",
   "execution_count": 13,
   "metadata": {},
   "outputs": [],
   "source": [
    "# Set molecule parameters\n",
    "\n",
    "geometry = [('Be',(0,0,0))]\n",
    "\n",
    "#geometry = [\n",
    "#    (\"O\",(0,0,0)),\n",
    "#    (\"H\",(0.952519,0,0)),\n",
    "#    (\"H\",(-0.246530058,0.9200627021,0))\n",
    "#    ]\n",
    "\n",
    "# ...and one for which it does not.\n",
    "#geometry=[\n",
    "#    ('H', (0.0,0.0,0.0)),\n",
    "#    ('H', (2.45366053071732,0.0,0.0)),\n",
    "#    ('H', (2.45366053071732,2.45366053071732,0.0)),\n",
    "#    ('H', (0.0,2.45366053071732,0.0))\n",
    "#     ]  \n",
    "    \n",
    "basis = 'sto-3g'\n",
    "multiplicity = 1\n",
    "charge = 0\n",
    "\n",
    "molecule_data = of.MolecularData(geometry, basis, multiplicity, charge)\n",
    "#molecule.load()\n",
    "\n",
    "# Run pyscf.\n",
    "molecule = ofpyscf.run_pyscf(molecule_data,\n",
    "                     run_scf=1,run_mp2=1,run_cisd=1,run_ccsd=1,run_fci=1)\n",
    "\n",
    "n_qubits    = 2*molecule.n_orbitals\n",
    "n_electrons = molecule.n_electrons\n",
    "\n",
    "ham_fermionic = of.get_fermion_operator(molecule.get_molecular_hamiltonian())\n",
    "ham_jw = of.jordan_wigner(ham_fermionic)\n",
    "\n",
    "ham_dict = qonvert.QubitOperator_to_dict(ham_jw, n_qubits)\n",
    "\n",
    "#print('Jordan-Wigner Hamiltonian:\\n\\n', ham_dict)\n",
    "#print('Amplitude histogram for the ground state of the full system:')\n",
    "amps, true_gs = plot_ground_state_amplitudes(ham_dict, n_qubits, return_amps=True)"
   ]
  },
  {
   "cell_type": "markdown",
   "metadata": {},
   "source": [
    "Perform qubit tapering to reduce the number of necessary qubits:"
   ]
  },
  {
   "cell_type": "code",
   "execution_count": 6,
   "metadata": {},
   "outputs": [
    {
     "data": {
      "text/plain": [
       "-14.351880476202023"
      ]
     },
     "execution_count": 6,
     "metadata": {},
     "output_type": "execute_result"
    }
   ],
   "source": [
    "molecule.hf_energy"
   ]
  },
  {
   "cell_type": "code",
   "execution_count": null,
   "metadata": {},
   "outputs": [],
   "source": []
  },
  {
   "cell_type": "code",
   "execution_count": 7,
   "metadata": {},
   "outputs": [
    {
     "name": "stdout",
     "output_type": "stream",
     "text": [
      "In the sector [1, 1, 1, 1, 1], we find the ground state energy to be -14.403655108067685.\n",
      "The absolute error is 1.4210854715202004e-14.\n"
     ]
    }
   ],
   "source": [
    "taper_hamiltonian = tapering(hamiltonian=ham_dict, \n",
    "                               ref_state=[int(i) for i in amps[0][0]])\n",
    "ham_tap = taper_hamiltonian.taper_it()\n",
    "tap_gs_energy, tap_gs = exact_gs_energy(ham_tap._dict)\n",
    "\n",
    "print(f'In the sector {taper_hamiltonian.symmetry_sec}, we find the ground state energy to be {tap_gs_energy}.')\n",
    "print(f'The absolute error is {tap_gs_energy-true_gs}.')"
   ]
  },
  {
   "cell_type": "markdown",
   "metadata": {},
   "source": [
    "Build CS-VQE model with legacy code for comparison:"
   ]
  },
  {
   "cell_type": "code",
   "execution_count": 8,
   "metadata": {},
   "outputs": [
    {
     "name": "stdout",
     "output_type": "stream",
     "text": [
      "CS-VQE errors: [(0, 0.051774631865651344), (1, 0.0308642040442777), (2, 0.014216038483189308), (3, 0.00032650559488445197), (4, 0.00017597856924211897), (5, 1.7763568394002505e-15)] \n",
      "\n",
      "chosen order: [1, 2, 3, 0, 4]\n"
     ]
    }
   ],
   "source": [
    "from qreduce.utils.cs_vqe_tools_legacy import csvqe_approximations_heuristic, quasi_model, greedy_dfs\n",
    "\n",
    "ham = ham_tap._dict\n",
    "terms_noncon = greedy_dfs(ham, cutoff=5)[-1]\n",
    "ham_noncon = {op:ham[op] for op in terms_noncon}\n",
    "n_qubits = ham_tap.n_qbits\n",
    "\n",
    "csvqe = csvqe_approximations_heuristic(ham, \n",
    "                                       ham_noncon, \n",
    "                                       n_qubits, \n",
    "                                       tap_gs_energy)\n",
    "\n",
    "print('CS-VQE errors:', list(zip(range(n_qubits+1), csvqe[2])), '\\n')\n",
    "print('chosen order:', csvqe[3])"
   ]
  },
  {
   "cell_type": "markdown",
   "metadata": {},
   "source": [
    "# Contextual-Subspace VQE\n",
    "Here we run through the basic CS-VQE functionality...\n",
    "\n",
    "When the `cs_vqe` class is initiated it generates a set of stabilizers defined through the CS-VQE method. These stabilizers are consistent with the noncontextual ground state energy, a classical estimate of the true value that is *at least as accurate* as Hartree-Fock."
   ]
  },
  {
   "cell_type": "code",
   "execution_count": 9,
   "metadata": {},
   "outputs": [
    {
     "name": "stdout",
     "output_type": "stream",
     "text": [
      "Design of experiment phase, number of new doe samples = 10 .......\n",
      "q0,q1,q2,q3,theta,objfnc_sum,Timestamp\n",
      "1,-1,1,1,-0.26340638812180694,-13.937009379387106,2\n",
      "-1,1,1,-1,0.655732329953993,-9.56198780712043,3\n",
      "1,-1,-1,1,1.5028085694467315,-6.585557336939004,3\n",
      "-1,-1,1,-1,-0.9657528188815192,-9.791542680212917,3\n",
      "-1,1,1,1,-2.746240303571764,-14.148813074313388,4\n",
      "-1,1,-1,-1,-2.1558006271347767,-10.662830123919049,4\n",
      "-1,1,1,-1,1.2862172746457645,-8.218471976323732,4\n",
      "1,-1,-1,1,-0.5162248153203719,-4.430273617869025,5\n",
      "1,-1,1,1,2.2485619851945398,-10.771795719699105,5\n",
      "-1,-1,-1,1,1.2072534026010304,-9.957258191645353,5\n",
      "\n",
      "\n",
      "End of doe/resume phase, the number of evaluated configurations is: 10\n",
      "\n",
      "Starting optimization iteration 1\n",
      "q0,q1,q2,q3,theta,objfnc_sum,Timestamp\n",
      "1,1,1,1,-1.9987863699010142,-6.429185710838798,833\n",
      "\n",
      "Starting optimization iteration 2\n",
      "q0,q1,q2,q3,theta,objfnc_sum,Timestamp\n",
      "-1,1,1,1,-2.747198625292395,-14.149783560270555,1530\n",
      "\n",
      "Starting optimization iteration 3\n",
      "q0,q1,q2,q3,theta,objfnc_sum,Timestamp\n",
      "-1,1,1,1,-3.1413884202898936,-14.35188042129994,2179\n",
      "\n",
      "Starting optimization iteration 4\n",
      "q0,q1,q2,q3,theta,objfnc_sum,Timestamp\n",
      "1,-1,1,1,-2.0077093092639795,-11.139510054871357,2884\n",
      "\n",
      "Starting optimization iteration 5\n",
      "q0,q1,q2,q3,theta,objfnc_sum,Timestamp\n",
      "-1,1,1,1,-2.9561140790018876,-14.306728387782169,3589\n",
      "\n",
      "Starting optimization iteration 6\n",
      "q0,q1,q2,q3,theta,objfnc_sum,Timestamp\n",
      "1,1,-1,1,-2.933623375778932,-10.043996888178677,4304\n",
      "\n",
      "Starting optimization iteration 7\n",
      "q0,q1,q2,q3,theta,objfnc_sum,Timestamp\n",
      "-1,1,1,1,-3.1011150876890636,-14.349724195776075,4988\n",
      "\n",
      "Starting optimization iteration 8\n",
      "q0,q1,q2,q3,theta,objfnc_sum,Timestamp\n",
      "-1,-1,1,1,-3.1413884202898936,-4.462204828558755,5680\n",
      "\n",
      "Starting optimization iteration 9\n",
      "q0,q1,q2,q3,theta,objfnc_sum,Timestamp\n",
      "1,1,-1,-1,-0.8695910753705731,-5.03391113562887,5745\n",
      "\n",
      "Starting optimization iteration 10\n",
      "q0,q1,q2,q3,theta,objfnc_sum,Timestamp\n",
      "-1,1,1,-1,-3.0513634728233643,-4.454161156522446,6465\n",
      "\n",
      "Starting optimization iteration 11\n",
      "q0,q1,q2,q3,theta,objfnc_sum,Timestamp\n",
      "-1,1,1,1,-3.13622482325579,-14.351842550617873,7184\n",
      "\n",
      "Starting optimization iteration 12\n",
      "q0,q1,q2,q3,theta,objfnc_sum,Timestamp\n",
      "-1,1,1,1,-3.138712575732283,-14.351869558181226,7902\n",
      "\n",
      "Starting optimization iteration 13\n",
      "q0,q1,q2,q3,theta,objfnc_sum,Timestamp\n",
      "-1,1,1,1,-3.062956761837046,-14.343745550516623,8716\n",
      "\n",
      "Starting optimization iteration 14\n",
      "q0,q1,q2,q3,theta,objfnc_sum,Timestamp\n",
      "-1,1,1,1,-3.0961204995709837,-14.34915932934221,9492\n",
      "\n",
      "Starting optimization iteration 15\n",
      "q0,q1,q2,q3,theta,objfnc_sum,Timestamp\n",
      "-1,-1,-1,-1,-3.1368731138315638,-2.4981692214018008,10212\n",
      "\n",
      "Starting optimization iteration 16\n",
      "q0,q1,q2,q3,theta,objfnc_sum,Timestamp\n",
      "-1,1,-1,1,3.141592653589793,-4.462248657965891,11026\n",
      "\n",
      "Starting optimization iteration 17\n",
      "q0,q1,q2,q3,theta,objfnc_sum,Timestamp\n",
      "-1,1,1,1,-3.140074837920716,-14.351877443891027,11735\n",
      "\n",
      "Starting optimization iteration 18\n",
      "q0,q1,q2,q3,theta,objfnc_sum,Timestamp\n",
      "1,-1,1,-1,3.141592653589793,-9.456394837544615,12560\n",
      "\n",
      "Starting optimization iteration 19\n",
      "q0,q1,q2,q3,theta,objfnc_sum,Timestamp\n",
      "-1,1,1,1,-3.1409235143724445,-14.351879886858237,13223\n",
      "\n",
      "Starting optimization iteration 20\n",
      "q0,q1,q2,q3,theta,objfnc_sum,Timestamp\n",
      "1,-1,-1,-1,-3.135284222088482,-7.260819069831997,13997\n",
      "\n",
      "Starting optimization iteration 21\n",
      "q0,q1,q2,q3,theta,objfnc_sum,Timestamp\n",
      "1,1,1,-1,3.141592653589793,-10.00582683478249,14718\n",
      "\n",
      "Starting optimization iteration 22\n",
      "q0,q1,q2,q3,theta,objfnc_sum,Timestamp\n",
      "-1,1,-1,-1,3.141592653589793,-11.010876192857026,15543\n",
      "\n",
      "Starting optimization iteration 23\n",
      "q0,q1,q2,q3,theta,objfnc_sum,Timestamp\n",
      "-1,1,1,1,-3.125691046379671,-14.351547656786908,16299\n",
      "\n",
      "Starting optimization iteration 24\n",
      "q0,q1,q2,q3,theta,objfnc_sum,Timestamp\n",
      "-1,1,1,1,-3.121263207705418,-14.35133651003797,17014\n",
      "\n",
      "Starting optimization iteration 25\n",
      "q0,q1,q2,q3,theta,objfnc_sum,Timestamp\n",
      "1,1,1,-1,-3.1346329740032175,-10.005706937533226,17873\n",
      "\n",
      "Starting optimization iteration 26\n",
      "q0,q1,q2,q3,theta,objfnc_sum,Timestamp\n",
      "1,1,-1,1,3.141592653589793,-10.00582683478249,18632\n",
      "\n",
      "Starting optimization iteration 27\n",
      "q0,q1,q2,q3,theta,objfnc_sum,Timestamp\n",
      "-1,1,1,1,-3.139744271086434,-14.351875979238812,19392\n",
      "\n",
      "Starting optimization iteration 28\n",
      "q0,q1,q2,q3,theta,objfnc_sum,Timestamp\n",
      "1,-1,1,-1,-3.1390917518107746,-9.456386430822732,20175\n",
      "\n",
      "Starting optimization iteration 29\n",
      "q0,q1,q2,q3,theta,objfnc_sum,Timestamp\n",
      "-1,1,1,1,3.141592653589793,-14.351880476202028,20864\n",
      "\n",
      "Starting optimization iteration 30\n",
      "q0,q1,q2,q3,theta,objfnc_sum,Timestamp\n",
      "1,1,1,1,3.141592653589793,-9.086912275358054,21681\n",
      "\n",
      "Starting optimization iteration 31\n",
      "q0,q1,q2,q3,theta,objfnc_sum,Timestamp\n",
      "1,-1,-1,-1,3.141592653589793,-7.261424652699104,22511\n",
      "\n",
      "Starting optimization iteration 32\n",
      "q0,q1,q2,q3,theta,objfnc_sum,Timestamp\n",
      "-1,1,1,1,-3.1361652437115977,-14.351841704047356,23319\n",
      "\n",
      "Starting optimization iteration 33\n",
      "q0,q1,q2,q3,theta,objfnc_sum,Timestamp\n",
      "-1,1,1,1,1.44988742257609,-11.401880554661357,24071\n",
      "\n",
      "Starting optimization iteration 34\n",
      "q0,q1,q2,q3,theta,objfnc_sum,Timestamp\n",
      "-1,1,1,1,-3.1397593262721433,-14.351876052196523,24865\n",
      "\n",
      "Starting optimization iteration 35\n",
      "q0,q1,q2,q3,theta,objfnc_sum,Timestamp\n",
      "-1,1,1,1,-3.137601540786183,-14.351859509834709,25586\n",
      "\n",
      "Starting optimization iteration 36\n",
      "q0,q1,q2,q3,theta,objfnc_sum,Timestamp\n",
      "-1,1,1,1,-3.1127358576680835,-14.350784498192652,26358\n",
      "\n",
      "Starting optimization iteration 37\n",
      "q0,q1,q2,q3,theta,objfnc_sum,Timestamp\n",
      "-1,-1,-1,1,-3.1413884202898936,-11.01087617664719,27199\n",
      "\n",
      "Starting optimization iteration 38\n",
      "q0,q1,q2,q3,theta,objfnc_sum,Timestamp\n",
      "-1,-1,1,1,3.141592653589793,-4.462248657965891,27996\n",
      "\n",
      "Starting optimization iteration 39\n",
      "q0,q1,q2,q3,theta,objfnc_sum,Timestamp\n",
      "-1,1,1,1,1.2686570870890472,-10.936065923279976,28142\n",
      "\n",
      "Starting optimization iteration 40\n",
      "q0,q1,q2,q3,theta,objfnc_sum,Timestamp\n",
      "-1,1,-1,1,-3.1413884202898936,-4.462204828558754,28928\n",
      "\n",
      "Starting optimization iteration 41\n",
      "q0,q1,q2,q3,theta,objfnc_sum,Timestamp\n",
      "-1,1,1,1,-3.138740639151624,-14.351869769914408,29653\n",
      "\n",
      "Starting optimization iteration 42\n",
      "q0,q1,q2,q3,theta,objfnc_sum,Timestamp\n",
      "-1,-1,1,-1,3.141592653589793,-11.010876192857026,30498\n",
      "\n",
      "Starting optimization iteration 43\n",
      "q0,q1,q2,q3,theta,objfnc_sum,Timestamp\n",
      "-1,-1,-1,-1,3.141592653589793,-2.498794007701087,31328\n",
      "\n",
      "Starting optimization iteration 44\n",
      "q0,q1,q2,q3,theta,objfnc_sum,Timestamp\n",
      "-1,1,1,1,-3.1398111100268062,-14.351876298585825,32164\n",
      "\n",
      "Starting optimization iteration 45\n",
      "q0,q1,q2,q3,theta,objfnc_sum,Timestamp\n",
      "-1,-1,1,1,-2.989137495021724,-4.461764102760345,32350\n",
      "\n",
      "Starting optimization iteration 46\n",
      "q0,q1,q2,q3,theta,objfnc_sum,Timestamp\n",
      "-1,1,1,1,-3.118875107440158,-14.351201210132771,33122\n",
      "\n",
      "Starting optimization iteration 47\n",
      "q0,q1,q2,q3,theta,objfnc_sum,Timestamp\n",
      "-1,1,1,1,-3.1333977851951214,-14.351792083319317,33867\n",
      "\n",
      "Starting optimization iteration 48\n",
      "q0,q1,q2,q3,theta,objfnc_sum,Timestamp\n",
      "1,-1,-1,-1,-2.0873546420966944,-7.989791555670052,33987\n",
      "\n",
      "Starting optimization iteration 49\n",
      "q0,q1,q2,q3,theta,objfnc_sum,Timestamp\n",
      "-1,1,1,-1,-0.3148516295806463,-9.80302673829219,34106\n",
      "\n",
      "Starting optimization iteration 50\n",
      "q0,q1,q2,q3,theta,objfnc_sum,Timestamp\n",
      "1,1,-1,1,-0.0005946691114204761,-14.012391425651971,34852\n",
      "\n",
      "End of Bayesian Optimization\n",
      "Best point found:\n",
      "q0,q1,q2,q3,theta,objfnc_sum\n",
      "-1,1,1,1,3.141592653589793,-14.351880476202028\n",
      "\n",
      "End of HyperMapper\n",
      "Noncontextual GS energy: -14.351880476202028\n",
      "Symmetry generators:     ['ZIIII', 'IZIII', 'IIZII', 'IIIZI', 'IIIIZ']\n",
      "Clique representatives:  ['XIIII', 'ZIIII']\n",
      "Generator eigenvalues:   [ 1 -1  1  1  1]\n",
      "Clique operator coeffs:  [ 1.2246468e-16 -1.0000000e+00]\n"
     ]
    }
   ],
   "source": [
    "cs = cs_vqe(ham, noncontextual_set=terms_noncon)\n",
    "\n",
    "#match_original = abs(cs.ngs_energy-gs_noncon[0])<1e-13\n",
    "print(\"Noncontextual GS energy:\",  cs.ngs_energy)#, ' // matches original?', match_original)\n",
    "print(\"Symmetry generators:    \", cs.generators)\n",
    "print(\"Clique representatives: \", cs.cliquereps)\n",
    "print(\"Generator eigenvalues:  \", cs.nu)\n",
    "print(\"Clique operator coeffs: \", cs.r)"
   ]
  },
  {
   "cell_type": "code",
   "execution_count": 10,
   "metadata": {},
   "outputs": [
    {
     "name": "stdout",
     "output_type": "stream",
     "text": [
      "Exact energy: -14.4036551080677\n",
      "Noncon error: 0.051774631865670884\n",
      "Target_error for 3 qubits: 0.00032650559488445197\n"
     ]
    }
   ],
   "source": [
    "chemaccnumq = list(np.array(csvqe[2])<0.0016).index(True) #mol['chem_acc_num_q']\n",
    "\n",
    "#exact, gs = exact_gs_energy(cs.hamiltonian)\n",
    "print('Exact energy:',true_gs)\n",
    "print('Noncon error:', cs.ngs_energy-true_gs)\n",
    "print(f'Target_error for {chemaccnumq} qubits:', csvqe[2][chemaccnumq])# exact_gs_energy(mol['ham_reduced'][num_sim_q])[0]-exact)"
   ]
  },
  {
   "cell_type": "markdown",
   "metadata": {},
   "source": [
    "**CS-VQE is sensitive to the choice of stabilizers we wish to enforce.**\n",
    "\n",
    "Below, we drop stabilizer constraints iteratively, choosing that which minimizes the energy at each step."
   ]
  },
  {
   "cell_type": "code",
   "execution_count": 11,
   "metadata": {},
   "outputs": [
    {
     "name": "stdout",
     "output_type": "stream",
     "text": [
      "0.037433368092610664\n",
      "Performing 2-qubit CS-VQE, we may obtain an absolute error of 0.05164941,\n",
      " enforcing the stabilizers [1, 2, 3], ['IZIII', 'IIZII', 'IIIZI']\n",
      "\n",
      "0.030440681243455003\n",
      "Performing 3-qubit CS-VQE, we may obtain an absolute error of 0.03076719,\n",
      " enforcing the stabilizers [3, 4], ['IIIZI', 'IIIIZ']\n",
      "\n",
      "0.013832599802814372\n",
      "Performing 4-qubit CS-VQE, we may obtain an absolute error of 0.01400858,\n",
      " enforcing the stabilizers [4], ['IIIIZ']\n",
      "\n"
     ]
    }
   ],
   "source": [
    "stab_index_pool = list(range(len(cs.generators)))\n",
    "\n",
    "optimal_errors = {}\n",
    "for num_sim_q in range(2,cs.n_qubits):\n",
    "    cs_vqe_errors = []\n",
    "    for order in combinations(range(len(cs.generators)), cs.n_qubits - num_sim_q):\n",
    "        order = list(order)\n",
    "        ham_cs = cs.contextual_subspace_hamiltonian(stabilizer_indices=order)#list(range(cs_vqe_mol.num_qubits)),\n",
    "                                                                    #projection_qubits=order)\n",
    "        cs_energy, cs_vector = exact_gs_energy(ham_cs)\n",
    "        cs_vqe_errors.append((cs_energy-true_gs, order))\n",
    "        \n",
    "    cs_vqe_errors = sorted(cs_vqe_errors, key=lambda x:x[0])\n",
    "    error, stab_index_pool = cs_vqe_errors[0]\n",
    "    \n",
    "    optimal_errors[num_sim_q]={}\n",
    "    optimal_errors[num_sim_q]['error'] = error\n",
    "    optimal_errors[num_sim_q]['stab_indices'] = list(stab_index_pool)\n",
    "    \n",
    "for num_sim_q in optimal_errors:\n",
    "    error = optimal_errors[num_sim_q]['error']\n",
    "    diff_will = error-csvqe[2][num_sim_q]\n",
    "    print(diff_will)\n",
    "    stab_indices = optimal_errors[num_sim_q]['stab_indices']\n",
    "    print(f'Performing {num_sim_q}-qubit CS-VQE, we may obtain',\n",
    "          f'an absolute error of {error:.8f},\\n',\n",
    "          f'enforcing the stabilizers {stab_indices}, {[cs.generators[i] for i in stab_indices]}\\n'\n",
    "         )"
   ]
  },
  {
   "cell_type": "markdown",
   "metadata": {},
   "source": [
    "Suppose we have access to just 3 qubits on some quantum device... then we may construct the corresponding 3-qubit CS-VQE model, obtaining the reduced Hamiltonian, Ansatz operator and noncontextual reference state."
   ]
  },
  {
   "cell_type": "code",
   "execution_count": null,
   "metadata": {},
   "outputs": [],
   "source": [
    "num_sim_q = 4\n",
    "stab_indices = [0,1,2,3]# optimal_errors[num_sim_q]['stab_indices']\n",
    "ham_cs = cs.contextual_subspace_hamiltonian(stabilizer_indices=stab_indices)\n",
    "#anz_cs = cs._contextual_subspace_projection(operator=ansatz,stabilizer_indices=stab_indices)\n",
    "#ngs = cs.noncontextual_ground_state(stabilizer_indices=stab_indices)"
   ]
  },
  {
   "cell_type": "code",
   "execution_count": null,
   "metadata": {},
   "outputs": [],
   "source": [
    "print('Reduced Hamiltonian:\\n', ham_cs)\n",
    "print('\\nReduced Ansatz:\\n', anz_cs)\n",
    "print('\\nReference state:', ngs)"
   ]
  },
  {
   "cell_type": "code",
   "execution_count": null,
   "metadata": {},
   "outputs": [],
   "source": [
    "plot_ground_state_amplitudes(operator=ham_cs, num_qubits=num_sim_q)#, reverse_bitstrings=True)"
   ]
  },
  {
   "cell_type": "markdown",
   "metadata": {},
   "source": [
    "## Running CS-VQE\n",
    "\n",
    "Finally, we may perform a VQE routine taking as input the reduced Hamiltonian and Ansatz defined above."
   ]
  },
  {
   "cell_type": "code",
   "execution_count": null,
   "metadata": {},
   "outputs": [],
   "source": [
    "import warnings; warnings.filterwarnings(\"ignore\", category=DeprecationWarning)\n",
    "import qreduce.utils.circuit_tools as circ\n",
    "import qreduce.utils.circuit_execution_tools as circ_ex\n",
    "from qiskit.circuit import QuantumCircuit"
   ]
  },
  {
   "cell_type": "code",
   "execution_count": null,
   "metadata": {},
   "outputs": [],
   "source": [
    "qc = QuantumCircuit(num_sim_q)\n",
    "for index, bit in enumerate(ngs):\n",
    "    q_pos = num_sim_q-1-index\n",
    "    if int(bit)==1:\n",
    "        qc.x(q_pos)\n",
    "\n",
    "qc = circ.circ_from_paulis(circ=qc, paulis=list(anz_cs.keys()), trot_order=2)\n",
    "circ.cancel_pairs(circ=qc, hit_set={'s', 'sdg'})\n",
    "circ.cancel_pairs(circ=qc, hit_set={'h', 'h'})\n",
    "bounds = np.array([(a-np.pi/2, a+np.pi/2) for a in anz_cs.values()]) # optimization bounds\n",
    "qc.parameter_bounds = bounds\n",
    "\n",
    "qc.draw(output='mpl')"
   ]
  },
  {
   "cell_type": "code",
   "execution_count": null,
   "metadata": {},
   "outputs": [],
   "source": [
    "vqe_result = circ_ex.vqe_simulation(ansatz=qc, operator=ham_cs, init_params=np.array(list(anz_cs.values())))"
   ]
  },
  {
   "cell_type": "code",
   "execution_count": null,
   "metadata": {},
   "outputs": [],
   "source": [
    "log_errors = np.log10(np.square(np.array(vqe_result['values'])-exact))\n",
    "plt.plot(log_errors, color='black', label='Optimizer output')\n",
    "plt.hlines(np.log10(0.0016**2), 0, vqe_result['counts'][-1], label='Chemical accuracy', color='green')\n",
    "plt.legend()"
   ]
  },
  {
   "cell_type": "code",
   "execution_count": null,
   "metadata": {},
   "outputs": [],
   "source": []
  },
  {
   "cell_type": "code",
   "execution_count": null,
   "metadata": {},
   "outputs": [],
   "source": []
  }
 ],
 "metadata": {
  "interpreter": {
   "hash": "ed317ee92954f10b523c05d936162688dce17dc655b6992ddcfe7ac76ca38915"
  },
  "kernelspec": {
   "display_name": "Python 3 (ipykernel)",
   "language": "python",
   "name": "python3"
  },
  "language_info": {
   "codemirror_mode": {
    "name": "ipython",
    "version": 3
   },
   "file_extension": ".py",
   "mimetype": "text/x-python",
   "name": "python",
   "nbconvert_exporter": "python",
   "pygments_lexer": "ipython3",
   "version": "3.8.8"
  }
 },
 "nbformat": 4,
 "nbformat_minor": 2
}
