{
 "cells": [
  {
   "cell_type": "markdown",
   "metadata": {},
   "source": [
    "# <u>S</u>tabilizer <u>S</u>ub<u>S</u>pace (S3) Projections\n",
    "\n",
    "A library providing the necessary functionality to perform stabilizer subspace projections over systems of Pauli \n",
    "operators.\n",
    "\n",
    "This facilitates implementations of qubit reduction techniques such as [*tapering*](https://arxiv.org/abs/1701.08213) and [*Contextual-Subspace VQE*](https://doi.org/10.22331/q-2021-05-14-456), both of which are demonstrated here."
   ]
  },
  {
   "cell_type": "code",
   "execution_count": 1,
   "metadata": {},
   "outputs": [],
   "source": [
    "from qreduce.tapering import tapering\n",
    "from qreduce.cs_vqe import cs_vqe\n",
    "import qreduce.utils.qonversion_tools as qonvert\n",
    "from qreduce.utils.operator_toolkit import exact_gs_energy, plot_ground_state_amplitudes\n",
    "\n",
    "import numpy as np\n",
    "import openfermion as of\n",
    "import openfermionpyscf as ofpyscf\n",
    "from itertools import combinations\n",
    "import json\n",
    "import numpy as np"
   ]
  },
  {
   "cell_type": "markdown",
   "metadata": {},
   "source": [
    "First of all, we construct our molecular Hamiltonian:"
   ]
  },
  {
   "cell_type": "code",
   "execution_count": 2,
   "metadata": {},
   "outputs": [
    {
     "name": "stdout",
     "output_type": "stream",
     "text": [
      "Amplitude histogram for the ground state of the full system:\n"
     ]
    },
    {
     "name": "stderr",
     "output_type": "stream",
     "text": [
      " /home/tweaving/qc-research/QReduce/qreduce/utils/operator_toolkit.py:219: UserWarning:Matplotlib is currently using agg, which is a non-GUI backend, so cannot show the figure.\n"
     ]
    }
   ],
   "source": [
    "# Set molecule parameters\n",
    "\n",
    "geometry = [('Be',(0,0,0))]\n",
    "\n",
    "#geometry = [\n",
    "#    (\"O\",(0,0,0)),\n",
    "#    (\"H\",(0.952519,0,0)),\n",
    "#    (\"H\",(-0.246530058,0.9200627021,0))\n",
    "#    ]\n",
    "\n",
    "# ...and one for which it does not.\n",
    "#geometry=[\n",
    "#    ('H', (0.0,0.0,0.0)),\n",
    "#    ('H', (2.45366053071732,0.0,0.0)),\n",
    "#    ('H', (2.45366053071732,2.45366053071732,0.0)),\n",
    "#    ('H', (0.0,2.45366053071732,0.0))\n",
    "#     ]  \n",
    "\n",
    "basis = 'sto-3g'\n",
    "multiplicity = 1\n",
    "charge = 0\n",
    "\n",
    "# Perform electronic structure calculations and\n",
    "# obtain Hamiltonian as an InteractionOperator\n",
    "hamiltonian = ofpyscf.generate_molecular_hamiltonian(\n",
    "    geometry, basis, multiplicity, charge)\n",
    "\n",
    "# Convert to a FermionOperator\n",
    "hamiltonian_ferm_op = of.get_fermion_operator(hamiltonian)\n",
    "\n",
    "#Convert to a QubitOperator via Jordan-Wigner and convert to dictionary representation {Pauli:coeff, ...}\n",
    "hamiltonian_jw = of.jordan_wigner(hamiltonian_ferm_op)\n",
    "n_qubits = hamiltonian.n_qubits\n",
    "ham_dict = qonvert.QubitOperator_to_dict(hamiltonian_jw, hamiltonian.n_qubits)\n",
    "\n",
    "#print('Jordan-Wigner Hamiltonian:\\n\\n', ham_dict)\n",
    "print('Amplitude histogram for the ground state of the full system:')\n",
    "amps, true_gs = plot_ground_state_amplitudes(ham_dict, n_qubits, return_amps=True)"
   ]
  },
  {
   "cell_type": "markdown",
   "metadata": {},
   "source": [
    "Perform qubit tapering to reduce the number of necessary qubits:"
   ]
  },
  {
   "cell_type": "code",
   "execution_count": 3,
   "metadata": {},
   "outputs": [
    {
     "name": "stdout",
     "output_type": "stream",
     "text": [
      "In the sector [1, 1, 1, 1, 1], we find the ground state energy to be -14.403655108067685.\n",
      "The absolute error is 1.4210854715202004e-14.\n"
     ]
    }
   ],
   "source": [
    "taper_hamiltonian = tapering(hamiltonian=ham_dict, \n",
    "                               ref_state=[int(i) for i in amps[0][0]])\n",
    "ham_tap = taper_hamiltonian.taper_it()\n",
    "tap_gs_energy, tap_gs = exact_gs_energy(ham_tap._dict)\n",
    "\n",
    "print(f'In the sector {taper_hamiltonian.symmetry_sec}, we find the ground state energy to be {tap_gs_energy}.')\n",
    "print(f'The absolute error is {tap_gs_energy-true_gs}.')"
   ]
  },
  {
   "cell_type": "markdown",
   "metadata": {},
   "source": [
    "Build CS-VQE model with legacy code for comparison:"
   ]
  },
  {
   "cell_type": "code",
   "execution_count": 4,
   "metadata": {},
   "outputs": [
    {
     "name": "stdout",
     "output_type": "stream",
     "text": [
      "CS-VQE errors: [(0, 0.051774631865651344), (1, 0.0308642040442777), (2, 0.014216038483189308), (3, 0.00032650559488445197), (4, 0.00017597856924211897), (5, 1.7763568394002505e-15)] \n",
      "\n",
      "chosen order: [1, 2, 3, 0, 4]\n"
     ]
    }
   ],
   "source": [
    "from qreduce.utils.cs_vqe_tools_legacy import csvqe_approximations_heuristic, quasi_model, greedy_dfs\n",
    "\n",
    "ham = ham_tap._dict\n",
    "terms_noncon = greedy_dfs(ham, cutoff=5)[-1]\n",
    "ham_noncon = {op:ham[op] for op in terms_noncon}\n",
    "n_qubits = ham_tap.n_qbits\n",
    "\n",
    "csvqe = csvqe_approximations_heuristic(ham, \n",
    "                                       ham_noncon, \n",
    "                                       n_qubits, \n",
    "                                       tap_gs_energy)\n",
    "\n",
    "print('CS-VQE errors:', list(zip(range(n_qubits+1), csvqe[2])), '\\n')\n",
    "print('chosen order:', csvqe[3])"
   ]
  },
  {
   "cell_type": "markdown",
   "metadata": {},
   "source": [
    "# Contextual-Subspace VQE\n",
    "Here we run through the basic CS-VQE functionality...\n",
    "\n",
    "When the `cs_vqe` class is initiated it generates a set of stabilizers defined through the CS-VQE method. These stabilizers are consistent with the noncontextual ground state energy, a classical estimate of the true value that is *at least as accurate* as Hartree-Fock."
   ]
  },
  {
   "cell_type": "code",
   "execution_count": 5,
   "metadata": {},
   "outputs": [
    {
     "name": "stdout",
     "output_type": "stream",
     "text": [
      "Design of experiment phase, number of new doe samples = 10 .......\n",
      "q0,q1,q2,q3,theta,objfnc_sum,Timestamp\n",
      "-1,-1,-1,-1,1.62062780235018,-4.899325416730261,3\n",
      "1,1,-1,1,1.6999530911885232,-11.775093996351021,4\n",
      "1,-1,-1,-1,-0.46757359658211906,-10.26838355854715,5\n",
      "1,1,1,1,0.4782798207158949,-0.5098305134681613,5\n",
      "1,-1,1,-1,2.1727406486328995,-8.290372150681485,5\n",
      "-1,-1,-1,-1,2.1136032220541523,-3.7682277643217468,6\n",
      "-1,1,-1,-1,-0.9869111239059793,-9.805166342515871,6\n",
      "1,-1,-1,-1,-1.2067465265818755,-9.354043403733046,7\n",
      "1,1,1,1,-2.338207978024862,-7.6978628101118804,7\n",
      "-1,1,-1,-1,-3.046736063586645,-11.00738209649729,8\n",
      "\n",
      "\n",
      "End of doe/resume phase, the number of evaluated configurations is: 10\n",
      "\n",
      "Starting optimization iteration 1\n",
      "q0,q1,q2,q3,theta,objfnc_sum,Timestamp\n",
      "1,-1,-1,-1,3.141592653589793,-7.261424652699104,843\n",
      "\n",
      "Starting optimization iteration 2\n",
      "q0,q1,q2,q3,theta,objfnc_sum,Timestamp\n",
      "1,1,-1,1,2.6967276322055165,-10.21122307704278,1534\n",
      "\n",
      "Starting optimization iteration 3\n",
      "q0,q1,q2,q3,theta,objfnc_sum,Timestamp\n",
      "1,1,-1,1,1.222757821034378,-12.715095442333473,2176\n",
      "\n",
      "Starting optimization iteration 4\n",
      "q0,q1,q2,q3,theta,objfnc_sum,Timestamp\n",
      "1,1,-1,1,0.31275766129740257,-13.922669533306033,2835\n",
      "\n",
      "Starting optimization iteration 5\n",
      "q0,q1,q2,q3,theta,objfnc_sum,Timestamp\n",
      "1,1,-1,1,-0.17807170611403045,-13.976441953773495,3510\n",
      "\n",
      "Starting optimization iteration 6\n",
      "q0,q1,q2,q3,theta,objfnc_sum,Timestamp\n",
      "1,1,-1,1,0.009185199050472992,-14.012543930811793,4199\n",
      "\n",
      "Starting optimization iteration 7\n",
      "q0,q1,q2,q3,theta,objfnc_sum,Timestamp\n",
      "-1,-1,-1,1,-0.30528986016644,-9.492334547933748,4863\n",
      "\n",
      "Starting optimization iteration 8\n",
      "q0,q1,q2,q3,theta,objfnc_sum,Timestamp\n",
      "-1,-1,1,-1,-3.1381505334204807,-11.010871588413472,5672\n",
      "\n",
      "Starting optimization iteration 9\n",
      "q0,q1,q2,q3,theta,objfnc_sum,Timestamp\n",
      "1,1,-1,1,0.01098258319934775,-14.012551114705111,6471\n",
      "\n",
      "Starting optimization iteration 10\n",
      "q0,q1,q2,q3,theta,objfnc_sum,Timestamp\n",
      "-1,1,-1,1,-0.27281154122168694,-9.845418864546852,7243\n",
      "\n",
      "Starting optimization iteration 11\n",
      "q0,q1,q2,q3,theta,objfnc_sum,Timestamp\n",
      "-1,1,1,1,3.141592653589793,-14.351880476202028,7968\n",
      "\n",
      "Starting optimization iteration 12\n",
      "q0,q1,q2,q3,theta,objfnc_sum,Timestamp\n",
      "-1,1,1,1,-1.9153367594814383,-12.60855514096064,8704\n",
      "\n",
      "Starting optimization iteration 13\n",
      "q0,q1,q2,q3,theta,objfnc_sum,Timestamp\n",
      "-1,-1,1,1,1.8728352392964505,-6.614680858601281,9570\n",
      "\n",
      "Starting optimization iteration 14\n",
      "q0,q1,q2,q3,theta,objfnc_sum,Timestamp\n",
      "-1,1,1,-1,1.136810022180807,-8.594516693435938,10303\n",
      "\n",
      "Starting optimization iteration 15\n",
      "q0,q1,q2,q3,theta,objfnc_sum,Timestamp\n",
      "-1,1,1,1,2.83912965899823,-14.232380775577585,11040\n",
      "\n",
      "Starting optimization iteration 16\n",
      "q0,q1,q2,q3,theta,objfnc_sum,Timestamp\n",
      "1,-1,1,1,-3.141079477268326,-10.005814680364393,11760\n",
      "\n",
      "Starting optimization iteration 17\n",
      "q0,q1,q2,q3,theta,objfnc_sum,Timestamp\n",
      "-1,1,1,1,3.137998480761776,-14.351863472902444,12476\n",
      "\n",
      "Starting optimization iteration 18\n",
      "q0,q1,q2,q3,theta,objfnc_sum,Timestamp\n",
      "-1,1,1,1,3.0258289679435073,-14.334260902737423,13191\n",
      "\n",
      "Starting optimization iteration 19\n",
      "q0,q1,q2,q3,theta,objfnc_sum,Timestamp\n",
      "-1,1,1,1,3.1260306469980197,-14.351561720335564,13983\n",
      "\n",
      "Starting optimization iteration 20\n",
      "q0,q1,q2,q3,theta,objfnc_sum,Timestamp\n",
      "-1,1,1,1,3.0194087788993267,-14.332254865232898,14885\n",
      "\n",
      "Starting optimization iteration 21\n",
      "q0,q1,q2,q3,theta,objfnc_sum,Timestamp\n",
      "1,-1,-1,-1,-1.0240538812543347,-9.626407425605102,15068\n",
      "\n",
      "Starting optimization iteration 22\n",
      "q0,q1,q2,q3,theta,objfnc_sum,Timestamp\n",
      "-1,1,1,-1,-3.139884885428982,-4.461885721771232,16016\n",
      "\n",
      "Starting optimization iteration 23\n",
      "q0,q1,q2,q3,theta,objfnc_sum,Timestamp\n",
      "-1,1,1,1,3.1400027005395073,-14.351877148807715,16833\n",
      "\n",
      "Starting optimization iteration 24\n",
      "q0,q1,q2,q3,theta,objfnc_sum,Timestamp\n",
      "1,1,-1,-1,-1.0553843527293387,-5.443179964807741,17632\n",
      "\n",
      "Starting optimization iteration 25\n",
      "q0,q1,q2,q3,theta,objfnc_sum,Timestamp\n",
      "-1,1,-1,1,-2.5847140821946692,-4.7674644313770465,17675\n",
      "\n",
      "Starting optimization iteration 26\n",
      "q0,q1,q2,q3,theta,objfnc_sum,Timestamp\n",
      "-1,1,1,-1,3.141592653589793,-4.46224865796589,18463\n",
      "\n",
      "Starting optimization iteration 27\n",
      "q0,q1,q2,q3,theta,objfnc_sum,Timestamp\n",
      "-1,1,1,1,3.139905067388339,-14.351876727615075,19284\n",
      "\n",
      "Starting optimization iteration 28\n",
      "q0,q1,q2,q3,theta,objfnc_sum,Timestamp\n",
      "-1,1,-1,1,3.141592653589793,-4.462248657965891,20125\n",
      "\n",
      "Starting optimization iteration 29\n",
      "q0,q1,q2,q3,theta,objfnc_sum,Timestamp\n",
      "-1,1,1,1,3.137811038877828,-14.351861653160459,20886\n",
      "\n",
      "Starting optimization iteration 30\n",
      "q0,q1,q2,q3,theta,objfnc_sum,Timestamp\n",
      "1,-1,-1,1,-0.4511030279625605,-4.348879993653904,21793\n",
      "\n",
      "Starting optimization iteration 31\n",
      "q0,q1,q2,q3,theta,objfnc_sum,Timestamp\n",
      "-1,-1,-1,1,3.141592653589793,-11.010876192857026,22506\n",
      "\n",
      "Starting optimization iteration 32\n",
      "q0,q1,q2,q3,theta,objfnc_sum,Timestamp\n",
      "-1,1,1,1,3.136498631412735,-14.351846321029397,23389\n",
      "\n",
      "Starting optimization iteration 33\n",
      "q0,q1,q2,q3,theta,objfnc_sum,Timestamp\n",
      "-1,1,1,1,3.137702555376899,-14.351860557715073,24147\n",
      "\n",
      "Starting optimization iteration 34\n",
      "q0,q1,q2,q3,theta,objfnc_sum,Timestamp\n",
      "-1,1,1,1,3.1381770361484795,-14.351865120354757,24883\n",
      "\n",
      "Starting optimization iteration 35\n",
      "q0,q1,q2,q3,theta,objfnc_sum,Timestamp\n",
      "-1,1,1,1,3.1339035100690715,-14.35180265650137,25652\n",
      "\n",
      "Starting optimization iteration 36\n",
      "q0,q1,q2,q3,theta,objfnc_sum,Timestamp\n",
      "1,1,1,-1,-3.136674868629999,-10.005732055580921,26516\n",
      "\n",
      "Starting optimization iteration 37\n",
      "q0,q1,q2,q3,theta,objfnc_sum,Timestamp\n",
      "1,-1,1,-1,-1.2822705230205982,-6.00328002463981,27268\n",
      "\n",
      "Starting optimization iteration 38\n",
      "q0,q1,q2,q3,theta,objfnc_sum,Timestamp\n",
      "-1,1,1,1,3.1209461480814324,-14.351319410854902,28125\n",
      "\n",
      "Starting optimization iteration 39\n",
      "q0,q1,q2,q3,theta,objfnc_sum,Timestamp\n",
      "-1,1,1,1,3.0893789027117897,-14.348292852561004,28852\n",
      "\n",
      "Starting optimization iteration 40\n",
      "q0,q1,q2,q3,theta,objfnc_sum,Timestamp\n",
      "-1,-1,1,-1,3.141592653589793,-11.010876192857026,29713\n",
      "\n",
      "Starting optimization iteration 41\n",
      "q0,q1,q2,q3,theta,objfnc_sum,Timestamp\n",
      "-1,-1,-1,-1,-3.136661950950451,-2.4981425069644025,30539\n",
      "\n",
      "Starting optimization iteration 42\n",
      "q0,q1,q2,q3,theta,objfnc_sum,Timestamp\n",
      "-1,1,1,1,-3.1296577556181595,-14.351692990554358,31224\n",
      "\n",
      "Starting optimization iteration 43\n",
      "q0,q1,q2,q3,theta,objfnc_sum,Timestamp\n",
      "-1,1,1,1,-3.1340859010914177,-14.351806304556161,32032\n",
      "\n",
      "Starting optimization iteration 44\n",
      "q0,q1,q2,q3,theta,objfnc_sum,Timestamp\n",
      "-1,1,1,1,-3.138573111199534,-14.351868475194923,32808\n",
      "\n",
      "Starting optimization iteration 45\n",
      "q0,q1,q2,q3,theta,objfnc_sum,Timestamp\n",
      "-1,1,1,1,-3.138346064576899,-14.351866602575196,33609\n",
      "\n",
      "Starting optimization iteration 46\n",
      "q0,q1,q2,q3,theta,objfnc_sum,Timestamp\n",
      "-1,-1,1,1,3.141592653589793,-4.462248657965891,34332\n",
      "\n",
      "Starting optimization iteration 47\n",
      "q0,q1,q2,q3,theta,objfnc_sum,Timestamp\n",
      "-1,1,1,1,3.133513743558064,-14.351794567146886,35176\n",
      "\n",
      "Starting optimization iteration 48\n",
      "q0,q1,q2,q3,theta,objfnc_sum,Timestamp\n",
      "1,1,1,-1,1.9596414772876,-11.27202147143768,35260\n",
      "\n",
      "Starting optimization iteration 49\n",
      "q0,q1,q2,q3,theta,objfnc_sum,Timestamp\n",
      "-1,1,1,1,-3.1414492101678233,-14.351880449119012,36030\n",
      "\n",
      "Starting optimization iteration 50\n",
      "q0,q1,q2,q3,theta,objfnc_sum,Timestamp\n",
      "-1,-1,1,1,-3.1414492101678233,-4.462217862261659,36974\n",
      "\n",
      "End of Bayesian Optimization\n",
      "End of HyperMapper\n",
      "Noncontextual GS energy: -14.351880476202028\n",
      "Symmetry generators:     ['ZIIII', 'IZIII', 'IIZII', 'IIIZI', 'IIIIZ']\n",
      "Clique representatives:  ['XIIII', 'ZIIII']\n",
      "Generator eigenvalues:   [ 1 -1  1  1  1]\n",
      "Clique operator coeffs:  [ 1.2246468e-16 -1.0000000e+00]\n"
     ]
    }
   ],
   "source": [
    "cs = cs_vqe(ham, noncontextual_set=terms_noncon)\n",
    "\n",
    "#match_original = abs(cs.ngs_energy-gs_noncon[0])<1e-13\n",
    "print(\"Noncontextual GS energy:\",  cs.ngs_energy)#, ' // matches original?', match_original)\n",
    "print(\"Symmetry generators:    \", cs.generators)\n",
    "print(\"Clique representatives: \", cs.cliquereps)\n",
    "print(\"Generator eigenvalues:  \", cs.nu)\n",
    "print(\"Clique operator coeffs: \", cs.r)"
   ]
  },
  {
   "cell_type": "code",
   "execution_count": 6,
   "metadata": {},
   "outputs": [
    {
     "name": "stdout",
     "output_type": "stream",
     "text": [
      "Exact energy: -14.4036551080677\n",
      "Noncon error: 0.051774631865670884\n",
      "Target_error for 3 qubits: 0.00032650559488445197\n"
     ]
    }
   ],
   "source": [
    "chemaccnumq = list(np.array(csvqe[2])<0.0016).index(True) #mol['chem_acc_num_q']\n",
    "\n",
    "#exact, gs = exact_gs_energy(cs.hamiltonian)\n",
    "print('Exact energy:',true_gs)\n",
    "print('Noncon error:', cs.ngs_energy-true_gs)\n",
    "print(f'Target_error for {chemaccnumq} qubits:', csvqe[2][chemaccnumq])# exact_gs_energy(mol['ham_reduced'][num_sim_q])[0]-exact)"
   ]
  },
  {
   "cell_type": "markdown",
   "metadata": {},
   "source": [
    "**CS-VQE is sensitive to the choice of stabilizers we wish to enforce.**\n",
    "\n",
    "Below, we drop stabilizer constraints iteratively, choosing that which minimizes the energy at each step."
   ]
  },
  {
   "cell_type": "code",
   "execution_count": 8,
   "metadata": {},
   "outputs": [
    {
     "name": "stdout",
     "output_type": "stream",
     "text": [
      "0.037433368092610664\n",
      "Performing 2-qubit CS-VQE, we may obtain an absolute error of 0.05164941,\n",
      " enforcing the stabilizers [1, 2, 3], ['IZIII', 'IIZII', 'IIIZI']\n",
      "\n",
      "0.030440681243455003\n",
      "Performing 3-qubit CS-VQE, we may obtain an absolute error of 0.03076719,\n",
      " enforcing the stabilizers [3, 4], ['IIIZI', 'IIIIZ']\n",
      "\n",
      "0.013832599802814372\n",
      "Performing 4-qubit CS-VQE, we may obtain an absolute error of 0.01400858,\n",
      " enforcing the stabilizers [4], ['IIIIZ']\n",
      "\n"
     ]
    }
   ],
   "source": [
    "stab_index_pool = list(range(len(cs.generators)))\n",
    "\n",
    "optimal_errors = {}\n",
    "for num_sim_q in range(2,cs.n_qubits):\n",
    "    cs_vqe_errors = []\n",
    "    for order in combinations(range(len(cs.generators)), cs.n_qubits - num_sim_q):\n",
    "        order = list(order)\n",
    "        ham_cs = cs.contextual_subspace_hamiltonian(stabilizer_indices=order)#list(range(cs_vqe_mol.num_qubits)),\n",
    "                                                                    #projection_qubits=order)\n",
    "        cs_energy, cs_vector = exact_gs_energy(ham_cs)\n",
    "        cs_vqe_errors.append((cs_energy-true_gs, order))\n",
    "        \n",
    "    cs_vqe_errors = sorted(cs_vqe_errors, key=lambda x:x[0])\n",
    "    error, stab_index_pool = cs_vqe_errors[0]\n",
    "    \n",
    "    optimal_errors[num_sim_q]={}\n",
    "    optimal_errors[num_sim_q]['error'] = error\n",
    "    optimal_errors[num_sim_q]['stab_indices'] = list(stab_index_pool)\n",
    "    \n",
    "for num_sim_q in optimal_errors:\n",
    "    error = optimal_errors[num_sim_q]['error']\n",
    "    diff_will = error-csvqe[2][num_sim_q]\n",
    "    print(diff_will)\n",
    "    stab_indices = optimal_errors[num_sim_q]['stab_indices']\n",
    "    print(f'Performing {num_sim_q}-qubit CS-VQE, we may obtain',\n",
    "          f'an absolute error of {error:.8f},\\n',\n",
    "          f'enforcing the stabilizers {stab_indices}, {[cs.generators[i] for i in stab_indices]}\\n'\n",
    "         )"
   ]
  },
  {
   "cell_type": "markdown",
   "metadata": {},
   "source": [
    "Suppose we have access to just 3 qubits on some quantum device... then we may construct the corresponding 3-qubit CS-VQE model, obtaining the reduced Hamiltonian, Ansatz operator and noncontextual reference state."
   ]
  },
  {
   "cell_type": "code",
   "execution_count": null,
   "metadata": {},
   "outputs": [],
   "source": [
    "num_sim_q = 4\n",
    "stab_indices = [0,1,2,3]# optimal_errors[num_sim_q]['stab_indices']\n",
    "ham_cs = cs.contextual_subspace_hamiltonian(stabilizer_indices=stab_indices)\n",
    "#anz_cs = cs._contextual_subspace_projection(operator=ansatz,stabilizer_indices=stab_indices)\n",
    "#ngs = cs.noncontextual_ground_state(stabilizer_indices=stab_indices)"
   ]
  },
  {
   "cell_type": "code",
   "execution_count": null,
   "metadata": {},
   "outputs": [],
   "source": [
    "print('Reduced Hamiltonian:\\n', ham_cs)\n",
    "print('\\nReduced Ansatz:\\n', anz_cs)\n",
    "print('\\nReference state:', ngs)"
   ]
  },
  {
   "cell_type": "code",
   "execution_count": null,
   "metadata": {},
   "outputs": [],
   "source": [
    "plot_ground_state_amplitudes(operator=ham_cs, num_qubits=num_sim_q)#, reverse_bitstrings=True)"
   ]
  },
  {
   "cell_type": "markdown",
   "metadata": {},
   "source": [
    "## Running CS-VQE\n",
    "\n",
    "Finally, we may perform a VQE routine taking as input the reduced Hamiltonian and Ansatz defined above."
   ]
  },
  {
   "cell_type": "code",
   "execution_count": null,
   "metadata": {},
   "outputs": [],
   "source": [
    "import warnings; warnings.filterwarnings(\"ignore\", category=DeprecationWarning)\n",
    "import qreduce.utils.circuit_tools as circ\n",
    "import qreduce.utils.circuit_execution_tools as circ_ex\n",
    "from qiskit.circuit import QuantumCircuit"
   ]
  },
  {
   "cell_type": "code",
   "execution_count": null,
   "metadata": {},
   "outputs": [],
   "source": [
    "qc = QuantumCircuit(num_sim_q)\n",
    "for index, bit in enumerate(ngs):\n",
    "    q_pos = num_sim_q-1-index\n",
    "    if int(bit)==1:\n",
    "        qc.x(q_pos)\n",
    "\n",
    "qc = circ.circ_from_paulis(circ=qc, paulis=list(anz_cs.keys()), trot_order=2)\n",
    "circ.cancel_pairs(circ=qc, hit_set={'s', 'sdg'})\n",
    "circ.cancel_pairs(circ=qc, hit_set={'h', 'h'})\n",
    "bounds = np.array([(a-np.pi/2, a+np.pi/2) for a in anz_cs.values()]) # optimization bounds\n",
    "qc.parameter_bounds = bounds\n",
    "\n",
    "qc.draw(output='mpl')"
   ]
  },
  {
   "cell_type": "code",
   "execution_count": null,
   "metadata": {},
   "outputs": [],
   "source": [
    "vqe_result = circ_ex.vqe_simulation(ansatz=qc, operator=ham_cs, init_params=np.array(list(anz_cs.values())))"
   ]
  },
  {
   "cell_type": "code",
   "execution_count": null,
   "metadata": {},
   "outputs": [],
   "source": [
    "log_errors = np.log10(np.square(np.array(vqe_result['values'])-exact))\n",
    "plt.plot(log_errors, color='black', label='Optimizer output')\n",
    "plt.hlines(np.log10(0.0016**2), 0, vqe_result['counts'][-1], label='Chemical accuracy', color='green')\n",
    "plt.legend()"
   ]
  },
  {
   "cell_type": "code",
   "execution_count": null,
   "metadata": {},
   "outputs": [],
   "source": []
  },
  {
   "cell_type": "code",
   "execution_count": null,
   "metadata": {},
   "outputs": [],
   "source": []
  }
 ],
 "metadata": {
  "interpreter": {
   "hash": "ed317ee92954f10b523c05d936162688dce17dc655b6992ddcfe7ac76ca38915"
  },
  "kernelspec": {
   "display_name": "Python 3 (ipykernel)",
   "language": "python",
   "name": "python3"
  },
  "language_info": {
   "codemirror_mode": {
    "name": "ipython",
    "version": 3
   },
   "file_extension": ".py",
   "mimetype": "text/x-python",
   "name": "python",
   "nbconvert_exporter": "python",
   "pygments_lexer": "ipython3",
   "version": "3.8.8"
  }
 },
 "nbformat": 4,
 "nbformat_minor": 2
}
