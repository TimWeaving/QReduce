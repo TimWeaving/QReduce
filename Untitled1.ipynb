{
 "cells": [
  {
   "cell_type": "code",
   "execution_count": 1,
   "id": "a09a2014",
   "metadata": {},
   "outputs": [],
   "source": [
    "from qreduce.utils.SymOp import SymOp\n",
    "from qreduce.utils.symplectic_toolkit import *\n",
    "import numpy as np\n",
    "import json"
   ]
  },
  {
   "cell_type": "code",
   "execution_count": 2,
   "id": "d6d0af97",
   "metadata": {},
   "outputs": [],
   "source": [
    "with open('data/model_data.json', 'r') as infile:\n",
    "        mol_data = json.load(infile)\n",
    "mol_data.keys()\n",
    "ham = mol_data['Be_STO-3G_SINGLET']['ham']"
   ]
  },
  {
   "cell_type": "code",
   "execution_count": 19,
   "id": "9a6ee3a6",
   "metadata": {},
   "outputs": [],
   "source": [
    "#ham = {'II':1, 'XX':1, 'YY':1, 'ZZ':1, 'ZX':1}\n",
    "ham = {'IZIII': -0.2968649524871013, 'ZIIII': 0.4342}"
   ]
  },
  {
   "cell_type": "code",
   "execution_count": 20,
   "id": "c95c15f3",
   "metadata": {},
   "outputs": [],
   "source": [
    "op = SymOp(ham)"
   ]
  },
  {
   "cell_type": "code",
   "execution_count": 23,
   "id": "75c79f55",
   "metadata": {},
   "outputs": [
    {
     "name": "stdout",
     "output_type": "stream",
     "text": [
      "[[0. 0. 0. 0. 0. 0. 1. 0. 0. 0.]\n",
      " [0. 0. 0. 0. 0. 1. 0. 0. 0. 0.]\n",
      " [0. 1. 1. 0. 0. 1. 1. 1. 0. 1.]\n",
      " [0. 0. 0. 0. 0. 1. 0. 0. 0. 0.]]\n",
      "[[-0.20991522]\n",
      " [ 0.30702576]\n",
      " [-0.20991522]\n",
      " [ 0.30702576]]\n"
     ]
    }
   ],
   "source": [
    "test = op.rotate_by('ZXYIZ', clifford=False, angle=np.pi/4)"
   ]
  },
  {
   "cell_type": "code",
   "execution_count": 24,
   "id": "ebe90ab7",
   "metadata": {},
   "outputs": [
    {
     "data": {
      "text/plain": [
       "{'IZIII': -0.2099152210002516,\n",
       " 'ZIIII': 0.3070257643911989,\n",
       " 'ZYYIZ': -0.20991522100025156}"
      ]
     },
     "execution_count": 24,
     "metadata": {},
     "output_type": "execute_result"
    }
   ],
   "source": [
    "test.op_dict"
   ]
  },
  {
   "cell_type": "code",
   "execution_count": 8,
   "id": "08062365",
   "metadata": {},
   "outputs": [
    {
     "data": {
      "text/plain": [
       "{'XXYIZ': 0.2968649524871013j}"
      ]
     },
     "execution_count": 8,
     "metadata": {},
     "output_type": "execute_result"
    }
   ],
   "source": [
    "op.multiply('XYYIZ').op_dict"
   ]
  },
  {
   "cell_type": "code",
   "execution_count": null,
   "id": "b854ebeb",
   "metadata": {},
   "outputs": [],
   "source": []
  }
 ],
 "metadata": {
  "kernelspec": {
   "display_name": "Python 3.8.8 64-bit ('base': conda)",
   "language": "python",
   "name": "python388jvsc74a57bd0eb6daa2278837e04e97c2864c4122c1c6cb8f9447a4df97a85e75ca1772ea36c"
  },
  "language_info": {
   "codemirror_mode": {
    "name": "ipython",
    "version": 3
   },
   "file_extension": ".py",
   "mimetype": "text/x-python",
   "name": "python",
   "nbconvert_exporter": "python",
   "pygments_lexer": "ipython3",
   "version": "3.8.8"
  }
 },
 "nbformat": 4,
 "nbformat_minor": 5
}
