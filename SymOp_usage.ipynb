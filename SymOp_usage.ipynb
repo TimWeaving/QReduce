{
 "cells": [
  {
   "cell_type": "markdown",
   "id": "3fdc91f9",
   "metadata": {},
   "source": [
    "# Symplectic representation of Pauli operators\n",
    "\n",
    "Includes testing against the dictionary method"
   ]
  },
  {
   "cell_type": "code",
   "execution_count": 73,
   "id": "e2c7c99f",
   "metadata": {},
   "outputs": [],
   "source": [
    "from qreduce.utils.SymOp import SymOp\n",
    "from qreduce.utils.symplectic_toolkit import *\n",
    "from qreduce.utils.cs_vqe_tools_legacy import rotate_operator\n",
    "import time\n",
    "import random\n",
    "import numpy as np\n",
    "import json"
   ]
  },
  {
   "cell_type": "code",
   "execution_count": 74,
   "id": "aaf0f917",
   "metadata": {},
   "outputs": [],
   "source": [
    "with open('data/model_data.json', 'r') as infile:\n",
    "        mol_data = json.load(infile)\n",
    "mol_data.keys()\n",
    "ham = mol_data['Be_STO-3G_SINGLET']['ham']"
   ]
  },
  {
   "cell_type": "markdown",
   "id": "b39d9073",
   "metadata": {},
   "source": [
    "#### Given an operator $A = \\sum_{i} \\alpha_i A_i$ in the dictionary representation $\\{A_i:\\alpha_i\\}$, we may initiate the `SymOp` class.\n",
    "\n",
    "This implements the symplectic represention of the operator $A$, where each row of the symplectix matrix has the form $[ x_0 \\dots x_{N-1} | z_0 \\dots z_{N-1} ]$, representing an $N$-qubit Pauli operator\n",
    "$$P= \\Bigg[\\bigotimes_{i=0}^{N-1} (1-x_i) I + x_i X_i\\Bigg] \\Bigg[\\bigotimes_{i=0}^{N-1} (1-z_i) I + z_i Z_i\\Bigg].$$"
   ]
  },
  {
   "cell_type": "code",
   "execution_count": 75,
   "id": "98d738e6",
   "metadata": {},
   "outputs": [
    {
     "name": "stdout",
     "output_type": "stream",
     "text": [
      "Operator in the dictionary representation:\n",
      "\n",
      " {'ZYX': 0.10741609219916726, 'IYI': 0.2808086907398728, 'YIY': 0.18621017520709604, 'XZY': 0.6398039650130074}\n",
      "\n",
      "The operator may be represented by a 2n_q x n_t symplectic matrix:\n",
      "\n",
      " [[0 1 1 1 1 0]\n",
      " [0 1 0 0 1 0]\n",
      " [1 0 1 1 0 1]\n",
      " [1 0 1 0 1 1]]\n",
      "\n",
      "... together with the vector of coefficients:\n",
      "\n",
      " [[0.10741609]\n",
      " [0.28080869]\n",
      " [0.18621018]\n",
      " [0.63980397]]\n",
      "\n",
      "We can also recover the dictionary representation:\n",
      "\n",
      " {'ZYX': 0.10741609219916726, 'IYI': 0.2808086907398728, 'YIY': 0.18621017520709604, 'XZY': 0.6398039650130074}\n"
     ]
    }
   ],
   "source": [
    "paulis = {0:'I', 1:'X', 2:'Y', 3:'Z'}\n",
    "def random_pauli(n_q):\n",
    "    \"\"\" return an n_q qubit Pauli operator at random\n",
    "    \"\"\"\n",
    "    return ''.join([paulis[random.randint(0,3)] for i in range(n_q)])\n",
    "\n",
    "def random_operator(n_q, n_t):\n",
    "    \"\"\" returns a random operator of n_q qubits and n_t terms\n",
    "    \"\"\"\n",
    "    op_dict = {}\n",
    "    while len(op_dict) != n_t:\n",
    "        op_dict[random_pauli(n_q)] = random.uniform(0,1)\n",
    "    return op_dict\n",
    "\n",
    "n_q = 3\n",
    "n_t = 4\n",
    "\n",
    "# Generate random operator with n_q qubits and n_t terms\n",
    "A_dict = random_operator(n_q, n_t)\n",
    "print('Operator in the dictionary representation:\\n\\n', A_dict)\n",
    "\n",
    "# initiate symplectic operator class\n",
    "A = SymOp(A_dict)\n",
    "# print out \n",
    "print('\\nThe operator may be represented by a 2n_q x n_t symplectic matrix:\\n\\n', A._symp)\n",
    "print('\\n... together with the vector of coefficients:\\n\\n', A.cfvec)\n",
    "print('\\nWe can also recover the dictionary representation:\\n\\n', A._dict)"
   ]
  },
  {
   "cell_type": "markdown",
   "id": "8a6ef08d",
   "metadata": {},
   "source": [
    "#### `SymOp` provides a number of methods for extracting information about the operator\n",
    "\n",
    "For example, letting $\\mathrm{sym}(A)$ be the symplectic representation of $A$, we may construct the $n_t \\times n_t$ adjacency matrix \n",
    "$$M = \\mathrm{sym}(A) \\begin{pmatrix}0 & I\\\\I & 0\\end{pmatrix} \\mathrm{sym}(A)^T \\mod{2},\n",
    "$$ which is symmetric and has binary entries. This conveys the following information: \n",
    "\n",
    "$M_{ij} = 0 \\implies [A_i, A_j] = 0$ (they commute), whilst $M_{ij} = 1 \\implies \\{A_i, A_j\\} = 0$ (they anticommute)\n",
    "\n",
    "This is obtain via the `adjacency_matrix` method:"
   ]
  },
  {
   "cell_type": "code",
   "execution_count": 76,
   "id": "3aec8833",
   "metadata": {},
   "outputs": [
    {
     "name": "stdout",
     "output_type": "stream",
     "text": [
      "The adjacency matrix of A:\n",
      "\n",
      " [[0 0 0 1]\n",
      " [0 0 0 1]\n",
      " [0 0 0 1]\n",
      " [1 1 1 0]]\n"
     ]
    }
   ],
   "source": [
    "print('The adjacency matrix of A:\\n\\n', A.adjacency_matrix())"
   ]
  },
  {
   "cell_type": "markdown",
   "id": "8b948661",
   "metadata": {},
   "source": [
    "One might also wish to check which terms of $A$ commute with a given Pauli operator $B$; the `commuting` method returns a commutativity vector where the entries are as above:"
   ]
  },
  {
   "cell_type": "code",
   "execution_count": 77,
   "id": "3c7a8c61",
   "metadata": {},
   "outputs": [
    {
     "name": "stdout",
     "output_type": "stream",
     "text": [
      "Check which terms of A commute with Q = IYX...\n",
      "we obtain a commutivity vector [[0 0 1 0]], where entries are as above.\n"
     ]
    }
   ],
   "source": [
    "B = random_pauli(n_q)\n",
    "print(f'Check which terms of A commute with Q = {B}...')\n",
    "print(f'we obtain a commutivity vector {A.commuting(B).T}, where entries are as above.')"
   ]
  },
  {
   "cell_type": "markdown",
   "id": "1fdb2ace",
   "metadata": {},
   "source": [
    "`SymOp` also allows manipulation of the operator, for example through multiplication using the `multiply` method. Note that multiplication of Paulis corresponds with vector addition modulo 2 in the symplectic formalism, up to a sign which we compensate for with the `phase_by_term` method. Given two Paulis $P, Q$, we have\n",
    "\\begin{equation}\n",
    "\\mathrm{sym}(PQ) = \\alpha_{PQ}(\\mathrm{sym}(P) \\oplus \\mathrm{sym}(Q)) \n",
    "\\end{equation}\n",
    "To apply this multiplication to the full operator sum $A$, we add to each row the vector representing $B$ and multiply by a phase vector determining any relevant phase shift by a factor $\\pm1, \\pm i$.\n",
    "This is tracked termwise with the phase matrix \n",
    "$$M_\\mathrm{phase}=\\begin{pmatrix} 1 &  1  & 1 & 1 \\\\\n",
    "                                  1 &  1  & i&-i\\\\\n",
    "                                  1 & -i & 1 & i\\\\\n",
    "                                  1 &  i &-i& 1 \n",
    "                                  \\end{pmatrix}.$$\n",
    "Each $\\textbf{single qubit}$ Pauli multiplication is given by \n",
    "$$\\mathrm{sym}(PQ) = \\langle ij|M_\\mathrm{phase}|kl \\rangle \\big(\\mathrm{sym}(P) \\oplus \\mathrm{sym}(Q)\\big)$$ \n",
    "where $\\mathrm{sym}(P) = [i | j]$ and $\\mathrm{sym}(Q) = [k | l]$. For multiplication of Pauli strings we take a product over each qubit position..."
   ]
  },
  {
   "cell_type": "code",
   "execution_count": 78,
   "id": "d6babc8c",
   "metadata": {},
   "outputs": [
    {
     "name": "stdout",
     "output_type": "stream",
     "text": [
      "\n",
      "Either from the right:\n",
      "\n",
      " AB =\n",
      " [[0 0 0 1 0 0]\n",
      " [0 0 1 0 0 0]\n",
      " [1 1 0 1 1 1]\n",
      " [1 1 0 0 0 1]],\n",
      "\n",
      "[[ 0.10741609+0.j        ]\n",
      " [ 0.28080869+0.j        ]\n",
      " [ 0.        -0.18621018j]\n",
      " [-0.63980397-0.j        ]] \n",
      "\n",
      "In the dictionary representation:\n",
      " {'ZII': (0.10741609219916726+0j), 'IIX': (0.2808086907398728+0j), 'YYZ': -0.18621017520709604j, 'XXZ': (-0.6398039650130074-0j)}\n",
      "\n",
      "... or the left:\n",
      "\n",
      " BA =\n",
      " [[0 0 0 1 0 0]\n",
      " [0 0 1 0 0 0]\n",
      " [1 1 0 1 1 1]\n",
      " [1 1 0 0 0 1]],\n",
      "\n",
      "[[ 0.10741609+0.j        ]\n",
      " [ 0.28080869+0.j        ]\n",
      " [ 0.        +0.18621018j]\n",
      " [-0.63980397+0.j        ]] \n",
      "\n",
      "In the dictionary representation:\n",
      " {'ZII': (0.10741609219916726+0j), 'IIX': (0.2808086907398728+0j), 'YYZ': 0.18621017520709604j, 'XXZ': (-0.6398039650130074+0j)}\n"
     ]
    }
   ],
   "source": [
    "AB = A.multiply(B,apply_on='right')\n",
    "BA = A.multiply(B,apply_on='left')\n",
    "\n",
    "print(f'\\nEither from the right:\\n\\n AB =\\n {AB._symp},\\n\\n{AB.cfvec} \\n')\n",
    "print('In the dictionary representation:\\n', AB._dict)\n",
    "print(f'\\n... or the left:\\n\\n BA =\\n {BA._symp},\\n\\n{BA.cfvec} \\n')\n",
    "print('In the dictionary representation:\\n', BA._dict)"
   ]
  },
  {
   "cell_type": "markdown",
   "id": "93f11a5f",
   "metadata": {},
   "source": [
    "We are also able to rotate our operator $A$ with respect to a Pauli operator $B$ and some angle $\\theta \\in \\mathbb{R}$. Defining $$R(\\theta) = e^{i \\frac{\\theta}{2} B},$$ one of the following can occur under conjugation:\n",
    "\n",
    "\\begin{equation}\n",
    "\\begin{aligned}\n",
    "R(\\theta) A R^*(\\theta) = A \\hspace{2cm}                    &\\;\\;\\mathrm{when}\\;\\; [A,B] = 0\\\\\n",
    "R(\\theta) A R^*(\\theta) = cos(\\theta) A + sin(\\theta) (iBA) &\\;\\;\\mathrm{when}\\;\\; \\{A,B\\} = 0\n",
    "\\end{aligned}\n",
    "\\end{equation}\n",
    "\n",
    "Note that, when $\\theta=\\frac{\\pi}{2}$, $\\sin(\\theta) = 1$ and $\\cos(\\theta) = 0$, so\n",
    "\\begin{equation}\n",
    "R\\Big(\\frac{\\pi}{2}\\Big) A R^*\\Big(\\frac{\\pi}{2}\\Big) = iBA,\n",
    "\\end{equation}\n",
    "hence the operation is Clifford. This is implemented exactly via the `clifford` flag.\n",
    "\n",
    "The action of this rotation on the operator $A$ is effected by the following transformation on the symplectic matrix:\n",
    "\\begin{equation}\n",
    "\\mathrm{sym}(A)\\Big[\\mathbb{1} \\oplus \\begin{pmatrix}0 & I\\\\I & 0\\end{pmatrix} \\mathrm{sym}(B)^T \\otimes \\mathrm{sym}(B)  \\Big]\n",
    "\\end{equation}\n",
    "up to modification of the coefficient vector by any sign flipping incurred, again using `phase_by_term`."
   ]
  },
  {
   "cell_type": "code",
   "execution_count": 79,
   "id": "4b5ee512",
   "metadata": {},
   "outputs": [
    {
     "name": "stdout",
     "output_type": "stream",
     "text": [
      "R(pi/2) A R*(pi/2) =\n",
      "\n",
      " [[0 1 1 1 1 0]\n",
      " [0 1 0 0 1 0]\n",
      " [1 1 0 1 1 1]\n",
      " [1 0 1 0 1 1]],\n",
      "\n",
      "[[ 0.10741609]\n",
      " [ 0.28080869]\n",
      " [-0.18621018]\n",
      " [ 0.63980397]] \n",
      "\n",
      "In the dictionary representation:\n",
      " {'ZYX': 0.10741609219916726, 'IYI': 0.2808086907398728, 'YYZ': -0.18621017520709604, 'XZY': 0.6398039650130074}\n"
     ]
    }
   ],
   "source": [
    "RARcliff = A.rotate_by(B, clifford=True)\n",
    "print(f'R(pi/2) A R*(pi/2) =\\n\\n {RARcliff._symp},\\n\\n{RARcliff.cfvec} \\n')\n",
    "print('In the dictionary representation:\\n', RARcliff._dict)"
   ]
  },
  {
   "cell_type": "markdown",
   "id": "dc2aad14",
   "metadata": {},
   "source": [
    "For arbitrary $\\theta$, this rotation is not in general Clifford and therefore may result in an increase in the number of terms of the operator:"
   ]
  },
  {
   "cell_type": "code",
   "execution_count": 80,
   "id": "c1f30106",
   "metadata": {},
   "outputs": [
    {
     "name": "stdout",
     "output_type": "stream",
     "text": [
      "R(theta) A R*(theta) =\n",
      "\n",
      " [[0 1 0 0 1 0]\n",
      " [0 1 1 1 1 0]\n",
      " [1 0 1 1 0 1]\n",
      " [1 0 1 0 1 1]\n",
      " [1 1 0 1 1 1]],\n",
      "\n",
      "[[ 0.28080869]\n",
      " [ 0.10741609]\n",
      " [-0.17145618]\n",
      " [ 0.63980397]\n",
      " [ 0.07264301]] \n",
      "\n",
      "In the dictionary representation:\n",
      " {'IYI': 0.2808086907398728, 'ZYX': 0.10741609219916726, 'YIY': -0.17145618125217782, 'XZY': 0.6398039650130074, 'YYZ': 0.07264301247248597}\n",
      "\n",
      "Gained 1 terms under the rotation!\n"
     ]
    }
   ],
   "source": [
    "theta = random.uniform(0,2*np.pi)\n",
    "RARtheta = A.rotate_by(B, clifford=False, angle=theta)\n",
    "print(f'R(theta) A R*(theta) =\\n\\n {RARtheta._symp},\\n\\n{RARtheta.cfvec} \\n')\n",
    "print('In the dictionary representation:\\n', RARtheta._dict)\n",
    "print(f'\\nGained {len(RARtheta._dict) - len(A_dict)} terms under the rotation!')"
   ]
  },
  {
   "cell_type": "markdown",
   "id": "4158253d",
   "metadata": {},
   "source": [
    "### Note that, each time we call the multiply or rotate method, it returns another instance of `SymOp`!\n",
    "\n"
   ]
  },
  {
   "cell_type": "markdown",
   "id": "faca69e2",
   "metadata": {},
   "source": [
    "# Check symplectic and dictionary rotation methods mathch"
   ]
  },
  {
   "cell_type": "code",
   "execution_count": 81,
   "id": "afc342c8",
   "metadata": {},
   "outputs": [
    {
     "name": "stdout",
     "output_type": "stream",
     "text": [
      "All tests passed? True\n"
     ]
    }
   ],
   "source": [
    "paulis = {0:'I', 1:'X', 2:'Y', 3:'Z'}\n",
    "n_q = 10\n",
    "n_t = 100\n",
    "match=[]\n",
    "for i in range(1000):\n",
    "    A    = random_operator(n_q, n_t)\n",
    "    B    = random_pauli(n_q)\n",
    "    angle=random.uniform(0,1)\n",
    "\n",
    "    A_symp = SymOp(A)\n",
    "    test_symp = A_symp.rotate_by(B, clifford=False, angle=angle)\n",
    "    test_dict = rotate_operator(rotations=[(angle, B)], op=A)\n",
    "\n",
    "    #print('Pauli terms match?', set(test_symp._dict.keys()) == set(test_dict.keys()))\n",
    "    coeff_match=[]\n",
    "    for P, coeff in test_symp._dict.items():\n",
    "        #print(abs(coeff-test_dict[P]))\n",
    "        coeff_match.append(abs(coeff-test_dict[P])<1e-15)\n",
    "    coefficients_match = all(coeff_match)\n",
    "    match.append(coeff_match)\n",
    "    #print('Coefficients match?', coefficients_match, '\\n')\n",
    "    #print(test_symp._dict, '\\n')\n",
    "    #print(test_dict)\n",
    "    \n",
    "print('All tests passed?', all(match))"
   ]
  },
  {
   "cell_type": "markdown",
   "id": "6b9971d2",
   "metadata": {},
   "source": [
    "# Speed test"
   ]
  },
  {
   "cell_type": "code",
   "execution_count": 38,
   "id": "382dbe00",
   "metadata": {},
   "outputs": [],
   "source": [
    "n_samples = 100\n",
    "\n",
    "def dict_method():\n",
    "    samples=[]\n",
    "    for i in range(n_samples):\n",
    "        start = time.time()\n",
    "        rotate_operator(rotations=[(np.pi/2, B)], op=A)\n",
    "        end = time.time()\n",
    "        samples.append(end - start)\n",
    "    avg = sum(samples)/n_samples\n",
    "    return avg\n",
    "    \n",
    "def symp_method():\n",
    "    samples=[]\n",
    "    for i in range(n_samples):\n",
    "        start = time.time()\n",
    "        A_symp.rotate_by(B, clifford=False, angle=angle)\n",
    "        end = time.time()\n",
    "        samples.append(end - start)\n",
    "    avg = sum(samples)/n_samples\n",
    "    return avg"
   ]
  },
  {
   "cell_type": "code",
   "execution_count": 71,
   "id": "51d2dab8",
   "metadata": {},
   "outputs": [],
   "source": [
    "avg_runtime={'dict':[], 'symp':[]}\n",
    "X = list(range(5, 10))\n",
    "for n_q in X:\n",
    "    #n_q = n_t\n",
    "    n_t = 1000\n",
    "\n",
    "    A    = random_operator(n_q, n_t)\n",
    "    B    = random_pauli(n_q)\n",
    "    angle=random.uniform(0,1)\n",
    "    A_symp=SymOp(A)\n",
    "    \n",
    "    avg_runtime['dict'].append(dict_method())\n",
    "    avg_runtime['symp'].append(symp_method())\n",
    "\n"
   ]
  },
  {
   "cell_type": "code",
   "execution_count": 72,
   "id": "d74b354a",
   "metadata": {},
   "outputs": [
    {
     "data": {
      "text/plain": [
       "<matplotlib.legend.Legend at 0x7ff6daf45cd0>"
      ]
     },
     "execution_count": 72,
     "metadata": {},
     "output_type": "execute_result"
    },
    {
     "data": {
      "image/png": "[encoded data removed]",
      "text/plain": [
       "<Figure size 432x288 with 1 Axes>"
      ]
     },
     "metadata": {},
     "output_type": "display_data"
    }
   ],
   "source": [
    "from matplotlib import pyplot as plt\n",
    "plt.style.use('ggplot')\n",
    "\n",
    "Y_dict = avg_runtime['dict']\n",
    "Y_symp = avg_runtime['symp']\n",
    "\n",
    "plt.plot(X, Y_dict, label='Dictionary method', color='red')\n",
    "plt.plot(X, Y_symp, label='Symplectic method', color='green')\n",
    "plt.legend()"
   ]
  },
  {
   "cell_type": "code",
   "execution_count": null,
   "id": "c6daed4b",
   "metadata": {},
   "outputs": [],
   "source": []
  },
  {
   "cell_type": "code",
   "execution_count": null,
   "id": "90086215",
   "metadata": {},
   "outputs": [],
   "source": []
  }
 ],
 "metadata": {
  "kernelspec": {
   "display_name": "Python 3.8.8 64-bit ('base': conda)",
   "language": "python",
   "name": "python388jvsc74a57bd0eb6daa2278837e04e97c2864c4122c1c6cb8f9447a4df97a85e75ca1772ea36c"
  },
  "language_info": {
   "codemirror_mode": {
    "name": "ipython",
    "version": 3
   },
   "file_extension": ".py",
   "mimetype": "text/x-python",
   "name": "python",
   "nbconvert_exporter": "python",
   "pygments_lexer": "ipython3",
   "version": "3.8.8"
  }
 },
 "nbformat": 4,
 "nbformat_minor": 5
}
