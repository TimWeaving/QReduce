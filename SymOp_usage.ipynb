{
 "cells": [
  {
   "cell_type": "markdown",
   "id": "3fdc91f9",
   "metadata": {},
   "source": [
    "# Symplectic representation of Pauli operators\n",
    "\n",
    "Includes testing against the dictionary method"
   ]
  },
  {
   "cell_type": "code",
   "execution_count": 1,
   "id": "e2c7c99f",
   "metadata": {},
   "outputs": [],
   "source": [
    "from qreduce.utils.operator import operator\n",
    "from qreduce.utils.symplectic_toolkit import *\n",
    "from qreduce.utils.cs_vqe_tools_legacy import rotate_operator\n",
    "import time\n",
    "import random\n",
    "import numpy as np\n",
    "import json"
   ]
  },
  {
   "cell_type": "code",
   "execution_count": 2,
   "id": "aaf0f917",
   "metadata": {},
   "outputs": [],
   "source": [
    "with open('data/model_data.json', 'r') as infile:\n",
    "        mol_data = json.load(infile)\n",
    "mol_data.keys()\n",
    "ham = mol_data['Be_STO-3G_SINGLET']['ham']"
   ]
  },
  {
   "cell_type": "markdown",
   "id": "b39d9073",
   "metadata": {},
   "source": [
    "#### Given an operator $A = \\sum_{i} \\alpha_i A_i$ in the dictionary representation $\\{A_i:\\alpha_i\\}$, we may initiate the `SymOp` class.\n",
    "\n",
    "This implements the symplectic represention of the operator $A$, where each row of the symplectix matrix has the form $[ x_0 \\dots x_{N-1} | z_0 \\dots z_{N-1} ]$, representing an $N$-qubit Pauli operator\n",
    "$$P= \\Bigg[\\bigotimes_{i=0}^{N-1} (1-x_i) I + x_i X_i\\Bigg] \\Bigg[\\bigotimes_{i=0}^{N-1} (1-z_i) I + z_i Z_i\\Bigg].$$"
   ]
  },
  {
   "cell_type": "code",
   "execution_count": 3,
   "id": "98d738e6",
   "metadata": {},
   "outputs": [
    {
     "name": "stdout",
     "output_type": "stream",
     "text": [
      "Operator in the dictionary representation:\n",
      "\n",
      " {'IXZ': 0.19275236768283377, 'XYX': 0.8591560495464317, 'YXI': 0.04758620571191208, 'ZIX': 0.5632355228901439}\n",
      "\n",
      "The operator may be represented by a 2n_q x n_t symplectic matrix:\n",
      "\n",
      " [[0 1 0 0 0 1]\n",
      " [1 1 1 0 1 0]\n",
      " [1 1 0 1 0 0]\n",
      " [0 0 1 1 0 0]]\n",
      "\n",
      "... together with the vector of coefficients:\n",
      "\n",
      " [[0.19275237]\n",
      " [0.85915605]\n",
      " [0.04758621]\n",
      " [0.56323552]]\n",
      "\n",
      "We can also recover the dictionary representation:\n",
      "\n",
      " {'IXZ': 0.19275236768283377, 'XYX': 0.8591560495464317, 'YXI': 0.04758620571191208, 'ZIX': 0.5632355228901439}\n"
     ]
    }
   ],
   "source": [
    "paulis = {0:'I', 1:'X', 2:'Y', 3:'Z'}\n",
    "def random_pauli(n_q):\n",
    "    \"\"\" return an n_q qubit Pauli operator at random\n",
    "    \"\"\"\n",
    "    return ''.join([paulis[random.randint(0,3)] for i in range(n_q)])\n",
    "\n",
    "def random_operator(n_q, n_t):\n",
    "    \"\"\" returns a random operator of n_q qubits and n_t terms\n",
    "    \"\"\"\n",
    "    op_dict = {}\n",
    "    while len(op_dict) != n_t:\n",
    "        op_dict[random_pauli(n_q)] = random.uniform(0,1)\n",
    "    return op_dict\n",
    "\n",
    "n_q = 3\n",
    "n_t = 4\n",
    "\n",
    "# Generate random operator with n_q qubits and n_t terms\n",
    "A_dict = random_operator(n_q, n_t)\n",
    "print('Operator in the dictionary representation:\\n\\n', A_dict)\n",
    "\n",
    "# initiate symplectic operator class\n",
    "A = operator(A_dict)\n",
    "# print out \n",
    "print('\\nThe operator may be represented by a 2n_q x n_t symplectic matrix:\\n\\n', A._symp)\n",
    "print('\\n... together with the vector of coefficients:\\n\\n', A.cfvec)\n",
    "print('\\nWe can also recover the dictionary representation:\\n\\n', A._dict)"
   ]
  },
  {
   "cell_type": "markdown",
   "id": "8a6ef08d",
   "metadata": {},
   "source": [
    "#### `SymOp` provides a number of methods for extracting information about the operator\n",
    "\n",
    "For example, letting $\\mathrm{sym}(A)$ be the symplectic representation of $A$, we may construct the $n_t \\times n_t$ adjacency matrix \n",
    "$$M = \\mathrm{sym}(A) \\begin{pmatrix}0 & I\\\\I & 0\\end{pmatrix} \\mathrm{sym}(A)^T \\mod{2},\n",
    "$$ which is symmetric and has binary entries. This conveys the following information: \n",
    "\n",
    "$M_{ij} = 0 \\implies [A_i, A_j] = 0$ (they commute), whilst $M_{ij} = 1 \\implies \\{A_i, A_j\\} = 0$ (they anticommute)\n",
    "\n",
    "This is obtain via the `adjacency_matrix` method:"
   ]
  },
  {
   "cell_type": "code",
   "execution_count": 4,
   "id": "3aec8833",
   "metadata": {},
   "outputs": [
    {
     "name": "stdout",
     "output_type": "stream",
     "text": [
      "The adjacency matrix of A:\n",
      "\n",
      " [[0 0 0 1]\n",
      " [0 0 0 1]\n",
      " [0 0 0 1]\n",
      " [1 1 1 0]]\n"
     ]
    }
   ],
   "source": [
    "print('The adjacency matrix of A:\\n\\n', A.adjacency_matrix())"
   ]
  },
  {
   "cell_type": "markdown",
   "id": "8b948661",
   "metadata": {},
   "source": [
    "One might also wish to check which terms of $A$ commute with a given Pauli operator $B$; the `commuting` method returns a commutativity vector where the entries are as above:"
   ]
  },
  {
   "cell_type": "code",
   "execution_count": 5,
   "id": "3c7a8c61",
   "metadata": {},
   "outputs": [
    {
     "name": "stdout",
     "output_type": "stream",
     "text": [
      "Check which terms of A commute with Q = ZII...\n",
      "we obtain a commutivity vector [[0 1 1 0]], where entries are as above.\n"
     ]
    }
   ],
   "source": [
    "B = random_pauli(n_q)\n",
    "print(f'Check which terms of A commute with Q = {B}...')\n",
    "print(f'we obtain a commutivity vector {A.commuting(B).T}, where entries are as above.')"
   ]
  },
  {
   "cell_type": "markdown",
   "id": "1fdb2ace",
   "metadata": {},
   "source": [
    "`SymOp` also allows manipulation of the operator, for example through multiplication using the `multiply` method. Note that multiplication of Paulis corresponds with vector addition modulo 2 in the symplectic formalism, up to a sign which we compensate for with the `phase_by_term` method. Given two Paulis $P, Q$, we have\n",
    "\\begin{equation}\n",
    "\\mathrm{sym}(PQ) = \\alpha_{PQ}(\\mathrm{sym}(P) \\oplus \\mathrm{sym}(Q)) \n",
    "\\end{equation}\n",
    "To apply this multiplication to the full operator sum $A$, we add to each row the vector representing $B$ and multiply by a phase vector determining any relevant phase shift by a factor $\\pm1, \\pm i$.\n",
    "This is tracked termwise with the phase matrix \n",
    "$$M_\\mathrm{phase}=\\begin{pmatrix} 1 &  1  & 1 & 1 \\\\\n",
    "                                  1 &  1  & i&-i\\\\\n",
    "                                  1 & -i & 1 & i\\\\\n",
    "                                  1 &  i &-i& 1 \n",
    "                                  \\end{pmatrix}.$$\n",
    "Each $\\textbf{single qubit}$ Pauli multiplication is given by \n",
    "$$\\mathrm{sym}(PQ) = \\langle ij|M_\\mathrm{phase}|kl \\rangle \\big(\\mathrm{sym}(P) \\oplus \\mathrm{sym}(Q)\\big)$$ \n",
    "where $\\mathrm{sym}(P) = [i | j]$ and $\\mathrm{sym}(Q) = [k | l]$. For multiplication of Pauli strings we take a product over each qubit position..."
   ]
  },
  {
   "cell_type": "code",
   "execution_count": 6,
   "id": "d6babc8c",
   "metadata": {},
   "outputs": [
    {
     "name": "stdout",
     "output_type": "stream",
     "text": [
      "\n",
      "Either from the right:\n",
      "\n",
      " AB =\n",
      " [[0 1 0 1 0 1]\n",
      " [1 1 1 1 1 0]\n",
      " [1 1 0 0 0 0]\n",
      " [0 0 1 0 0 0]],\n",
      "\n",
      "[[0.19275237+0.j        ]\n",
      " [0.        -0.85915605j]\n",
      " [0.        +0.04758621j]\n",
      " [0.56323552+0.j        ]] \n",
      "\n",
      "In the dictionary representation:\n",
      " {'ZXZ': (0.19275236768283377+0j), 'YYX': -0.8591560495464317j, 'XXI': 0.04758620571191208j, 'IIX': (0.5632355228901439+0j)}\n",
      "\n",
      "... or the left:\n",
      "\n",
      " BA =\n",
      " [[0 1 0 1 0 1]\n",
      " [1 1 1 1 1 0]\n",
      " [1 1 0 0 0 0]\n",
      " [0 0 1 0 0 0]],\n",
      "\n",
      "[[0.19275237+0.j        ]\n",
      " [0.        +0.85915605j]\n",
      " [0.        -0.04758621j]\n",
      " [0.56323552+0.j        ]] \n",
      "\n",
      "In the dictionary representation:\n",
      " {'ZXZ': (0.19275236768283377+0j), 'YYX': 0.8591560495464317j, 'XXI': -0.04758620571191208j, 'IIX': (0.5632355228901439+0j)}\n"
     ]
    }
   ],
   "source": [
    "AB = A.multiply(B,apply_on='right')\n",
    "BA = A.multiply(B,apply_on='left')\n",
    "\n",
    "print(f'\\nEither from the right:\\n\\n AB =\\n {AB._symp},\\n\\n{AB.cfvec} \\n')\n",
    "print('In the dictionary representation:\\n', AB._dict)\n",
    "print(f'\\n... or the left:\\n\\n BA =\\n {BA._symp},\\n\\n{BA.cfvec} \\n')\n",
    "print('In the dictionary representation:\\n', BA._dict)"
   ]
  },
  {
   "cell_type": "markdown",
   "id": "93f11a5f",
   "metadata": {},
   "source": [
    "We are also able to rotate our operator $A$ with respect to a Pauli operator $B$ and some angle $\\theta \\in \\mathbb{R}$. Defining $$R(\\theta) = e^{i \\frac{\\theta}{2} B},$$ one of the following can occur under conjugation:\n",
    "\n",
    "\\begin{equation}\n",
    "\\begin{aligned}\n",
    "R(\\theta) A R^*(\\theta) = A \\hspace{2cm}                    &\\;\\;\\mathrm{when}\\;\\; [A,B] = 0\\\\\n",
    "R(\\theta) A R^*(\\theta) = cos(\\theta) A + sin(\\theta) (iBA) &\\;\\;\\mathrm{when}\\;\\; \\{A,B\\} = 0\n",
    "\\end{aligned}\n",
    "\\end{equation}\n",
    "\n",
    "Note that, when $\\theta=\\frac{\\pi}{2}$, $\\sin(\\theta) = 1$ and $\\cos(\\theta) = 0$, so\n",
    "\\begin{equation}\n",
    "R\\Big(\\frac{\\pi}{2}\\Big) A R^*\\Big(\\frac{\\pi}{2}\\Big) = iBA,\n",
    "\\end{equation}\n",
    "hence the operation is Clifford. This is implemented exactly via the `clifford` flag.\n",
    "\n",
    "The action of this rotation on the operator $A$ is effected by the following transformation on the symplectic matrix:\n",
    "\\begin{equation}\n",
    "\\mathrm{sym}(A)\\Big[\\mathbb{1} \\oplus \\begin{pmatrix}0 & I\\\\I & 0\\end{pmatrix} \\mathrm{sym}(B)^T \\otimes \\mathrm{sym}(B)  \\Big]\n",
    "\\end{equation}\n",
    "up to modification of the coefficient vector by any sign flipping incurred, again using `phase_by_term`."
   ]
  },
  {
   "cell_type": "code",
   "execution_count": 7,
   "id": "4b5ee512",
   "metadata": {},
   "outputs": [
    {
     "name": "stdout",
     "output_type": "stream",
     "text": [
      "R(pi/2) A R*(pi/2) =\n",
      "\n",
      " [[0 1 0 0 0 1]\n",
      " [1 1 1 1 1 0]\n",
      " [1 1 0 0 0 0]\n",
      " [0 0 1 1 0 0]],\n",
      "\n",
      "[[ 0.19275237]\n",
      " [-0.85915605]\n",
      " [ 0.04758621]\n",
      " [ 0.56323552]] \n",
      "\n",
      "In the dictionary representation:\n",
      " {'IXZ': 0.19275236768283377, 'YYX': -0.8591560495464317, 'XXI': 0.04758620571191208, 'ZIX': 0.5632355228901439}\n"
     ]
    }
   ],
   "source": [
    "RARcliff = A.rotate_by(B, clifford=True)\n",
    "print(f'R(pi/2) A R*(pi/2) =\\n\\n {RARcliff._symp},\\n\\n{RARcliff.cfvec} \\n')\n",
    "print('In the dictionary representation:\\n', RARcliff._dict)"
   ]
  },
  {
   "cell_type": "markdown",
   "id": "dc2aad14",
   "metadata": {},
   "source": [
    "For arbitrary $\\theta$, this rotation is not in general Clifford and therefore may result in an increase in the number of terms of the operator:"
   ]
  },
  {
   "cell_type": "code",
   "execution_count": 8,
   "id": "c1f30106",
   "metadata": {},
   "outputs": [
    {
     "name": "stdout",
     "output_type": "stream",
     "text": [
      "R(theta) A R*(theta) =\n",
      "\n",
      " [[0 1 0 0 0 1]\n",
      " [1 1 1 0 1 0]\n",
      " [1 1 1 1 1 0]\n",
      " [1 1 0 1 0 0]\n",
      " [1 1 0 0 0 0]\n",
      " [0 0 1 1 0 0]],\n",
      "\n",
      "[[ 0.19275237]\n",
      " [ 0.50340559]\n",
      " [ 0.69622692]\n",
      " [ 0.0278822 ]\n",
      " [-0.03856203]\n",
      " [ 0.56323552]] \n",
      "\n",
      "In the dictionary representation:\n",
      " {'IXZ': 0.19275236768283377, 'XYX': 0.5034055929544224, 'YYX': 0.6962269216673805, 'YXI': 0.027882201511009213, 'XXI': -0.038562025529734416, 'ZIX': 0.5632355228901439}\n",
      "\n",
      "Gained 2 terms under the rotation!\n"
     ]
    }
   ],
   "source": [
    "theta = random.uniform(0,2*np.pi)\n",
    "RARtheta = A.rotate_by(B, clifford=False, angle=theta)\n",
    "print(f'R(theta) A R*(theta) =\\n\\n {RARtheta._symp},\\n\\n{RARtheta.cfvec} \\n')\n",
    "print('In the dictionary representation:\\n', RARtheta._dict)\n",
    "print(f'\\nGained {len(RARtheta._dict) - len(A_dict)} terms under the rotation!')"
   ]
  },
  {
   "cell_type": "markdown",
   "id": "4158253d",
   "metadata": {},
   "source": [
    "### Note that, each time we call the multiply or rotate method, it returns another instance of `SymOp`!\n",
    "\n"
   ]
  },
  {
   "cell_type": "markdown",
   "id": "faca69e2",
   "metadata": {},
   "source": [
    "# Check symplectic and dictionary rotation methods mathch"
   ]
  },
  {
   "cell_type": "code",
   "execution_count": 9,
   "id": "afc342c8",
   "metadata": {},
   "outputs": [
    {
     "name": "stdout",
     "output_type": "stream",
     "text": [
      "All tests passed? True\n"
     ]
    }
   ],
   "source": [
    "paulis = {0:'I', 1:'X', 2:'Y', 3:'Z'}\n",
    "n_q = 10\n",
    "n_t = 100\n",
    "match=[]\n",
    "for i in range(1000):\n",
    "    A    = random_operator(n_q, n_t)\n",
    "    B    = random_pauli(n_q)\n",
    "    angle=random.uniform(0,1)\n",
    "\n",
    "    A_symp = operator(A)\n",
    "    test_symp = A_symp.rotate_by(B, clifford=False, angle=angle)\n",
    "    test_dict = rotate_operator(rotations=[(angle, B)], op=A)\n",
    "\n",
    "    #print('Pauli terms match?', set(test_symp._dict.keys()) == set(test_dict.keys()))\n",
    "    coeff_match=[]\n",
    "    for P, coeff in test_symp._dict.items():\n",
    "        #print(abs(coeff-test_dict[P]))\n",
    "        coeff_match.append(abs(coeff-test_dict[P])<1e-15)\n",
    "    coefficients_match = all(coeff_match)\n",
    "    match.append(coeff_match)\n",
    "    #print('Coefficients match?', coefficients_match, '\\n')\n",
    "    #print(test_symp._dict, '\\n')\n",
    "    #print(test_dict)\n",
    "    \n",
    "print('All tests passed?', all(match))"
   ]
  },
  {
   "cell_type": "markdown",
   "id": "6b9971d2",
   "metadata": {},
   "source": [
    "# Speed test"
   ]
  },
  {
   "cell_type": "code",
   "execution_count": 10,
   "id": "382dbe00",
   "metadata": {},
   "outputs": [],
   "source": [
    "n_samples = 100\n",
    "\n",
    "def will_dict_method():\n",
    "    samples=[]\n",
    "    for i in range(n_samples):\n",
    "        start = time.time()\n",
    "        rotate_operator(rotations=[(angle, B)], op=A)\n",
    "        end = time.time()\n",
    "        samples.append(end - start)\n",
    "    avg = sum(samples)/n_samples\n",
    "    return avg\n",
    "\n",
    "def tim_dict_method():\n",
    "    samples=[]\n",
    "    for i in range(n_samples):\n",
    "        start = time.time()\n",
    "        A_symp.rotate_by(B, clifford=False, angle=angle)\n",
    "        end = time.time()\n",
    "        samples.append(end - start)\n",
    "    avg = sum(samples)/n_samples\n",
    "    return avg\n",
    "    \n",
    "def symp_method():\n",
    "    samples=[]\n",
    "    for i in range(n_samples):\n",
    "        start = time.time()\n",
    "        A_symp.rotate_by(B, clifford=False, angle=angle, rot_type='symp')\n",
    "        end = time.time()\n",
    "        samples.append(end - start)\n",
    "    avg = sum(samples)/n_samples\n",
    "    return avg"
   ]
  },
  {
   "cell_type": "code",
   "execution_count": null,
   "id": "51d2dab8",
   "metadata": {},
   "outputs": [],
   "source": [
    "avg_runtime={'wdict':[],'tdict':[], 'symp':[]}\n",
    "X = list(range(2, 100))\n",
    "for n_q in X:\n",
    "    #n_q = n_t\n",
    "    n_t = 10\n",
    "\n",
    "    A    = random_operator(n_q, n_t)\n",
    "    B    = random_pauli(n_q)\n",
    "    angle=random.uniform(0,1)\n",
    "    A_symp=operator(A)\n",
    "    \n",
    "    avg_runtime['wdict'].append(will_dict_method())\n",
    "    avg_runtime['tdict'].append(tim_dict_method())\n",
    "    avg_runtime['symp'].append(symp_method())\n",
    "\n"
   ]
  },
  {
   "cell_type": "code",
   "execution_count": null,
   "id": "d74b354a",
   "metadata": {},
   "outputs": [],
   "source": [
    "from matplotlib import pyplot as plt\n",
    "plt.style.use('ggplot')\n",
    "\n",
    "Y_wdict = avg_runtime['wdict']\n",
    "Y_tdict = avg_runtime['tdict']\n",
    "Y_symp = avg_runtime['symp']\n",
    "\n",
    "plt.plot(X, Y_wdict, label='Will Dictionary method', color='red')\n",
    "plt.plot(X, Y_tdict, label='Tim Dictionary method', color='orange')\n",
    "plt.plot(X, Y_symp, label='Symplectic method', color='green')\n",
    "plt.ylabel('Runtime (S)')\n",
    "plt.xlabel('# qubits')\n",
    "plt.legend()"
   ]
  },
  {
   "cell_type": "code",
   "execution_count": null,
   "id": "6eb43413",
   "metadata": {},
   "outputs": [],
   "source": []
  }
 ],
 "metadata": {
  "kernelspec": {
   "display_name": "Python 3.8.8 64-bit ('base': conda)",
   "language": "python",
   "name": "python388jvsc74a57bd0eb6daa2278837e04e97c2864c4122c1c6cb8f9447a4df97a85e75ca1772ea36c"
  },
  "language_info": {
   "codemirror_mode": {
    "name": "ipython",
    "version": 3
   },
   "file_extension": ".py",
   "mimetype": "text/x-python",
   "name": "python",
   "nbconvert_exporter": "python",
   "pygments_lexer": "ipython3",
   "version": "3.8.8"
  }
 },
 "nbformat": 4,
 "nbformat_minor": 5
}
