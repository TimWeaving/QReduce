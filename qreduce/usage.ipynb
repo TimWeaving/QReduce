{
 "cells": [
  {
   "cell_type": "code",
   "execution_count": null,
   "metadata": {},
   "outputs": [],
   "source": [
    "from cs_vqe import cs_vqe_model\n",
    "import utils\n",
    "from itertools import combinations\n",
    "import json\n",
    "import numpy as np"
   ]
  },
  {
   "cell_type": "code",
   "execution_count": null,
   "metadata": {},
   "outputs": [],
   "source": [
    "with open('model_data.json', 'r') as infile:\n",
    "        mol_data = json.load(infile)\n",
    "mol=mol_data['HF_STO-3G_SINGLET']\n",
    "ham=mol['ham']\n",
    "n_q=mol['num_qubits']\n",
    "set_nc = mol['terms_noncon']\n",
    "cs_vqe_mol = cs_vqe_model(ham, n_q, noncontextual_set = set_nc)"
   ]
  },
  {
   "cell_type": "code",
   "execution_count": null,
   "metadata": {},
   "outputs": [],
   "source": [
    "print(\"Generators:\", cs_vqe_mol.generators)\n",
    "print(\"Clique reps:\", cs_vqe_mol.cliquereps)\n",
    "print(\"Noncon nrg:\", cs_vqe_mol.ngs_energy)\n",
    "print(\"G assignment:\", cs_vqe_mol.nu)\n",
    "print(\"r vector:\", cs_vqe_mol.r)\n",
    "print(\"Stabilizers:\", cs_vqe_mol.stabilizers)\n",
    "print(\"Stab qubits:\", cs_vqe_mol.stab_qubits)"
   ]
  },
  {
   "cell_type": "code",
   "execution_count": null,
   "metadata": {},
   "outputs": [],
   "source": [
    "exact = utils.exact_gs_energy(cs_vqe_mol.ham)\n",
    "print('\\n exact:',exact)\n",
    "print('Noncon error:', cs_vqe_mol.ngs_energy-exact, '\\n')\n",
    "for comb in combinations(range(n_q), 1):\n",
    "    comb=list(comb)\n",
    "    ham_cs = cs_vqe_mol.contextual_subspace_hamiltonian(comb)\n",
    "    #print(ham_cs)\n",
    "    cs_energy = utils.exact_gs_energy(ham_cs)\n",
    "    print(f'error for qubits {comb}:', cs_energy-exact)"
   ]
  },
  {
   "cell_type": "code",
   "execution_count": null,
   "metadata": {},
   "outputs": [],
   "source": []
  }
 ],
 "metadata": {
  "interpreter": {
   "hash": "ed317ee92954f10b523c05d936162688dce17dc655b6992ddcfe7ac76ca38915"
  },
  "kernelspec": {
   "display_name": "Python 3.7.1 64-bit ('base': conda)",
   "language": "python",
   "name": "python3"
  },
  "language_info": {
   "codemirror_mode": {
    "name": "ipython",
    "version": 3
   },
   "file_extension": ".py",
   "mimetype": "text/x-python",
   "name": "python",
   "nbconvert_exporter": "python",
   "pygments_lexer": "ipython3",
   "version": "3.7.1"
  },
  "orig_nbformat": 4
 },
 "nbformat": 4,
 "nbformat_minor": 2
}
